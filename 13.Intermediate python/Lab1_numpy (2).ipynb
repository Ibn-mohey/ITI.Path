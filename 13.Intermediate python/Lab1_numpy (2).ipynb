{
 "cells": [
  {
   "cell_type": "code",
   "execution_count": 13,
   "metadata": {},
   "outputs": [],
   "source": [
    "import numpy as np\n",
    "import cv2 \n"
   ]
  },
  {
   "cell_type": "markdown",
   "metadata": {},
   "source": [
    "# Q1: implement a linear regression model\n",
    "data row1 > header \n",
    " ### 1: data preprocessing \n",
    "       #i. apply to_add array to data where element 1 added to row 1 , element 2 added to row 2 and so on \n",
    "       #ii.apply to_Mult array to the data row by to \n",
    " ### 2: get the prediction values using the hyposis function weight array (regression_model)"
   ]
  },
  {
   "cell_type": "code",
   "execution_count": 25,
   "metadata": {},
   "outputs": [],
   "source": [
    "Data= np.array([[1000,1001,1002,1003],\n",
    "                [8,18,28,38],\n",
    "               [16,26,36,46],\n",
    "               [4,14,24,44]],dtype=\"int64\")\n",
    "\n",
    "to_add=np.array([2,4,6])\n",
    "to_mult=np.array([10,100,1000,1000])\n",
    "regression_model=np.array([2,4,6,8])"
   ]
  },
  {
   "cell_type": "code",
   "execution_count": 26,
   "metadata": {
    "scrolled": true
   },
   "outputs": [
    {
     "data": {
      "text/plain": [
       "array([[ 8, 18, 28, 38],\n",
       "       [16, 26, 36, 46],\n",
       "       [ 4, 14, 24, 44]], dtype=int64)"
      ]
     },
     "execution_count": 26,
     "metadata": {},
     "output_type": "execute_result"
    }
   ],
   "source": [
    "##step1 print dataset without header row\n",
    "data_c = Data[1:,:]\n",
    "data_c"
   ]
  },
  {
   "cell_type": "code",
   "execution_count": 27,
   "metadata": {
    "scrolled": true
   },
   "outputs": [
    {
     "data": {
      "text/plain": [
       "array([[10, 20, 30, 40],\n",
       "       [20, 30, 40, 50],\n",
       "       [10, 20, 30, 50]], dtype=int64)"
      ]
     },
     "execution_count": 27,
     "metadata": {},
     "output_type": "execute_result"
    }
   ],
   "source": [
    "###step2 i. to_Add\n",
    "data_added = data_c + to_add.reshape(-1,1)\n",
    "data_added"
   ]
  },
  {
   "cell_type": "code",
   "execution_count": 36,
   "metadata": {},
   "outputs": [
    {
     "data": {
      "text/plain": [
       "array([[  100,  2000, 30000, 40000],\n",
       "       [  200,  3000, 40000, 50000],\n",
       "       [  100,  2000, 30000, 50000]], dtype=int64)"
      ]
     },
     "execution_count": 36,
     "metadata": {},
     "output_type": "execute_result"
    }
   ],
   "source": [
    "##step3 ii. to_MUlt\n",
    "data_mult =  (data_added.T * to_mult.reshape(-1,1)).T\n",
    "data_mult"
   ]
  },
  {
   "cell_type": "code",
   "execution_count": 42,
   "metadata": {},
   "outputs": [
    {
     "data": {
      "text/plain": [
       "array([[508200],\n",
       "       [652400],\n",
       "       [588200]], dtype=int64)"
      ]
     },
     "execution_count": 42,
     "metadata": {},
     "output_type": "execute_result"
    }
   ],
   "source": [
    "###step4 prediction results\n",
    "prediction = data_mult @ regression_model\n",
    "prediction.reshape(-1,1)"
   ]
  },
  {
   "cell_type": "markdown",
   "metadata": {},
   "source": [
    "# Q2. Transformation\n",
    "\n",
    "### apply crop , rotation  to the image \n",
    "\n",
    "#1: convert image from  BGR scale to Gray , Red ,Green & Blue scale\n",
    "#2: crop the right  half\n",
    "#3: crop the right bottom quarter\n",
    "#4: zoom in by remove the quarter border from all sides \n",
    "#5: flip on x-axis \n",
    "#6: flip on y-axis "
   ]
  },
  {
   "cell_type": "code",
   "execution_count": 2,
   "metadata": {},
   "outputs": [],
   "source": [
    "import cv2 \n",
    "image=cv2.imread(\"image.jpg\") ### in_BGR\n",
    "cv2.imshow(\"original_image\",image)\n",
    "cv2.waitKey(0)\n",
    "cv2.destroyAllWindows()"
   ]
  },
  {
   "cell_type": "code",
   "execution_count": 39,
   "metadata": {
    "collapsed": true
   },
   "outputs": [
    {
     "data": {
      "text/plain": [
       "array([[[246, 236, 236],\n",
       "        [247, 237, 237],\n",
       "        [248, 238, 238],\n",
       "        ...,\n",
       "        [250, 242, 235],\n",
       "        [250, 242, 235],\n",
       "        [250, 242, 235]],\n",
       "\n",
       "       [[246, 236, 236],\n",
       "        [246, 236, 236],\n",
       "        [247, 237, 237],\n",
       "        ...,\n",
       "        [249, 241, 234],\n",
       "        [249, 241, 234],\n",
       "        [249, 241, 234]],\n",
       "\n",
       "       [[245, 235, 235],\n",
       "        [246, 236, 236],\n",
       "        [247, 237, 237],\n",
       "        ...,\n",
       "        [248, 240, 233],\n",
       "        [248, 240, 233],\n",
       "        [248, 240, 233]],\n",
       "\n",
       "       ...,\n",
       "\n",
       "       [[ 28,  35,  20],\n",
       "        [ 47,  54,  39],\n",
       "        [ 65,  72,  59],\n",
       "        ...,\n",
       "        [ 26,  60,  66],\n",
       "        [ 26,  60,  66],\n",
       "        [ 24,  60,  66]],\n",
       "\n",
       "       [[ 39,  46,  31],\n",
       "        [ 61,  68,  53],\n",
       "        [ 75,  82,  69],\n",
       "        ...,\n",
       "        [ 19,  61,  68],\n",
       "        [ 19,  60,  69],\n",
       "        [ 17,  61,  68]],\n",
       "\n",
       "       [[ 75,  85,  69],\n",
       "        [ 98, 108,  92],\n",
       "        [107, 116, 103],\n",
       "        ...,\n",
       "        [ 17,  64,  72],\n",
       "        [ 17,  63,  74],\n",
       "        [ 15,  64,  72]]], dtype=uint8)"
      ]
     },
     "execution_count": 39,
     "metadata": {},
     "output_type": "execute_result"
    }
   ],
   "source": [
    "## step1 print image data \n",
    "image"
   ]
  },
  {
   "cell_type": "code",
   "execution_count": 40,
   "metadata": {},
   "outputs": [
    {
     "data": {
      "text/plain": [
       "(183, 276, 3)"
      ]
     },
     "execution_count": 40,
     "metadata": {},
     "output_type": "execute_result"
    }
   ],
   "source": [
    "## step2 print image shape\n",
    "''\n",
    "image.shape"
   ]
  },
  {
   "cell_type": "code",
   "execution_count": 43,
   "metadata": {},
   "outputs": [
    {
     "name": "stdout",
     "output_type": "stream",
     "text": [
      "276\n",
      "183\n"
     ]
    }
   ],
   "source": [
    "## step3  get the value of lx ,ly \n",
    "\n",
    "lx=image.shape[1]\n",
    "ly=image.shape[0]\n",
    "print(lx)\n",
    "print(ly)"
   ]
  },
  {
   "cell_type": "code",
   "execution_count": 5,
   "metadata": {},
   "outputs": [],
   "source": [
    "### step4 image in gray scale \n",
    "cv2.imshow(\"Gray scale\",image[:,:,0])\n",
    "cv2.waitKey(0)\n",
    "cv2.destroyAllWindows()"
   ]
  },
  {
   "cell_type": "code",
   "execution_count": 12,
   "metadata": {},
   "outputs": [],
   "source": [
    "### step 5 image in Blue scale \n",
    "blue_only = image.copy()\n",
    "blue_only[:,:,1] = 0\n",
    "blue_only[:,:,2] = 0\n",
    "cv2.imshow(\"Blue Scale\",blue_only)\n",
    "cv2.waitKey(0)\n",
    "cv2.destroyAllWindows()"
   ]
  },
  {
   "cell_type": "code",
   "execution_count": 13,
   "metadata": {},
   "outputs": [],
   "source": [
    "### step 6 image in red scale \n",
    "red_only = image.copy()\n",
    "red_only[:,:,0] = 0\n",
    "red_only[:,:,1] = 0\n",
    "cv2.imshow(\"Red Scale\",red_only)\n",
    "cv2.waitKey(0)\n",
    "cv2.destroyAllWindows()"
   ]
  },
  {
   "cell_type": "code",
   "execution_count": 14,
   "metadata": {},
   "outputs": [],
   "source": [
    "### step 7 image in Green scale \n",
    "green_only = image.copy()\n",
    "green_only[:,:,0] = 0\n",
    "green_only[:,:,2] = 0\n",
    "cv2.imshow(\"Green scale\",green_only)\n",
    "cv2.waitKey(0)\n",
    "cv2.destroyAllWindows()"
   ]
  },
  {
   "cell_type": "code",
   "execution_count": 4,
   "metadata": {},
   "outputs": [],
   "source": [
    "# step 8 crop the right half\n",
    "cv2.imshow(\"original_image\",image)\n",
    "cv2.imshow(\" right half\",image[:,:image.shape[1]//2,:])\n",
    "cv2.waitKey(0)\n",
    "cv2.destroyAllWindows()"
   ]
  },
  {
   "cell_type": "code",
   "execution_count": 7,
   "metadata": {},
   "outputs": [],
   "source": [
    "## step 9 crop the right bottom quarter\n",
    "cv2.imshow(\"gray\",image[:,:,1])\n",
    "cv2.imshow(\" right bottom quarter\",image[image.shape[0]//2:,image.shape[1]//2:,:] )\n",
    "cv2.waitKey(0)\n",
    "cv2.destroyAllWindows()"
   ]
  },
  {
   "cell_type": "code",
   "execution_count": 44,
   "metadata": {},
   "outputs": [],
   "source": [
    "## step 10 remove the quarter border from all sides \n",
    "cv2.imshow(\"original_image\",image)\n",
    "half_x = image.shape[1]//2\n",
    "quarter_x =image.shape[1]//4\n",
    "half_y = image.shape[0]//2\n",
    "quarter_y =image.shape[0]//4\n",
    "\n",
    "cv2.imshow(\" zoom in \",image[quarter_y : half_y + quarter_y,quarter_x:half_x + quarter_x, :])\n",
    "cv2.waitKey(0)\n",
    "cv2.destroyAllWindows()"
   ]
  },
  {
   "cell_type": "code",
   "execution_count": 11,
   "metadata": {},
   "outputs": [],
   "source": [
    "## step 11 flip on x-axis \n",
    "cv2.imshow(\"original_image\",image)\n",
    "cv2.imshow(\" flip the image in x axis \",image[::-1,:,:])\n",
    "cv2.waitKey(0)\n",
    "cv2.destroyAllWindows()"
   ]
  },
  {
   "cell_type": "code",
   "execution_count": 10,
   "metadata": {},
   "outputs": [],
   "source": [
    "## step 12 flip on y-axis\n",
    "cv2.imshow(\"original_image\",image)\n",
    "cv2.imshow(\" flip the image in y axis \",image[:,::-1,:])\n",
    "cv2.waitKey(0)\n",
    "cv2.destroyAllWindows()"
   ]
  },
  {
   "cell_type": "markdown",
   "metadata": {},
   "source": [
    "## Q3  Write a program to broadcast on different shapes of arrays where p(3,3) + q(3)\n",
    "\n",
    "- p >> [[0, 0, 0],[1, 2, 3],[4, 5, 6]]\n",
    "- q >> [10, 11, 12]"
   ]
  },
  {
   "cell_type": "code",
   "execution_count": 14,
   "metadata": {},
   "outputs": [
    {
     "data": {
      "text/plain": [
       "array([[10, 11, 12],\n",
       "       [11, 13, 15],\n",
       "       [14, 16, 18]])"
      ]
     },
     "execution_count": 14,
     "metadata": {},
     "output_type": "execute_result"
    }
   ],
   "source": [
    "p = np.array( [[0, 0, 0],[1, 2, 3],[4, 5, 6]])\n",
    "q = np.array([10, 11, 12])\n",
    "p + q"
   ]
  },
  {
   "cell_type": "markdown",
   "metadata": {},
   "source": [
    "## Q4 Write a NumPy program to make an array immutable "
   ]
  },
  {
   "cell_type": "code",
   "execution_count": 19,
   "metadata": {},
   "outputs": [
    {
     "ename": "ValueError",
     "evalue": "assignment destination is read-only",
     "output_type": "error",
     "traceback": [
      "\u001b[1;31m---------------------------------------------------------------------------\u001b[0m",
      "\u001b[1;31mValueError\u001b[0m                                Traceback (most recent call last)",
      "\u001b[1;32m<ipython-input-19-c4cc0c027a3a>\u001b[0m in \u001b[0;36m<module>\u001b[1;34m\u001b[0m\n\u001b[0;32m      2\u001b[0m \u001b[0marr\u001b[0m\u001b[1;33m[\u001b[0m\u001b[1;36m0\u001b[0m\u001b[1;33m]\u001b[0m \u001b[1;33m=\u001b[0m \u001b[1;36m10\u001b[0m\u001b[1;33m\u001b[0m\u001b[1;33m\u001b[0m\u001b[0m\n\u001b[0;32m      3\u001b[0m \u001b[0marr\u001b[0m\u001b[1;33m.\u001b[0m\u001b[0msetflags\u001b[0m\u001b[1;33m(\u001b[0m\u001b[0mwrite\u001b[0m\u001b[1;33m=\u001b[0m\u001b[1;32mFalse\u001b[0m\u001b[1;33m)\u001b[0m\u001b[1;33m\u001b[0m\u001b[1;33m\u001b[0m\u001b[0m\n\u001b[1;32m----> 4\u001b[1;33m \u001b[0marr\u001b[0m\u001b[1;33m[\u001b[0m\u001b[1;36m0\u001b[0m\u001b[1;33m]\u001b[0m \u001b[1;33m=\u001b[0m \u001b[1;36m5\u001b[0m\u001b[1;33m\u001b[0m\u001b[1;33m\u001b[0m\u001b[0m\n\u001b[0m",
      "\u001b[1;31mValueError\u001b[0m: assignment destination is read-only"
     ]
    }
   ],
   "source": [
    "arr = np.array([1,2,3,4,5])\n",
    "arr[0] = 10\n",
    "arr.setflags(write=False)\n",
    "arr[0] = 5"
   ]
  },
  {
   "cell_type": "markdown",
   "metadata": {},
   "source": [
    "## Q5 Write a NumPy program to create a new array of 3*5, filled with 2"
   ]
  },
  {
   "cell_type": "code",
   "execution_count": 20,
   "metadata": {},
   "outputs": [
    {
     "data": {
      "text/plain": [
       "array([[2., 2., 2., 2., 2.],\n",
       "       [2., 2., 2., 2., 2.],\n",
       "       [2., 2., 2., 2., 2.]])"
      ]
     },
     "execution_count": 20,
     "metadata": {},
     "output_type": "execute_result"
    }
   ],
   "source": [
    "np.ones((3,5)) * 2"
   ]
  },
  {
   "cell_type": "markdown",
   "metadata": {},
   "source": [
    "## Q6 Write a NumPy program to get the number of nonzero elements in an array\n",
    "\n",
    "- array = [[0, 10, 20], [20, 0, 40]]"
   ]
  },
  {
   "cell_type": "code",
   "execution_count": 32,
   "metadata": {},
   "outputs": [
    {
     "data": {
      "text/plain": [
       "4"
      ]
     },
     "execution_count": 32,
     "metadata": {},
     "output_type": "execute_result"
    }
   ],
   "source": [
    "array = np.array([[0, 10, 20], [20, 0, 40]])\n",
    "np.array(array != 0).sum()"
   ]
  },
  {
   "cell_type": "markdown",
   "metadata": {},
   "source": [
    "## Q7 Write a NumPy program to get the minimum and maximum value of an array along the second axis\n",
    "\n",
    "- create array 2x2 contains data from 0 to 3 "
   ]
  },
  {
   "cell_type": "code",
   "execution_count": 43,
   "metadata": {},
   "outputs": [
    {
     "name": "stdout",
     "output_type": "stream",
     "text": [
      "[[0 1]\n",
      " [2 3]]\n",
      "[0 2]\n",
      "[1 3]\n"
     ]
    }
   ],
   "source": [
    "array2x2 = np.array([[0, 1], [2, 3]])\n",
    "print(array2x2)\n",
    "print(np.min(array2x2,axis =1 ))\n",
    "print(np.max(array2x2,axis =1))"
   ]
  },
  {
   "cell_type": "markdown",
   "metadata": {},
   "source": [
    "## Q8  Write a NumPy program to compute the mean, median,standard deviation, and variance of a given array \n",
    "\n",
    "- array = [0 4 2 1 3 5]"
   ]
  },
  {
   "cell_type": "code",
   "execution_count": 36,
   "metadata": {},
   "outputs": [
    {
     "name": "stdout",
     "output_type": "stream",
     "text": [
      "mean 2.5\n",
      "median 2.5\n",
      "std 1.707825127659933\n",
      "variance 2.9166666666666665\n"
     ]
    }
   ],
   "source": [
    "def stats(arr):\n",
    "    print('mean', np.mean(arr))\n",
    "    print('median', np.median(arr))\n",
    "    print('std', np.std(arr))\n",
    "    print('variance', np.var(arr))\n",
    "stats([0,4 ,2, 1, 3,5])"
   ]
  },
  {
   "cell_type": "code",
   "execution_count": null,
   "metadata": {},
   "outputs": [],
   "source": []
  }
 ],
 "metadata": {
  "kernelspec": {
   "display_name": "Python 3",
   "language": "python",
   "name": "python3"
  },
  "language_info": {
   "codemirror_mode": {
    "name": "ipython",
    "version": 3
   },
   "file_extension": ".py",
   "mimetype": "text/x-python",
   "name": "python",
   "nbconvert_exporter": "python",
   "pygments_lexer": "ipython3",
   "version": "3.8.3"
  }
 },
 "nbformat": 4,
 "nbformat_minor": 4
}
