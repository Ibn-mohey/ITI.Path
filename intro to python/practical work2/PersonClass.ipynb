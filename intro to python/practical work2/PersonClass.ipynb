class Person:
    age = 0
    def __init__(self, his_age):
        if his_age <= 0:
            print ("age is not valid")
        else:
            self.age = his_age
    def yearPasses(self):
        self.age += 1
        return self.age
    def greetings(self):
        if self.age < 12:
             print( 'You are young')
        elif self.age < 18:
            print( 'You are a teenager')
        else:
            print( 'You are old and wise')
def main(num):
    #test the class
    new_person = Person(num)
    new_person.greetings()
    years_passed = input("please write how many years passed:  ")
    
    def fun_years_Passed(years_passed):
        years_passed = int(years_passed)
        if years_passed < 0:
            years_passed = input("please input again as negative numbers are not allowed")
            return fun_years_Passed(years_passed)
        elif years_passed > 0:  
            for i in range(years_passed):
                new_person.yearPasses()
            new_person.greetings()

        else:
            new_person.yearPasses()
            new_person.greetings()
    fun_years_Passed(years_passed)