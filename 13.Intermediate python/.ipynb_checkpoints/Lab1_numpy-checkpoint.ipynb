{
 "cells": [
  {
   "cell_type": "code",
   "execution_count": 24,
   "metadata": {},
   "outputs": [],
   "source": [
    "import numpy as np\n",
    "import cv2\n"
   ]
  },
  {
   "cell_type": "markdown",
   "metadata": {},
   "source": [
    "# Q1: implement a linear regression model\n",
    "data row1 > header \n",
    " ### 1: data preprocessing \n",
    "       #i. apply to_add array to data where element 1 added to row 1 , element 2 added to row 2 and so on \n",
    "       #ii.apply to_Mult array to the data row by to \n",
    " ### 2: get the prediction values using the hyposis function weight array (regression_model)"
   ]
  },
  {
   "cell_type": "code",
   "execution_count": 25,
   "metadata": {},
   "outputs": [],
   "source": [
    "Data= np.array([[1000,1001,1002,1003],\n",
    "                [8,18,28,38],\n",
    "               [16,26,36,46],\n",
    "               [4,14,24,44]],dtype=\"int64\")\n",
    "\n",
    "to_add = np.array([2,4,6])\n",
    "to_mult = np.array([10,100,1000,1000])\n",
    "regression_model = np.array([2,4,6,8])"
   ]
  },
  {
   "cell_type": "code",
   "execution_count": 26,
   "metadata": {
    "scrolled": true
   },
   "outputs": [
    {
     "name": "stdout",
     "output_type": "stream",
     "text": [
      "[[ 8 18 28 38]\n",
      " [16 26 36 46]\n",
      " [ 4 14 24 44]]\n"
     ]
    }
   ],
   "source": [
    "##step1 print dataset without header row\n",
    "OnlyData = Data[1:,:]\n",
    "print(OnlyData)"
   ]
  },
  {
   "cell_type": "code",
   "execution_count": 27,
   "metadata": {
    "scrolled": true
   },
   "outputs": [
    {
     "name": "stdout",
     "output_type": "stream",
     "text": [
      "[[10 20 30 40]\n",
      " [20 30 40 50]\n",
      " [10 20 30 50]]\n"
     ]
    }
   ],
   "source": [
    "###step2 i. to_Add\n",
    "add = OnlyData + np.reshape(to_add , (3,1))\n",
    "print(add)"
   ]
  },
  {
   "cell_type": "code",
   "execution_count": 28,
   "metadata": {},
   "outputs": [
    {
     "data": {
      "text/plain": [
       "array([[[  100,  2000, 30000, 40000]],\n",
       "\n",
       "       [[  200,  3000, 40000, 50000]],\n",
       "\n",
       "       [[  100,  2000, 30000, 50000]]], dtype=int64)"
      ]
     },
     "execution_count": 28,
     "metadata": {},
     "output_type": "execute_result"
    }
   ],
   "source": [
    "##step3 ii. to_MUlt\n",
    "after_mult  = to_mult * add[:, np.newaxis]\n",
    "after_mult"
   ]
  },
  {
   "cell_type": "code",
   "execution_count": 29,
   "metadata": {},
   "outputs": [
    {
     "data": {
      "text/plain": [
       "array([[508200],\n",
       "       [652400],\n",
       "       [588200]], dtype=int64)"
      ]
     },
     "execution_count": 29,
     "metadata": {},
     "output_type": "execute_result"
    }
   ],
   "source": [
    "###step4 prediction results\n",
    "prediction = after_mult.dot(regression_model)\n",
    "prediction"
   ]
  },
  {
   "cell_type": "markdown",
   "metadata": {},
   "source": [
    "# Q2. Transformation\n",
    "\n",
    "### apply crop , rotation  to the image \n",
    "\n",
    "#1: convert image from  BGR scale to Gray , Red ,Green & Blue scale\n",
    "#2: crop the right  half\n",
    "#3: crop the right bottom quarter\n",
    "#4: zoom in by remove the quarter border from all sides \n",
    "#5: flip on x-axis \n",
    "#6: flip on y-axis "
   ]
  },
  {
   "cell_type": "code",
   "execution_count": 30,
   "metadata": {},
   "outputs": [],
   "source": [
    "image=cv2.imread(\"image.jpg\") ### in_BGR\n",
    "cv2.imshow(\"original_image\",image)\n",
    "cv2.waitKey(0)\n",
    "cv2.destroyAllWindows()"
   ]
  },
  {
   "cell_type": "code",
   "execution_count": 31,
   "metadata": {
    "scrolled": true
   },
   "outputs": [
    {
     "name": "stdout",
     "output_type": "stream",
     "text": [
      "[[[246 236 236]\n",
      "  [247 237 237]\n",
      "  [248 238 238]\n",
      "  ...\n",
      "  [250 242 235]\n",
      "  [250 242 235]\n",
      "  [250 242 235]]\n",
      "\n",
      " [[246 236 236]\n",
      "  [246 236 236]\n",
      "  [247 237 237]\n",
      "  ...\n",
      "  [249 241 234]\n",
      "  [249 241 234]\n",
      "  [249 241 234]]\n",
      "\n",
      " [[245 235 235]\n",
      "  [246 236 236]\n",
      "  [247 237 237]\n",
      "  ...\n",
      "  [249 241 234]\n",
      "  [249 241 234]\n",
      "  [249 241 234]]\n",
      "\n",
      " ...\n",
      "\n",
      " [[ 23  33  16]\n",
      "  [ 44  54  37]\n",
      "  [ 65  72  57]\n",
      "  ...\n",
      "  [ 19  61  68]\n",
      "  [ 19  61  68]\n",
      "  [ 19  61  68]]\n",
      "\n",
      " [[ 34  46  28]\n",
      "  [ 57  69  51]\n",
      "  [ 71  82  66]\n",
      "  ...\n",
      "  [ 11  60  70]\n",
      "  [ 11  60  70]\n",
      "  [ 11  60  70]]\n",
      "\n",
      " [[ 71  85  67]\n",
      "  [ 94 108  90]\n",
      "  [103 116 100]\n",
      "  ...\n",
      "  [ 10  64  75]\n",
      "  [ 10  64  75]\n",
      "  [ 10  64  75]]]\n"
     ]
    }
   ],
   "source": [
    "## step1 print image data \n",
    "print( image)"
   ]
  },
  {
   "cell_type": "code",
   "execution_count": 32,
   "metadata": {},
   "outputs": [
    {
     "data": {
      "text/plain": [
       "(183, 276, 3)"
      ]
     },
     "execution_count": 32,
     "metadata": {},
     "output_type": "execute_result"
    }
   ],
   "source": [
    "## step2 print image shape\n",
    "image.shape"
   ]
  },
  {
   "cell_type": "code",
   "execution_count": 33,
   "metadata": {},
   "outputs": [
    {
     "data": {
      "text/plain": [
       "(276, 183)"
      ]
     },
     "execution_count": 33,
     "metadata": {},
     "output_type": "execute_result"
    }
   ],
   "source": [
    "## step3  get the value of lx ,ly \n",
    "\n",
    "lx = image.shape[1]\n",
    "ly = image.shape[0]\n",
    "lx,ly"
   ]
  },
  {
   "cell_type": "code",
   "execution_count": 34,
   "metadata": {},
   "outputs": [],
   "source": [
    "### step4 image in gray scale \n",
    "grey = image[:,:,0]\n",
    "cv2.imshow(\"Gray scale\",grey)\n",
    "cv2.waitKey(0)\n",
    "cv2.destroyAllWindows()"
   ]
  },
  {
   "cell_type": "markdown",
   "metadata": {},
   "source": [
    "BGR"
   ]
  },
  {
   "cell_type": "code",
   "execution_count": 35,
   "metadata": {},
   "outputs": [],
   "source": [
    "blue = image.copy()\n",
    "blue[:,:,1] =0\n",
    "blue[:,:,2] =0\n",
    "green = image.copy()\n",
    "green[:,:,0] =0\n",
    "green[:,:,2] =0\n",
    "red = image.copy()\n",
    "red[:,:,0] =0\n",
    "red[:,:,1] =0"
   ]
  },
  {
   "cell_type": "code",
   "execution_count": 36,
   "metadata": {},
   "outputs": [],
   "source": [
    "### step 5 image in Blue scale \n",
    "cv2.imshow(\"Blue Scale\",blue)\n",
    "cv2.waitKey(0)\n",
    "cv2.destroyAllWindows()"
   ]
  },
  {
   "cell_type": "code",
   "execution_count": 37,
   "metadata": {},
   "outputs": [],
   "source": [
    "### step 6 image in red scale \n",
    "\n",
    "cv2.imshow(\"Red Scale\",red)\n",
    "cv2.waitKey(0)\n",
    "cv2.destroyAllWindows()"
   ]
  },
  {
   "cell_type": "code",
   "execution_count": 38,
   "metadata": {},
   "outputs": [],
   "source": [
    "### step 7 image in Green scale \n",
    "\n",
    "cv2.imshow(\"Green scale\",green)\n",
    "cv2.waitKey(0)\n",
    "cv2.destroyAllWindows()"
   ]
  },
  {
   "cell_type": "code",
   "execution_count": 15,
   "metadata": {},
   "outputs": [
    {
     "data": {
      "text/plain": [
       "(183, 276, 3)"
      ]
     },
     "execution_count": 15,
     "metadata": {},
     "output_type": "execute_result"
    }
   ],
   "source": [
    "image.shape"
   ]
  },
  {
   "cell_type": "code",
   "execution_count": 16,
   "metadata": {},
   "outputs": [],
   "source": [
    "# step 8 crop the right half\n",
    "crop_right= image[:, int(image.shape[1]/2):]\n",
    "cv2.imshow(\"original_image\",image)\n",
    "cv2.imshow(\" right half\",crop_right)\n",
    "cv2.waitKey(0)\n",
    "cv2.destroyAllWindows()"
   ]
  },
  {
   "cell_type": "code",
   "execution_count": 28,
   "metadata": {},
   "outputs": [],
   "source": [
    "## step 9 crop the right bottom quarter\n",
    "\n",
    "right_bottom_quarter = image[(ly-int(image.shape[0]/2)):, (lx - int(image.shape[1]/2)):]\n",
    "cv2.imshow(\"gray\",grey)\n",
    "cv2.imshow(\" right bottom quarter\",right_bottom_quarter)\n",
    "cv2.waitKey(0)\n",
    "cv2.destroyAllWindows()"
   ]
  },
  {
   "cell_type": "code",
   "execution_count": 39,
   "metadata": {},
   "outputs": [],
   "source": [
    "## step 10 remove the quarter border from all sides \n",
    "\n",
    "remove_the_quarter = image[int(ly/4):ly-(int(ly/4)),int(lx/4):lx-(int(lx/4))]\n",
    "cv2.imshow(\"original_image\",image)\n",
    "cv2.imshow(\" zoom in \",remove_the_quarter)\n",
    "cv2.waitKey(0)\n",
    "cv2.destroyAllWindows()"
   ]
  },
  {
   "cell_type": "code",
   "execution_count": 40,
   "metadata": {},
   "outputs": [],
   "source": [
    "## step 11 flip on x-axis \n",
    "flip_x = image[::-1, :, :]\n",
    "cv2.imshow(\"original_image\",image)\n",
    "cv2.imshow(\" flip the image in x axis \",flip_x)\n",
    "cv2.waitKey(0)\n",
    "cv2.destroyAllWindows()"
   ]
  },
  {
   "cell_type": "code",
   "execution_count": 41,
   "metadata": {},
   "outputs": [],
   "source": [
    "## step 12 flip on y-axis\n",
    "flip_y = image[:, ::-1, :]\n",
    "cv2.imshow(\"original_image\",image)\n",
    "cv2.imshow(\" flip the image in y axis \",flip_y)\n",
    "cv2.waitKey(0)\n",
    "cv2.destroyAllWindows()"
   ]
  },
  {
   "cell_type": "markdown",
   "metadata": {},
   "source": [
    "## Q3  Write a program to broadcast on different shapes of arrays where p(3,3) + q(3)\n",
    "\n",
    "- p >> [[0, 0, 0],[1, 2, 3],[4, 5, 6]]\n",
    "- q >> [10, 11, 12]"
   ]
  },
  {
   "cell_type": "code",
   "execution_count": 42,
   "metadata": {},
   "outputs": [
    {
     "data": {
      "text/plain": [
       "array([[ 0,  0,  0],\n",
       "       [ 2,  4,  6],\n",
       "       [ 8, 10, 12]])"
      ]
     },
     "execution_count": 42,
     "metadata": {},
     "output_type": "execute_result"
    }
   ],
   "source": [
    "def broadcast(Arr1,Arr2):\n",
    "    return Arr1 + Arr1\n",
    "p = np.array( [[0, 0, 0],[1, 2, 3],[4, 5, 6]])\n",
    "q = np.array([10, 11, 12])\n",
    "broadcast(p,q)"
   ]
  },
  {
   "cell_type": "markdown",
   "metadata": {},
   "source": [
    "## Q4 Write a NumPy program to make an array immutable "
   ]
  },
  {
   "cell_type": "code",
   "execution_count": 43,
   "metadata": {},
   "outputs": [
    {
     "ename": "ValueError",
     "evalue": "assignment destination is read-only",
     "output_type": "error",
     "traceback": [
      "\u001b[1;31m---------------------------------------------------------------------------\u001b[0m",
      "\u001b[1;31mValueError\u001b[0m                                Traceback (most recent call last)",
      "\u001b[1;32m<ipython-input-43-fcbe487e8a4b>\u001b[0m in \u001b[0;36m<module>\u001b[1;34m\u001b[0m\n\u001b[0;32m      3\u001b[0m     \u001b[1;32mreturn\u001b[0m \u001b[0mArr\u001b[0m\u001b[1;33m\u001b[0m\u001b[1;33m\u001b[0m\u001b[0m\n\u001b[0;32m      4\u001b[0m \u001b[0marray_immutable\u001b[0m\u001b[1;33m(\u001b[0m\u001b[0mp\u001b[0m\u001b[1;33m)\u001b[0m\u001b[1;33m\u001b[0m\u001b[1;33m\u001b[0m\u001b[0m\n\u001b[1;32m----> 5\u001b[1;33m \u001b[0mp\u001b[0m\u001b[1;33m[\u001b[0m\u001b[1;36m0\u001b[0m\u001b[1;33m]\u001b[0m \u001b[1;33m=\u001b[0m \u001b[1;36m1\u001b[0m\u001b[1;33m\u001b[0m\u001b[1;33m\u001b[0m\u001b[0m\n\u001b[0m",
      "\u001b[1;31mValueError\u001b[0m: assignment destination is read-only"
     ]
    }
   ],
   "source": [
    "def array_immutable(Arr):\n",
    "    Arr.flags.writeable = False\n",
    "    return Arr\n",
    "array_immutable(p)\n",
    "p[0] = 1"
   ]
  },
  {
   "cell_type": "markdown",
   "metadata": {},
   "source": [
    "## Q5 Write a NumPy program to create a new array of 3*5, filled with 2"
   ]
  },
  {
   "cell_type": "code",
   "execution_count": 44,
   "metadata": {},
   "outputs": [
    {
     "data": {
      "text/plain": [
       "array([[2., 2., 2., 2., 2.],\n",
       "       [2., 2., 2., 2., 2.],\n",
       "       [2., 2., 2., 2., 2.]])"
      ]
     },
     "execution_count": 44,
     "metadata": {},
     "output_type": "execute_result"
    }
   ],
   "source": [
    "def Twoss(size):\n",
    "    return np.ones(size) * 2\n",
    "    \n",
    "Twoss((3,5))"
   ]
  },
  {
   "cell_type": "markdown",
   "metadata": {},
   "source": [
    "## Q6 Write a NumPy program to get the number of nonzero elements in an array\n",
    "\n",
    "- array = [[0, 10, 20], [20, 0, 40]]"
   ]
  },
  {
   "cell_type": "code",
   "execution_count": 45,
   "metadata": {},
   "outputs": [
    {
     "data": {
      "text/plain": [
       "4"
      ]
     },
     "execution_count": 45,
     "metadata": {},
     "output_type": "execute_result"
    }
   ],
   "source": [
    "def none_zeros(arr):\n",
    "    return (arr != 0).sum()\n",
    "array =  np.array([[0, 10, 20], [20, 0, 40]])\n",
    "none_zeros(array)"
   ]
  },
  {
   "cell_type": "markdown",
   "metadata": {},
   "source": [
    "## Q7 Write a NumPy program to get the minimum and maximum value of an array along the second axis\n",
    "\n",
    "- create array 2x2 contains data from 0 to 3 "
   ]
  },
  {
   "cell_type": "code",
   "execution_count": 46,
   "metadata": {},
   "outputs": [
    {
     "data": {
      "text/plain": [
       "(array([0, 2]), array([1, 3]))"
      ]
     },
     "execution_count": 46,
     "metadata": {},
     "output_type": "execute_result"
    }
   ],
   "source": [
    "def Min_Max(Arr):\n",
    "    return np.min(array2x2,axis =1 ) , np.max(array2x2,axis =1) \n",
    "\n",
    "array2x2 = np.arange(4).reshape(2,2)\n",
    "Min_Max(array2x2)"
   ]
  },
  {
   "cell_type": "markdown",
   "metadata": {},
   "source": [
    "## Q8  Write a NumPy program to compute the mean, median,standard deviation, and variance of a given array \n",
    "\n",
    "- array = [0 4 2 1 3 5]"
   ]
  },
  {
   "cell_type": "code",
   "execution_count": 47,
   "metadata": {},
   "outputs": [
    {
     "name": "stdout",
     "output_type": "stream",
     "text": [
      "mean 2.5\n",
      "median 2.5\n",
      "std 1.707825127659933\n",
      "variance 2.9166666666666665\n"
     ]
    }
   ],
   "source": [
    "def Compute(arr):\n",
    "    print('mean', np.mean(arr))\n",
    "    print('median', np.median(arr))\n",
    "    print('std', np.std(arr))\n",
    "    print('variance', np.var(arr))\n",
    "array = [0 ,4 ,2, 1, 3, 5]\n",
    "Compute(array)"
   ]
  }
 ],
 "metadata": {
  "kernelspec": {
   "display_name": "Python 3",
   "language": "python",
   "name": "python3"
  },
  "language_info": {
   "codemirror_mode": {
    "name": "ipython",
    "version": 3
   },
   "file_extension": ".py",
   "mimetype": "text/x-python",
   "name": "python",
   "nbconvert_exporter": "python",
   "pygments_lexer": "ipython3",
   "version": "3.8.3"
  }
 },
 "nbformat": 4,
 "nbformat_minor": 4
}
