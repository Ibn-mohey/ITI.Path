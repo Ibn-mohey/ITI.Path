{
 "cells": [
  {
   "cell_type": "code",
   "execution_count": 1,
   "id": "8e05560a",
   "metadata": {},
   "outputs": [
    {
     "name": "stdout",
     "output_type": "stream",
     "text": [
      "[16.5, 16.5, 16.5, 16.5]\n"
     ]
    }
   ],
   "source": [
    "from random import seed\n",
    "from random import randrange\n",
    "\n",
    "# zero rule algorithm for regression\n",
    "def zero_rule_algorithm_regression(train, test):\n",
    "\toutput_values = [row[-1] for row in train]\n",
    "\tprediction = sum(output_values) / float(len(output_values))\n",
    "\tpredicted = [prediction for i in range(len(test))]\n",
    "\treturn predicted\n",
    "\n",
    "seed(1)\n",
    "train = [[10], [15], [12], [15], [18], [29]]\n",
    "test = [[None], [None], [None], [None]]\n",
    "predictions = zero_rule_algorithm_regression(train, test)\n",
    "print(predictions)"
   ]
  },
  {
   "cell_type": "code",
   "execution_count": null,
   "id": "38f00282",
   "metadata": {},
   "outputs": [],
   "source": []
  }
 ],
 "metadata": {
  "kernelspec": {
   "display_name": "Python 3",
   "language": "python",
   "name": "python3"
  },
  "language_info": {
   "codemirror_mode": {
    "name": "ipython",
    "version": 3
   },
   "file_extension": ".py",
   "mimetype": "text/x-python",
   "name": "python",
   "nbconvert_exporter": "python",
   "pygments_lexer": "ipython3",
   "version": "3.8.8"
  }
 },
 "nbformat": 4,
 "nbformat_minor": 5
}
