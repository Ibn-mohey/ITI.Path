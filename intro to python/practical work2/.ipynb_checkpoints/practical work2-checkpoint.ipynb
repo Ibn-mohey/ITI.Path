{
 "cells": [
  {
   "cell_type": "markdown",
   "metadata": {},
   "source": [
    "#### Q1\n",
    "Write a function called underline that takes a file name as a parameter and that prints the words one per line with certain words underlined.  \n",
    "\n",
    "The words to be underlined all begin with a period.  \n",
    "\n",
    "The period should not be printed.  \n",
    "\n",
    "You should print the text that follows the period on a line by itself followed by a line of alternating dashes and commas equal in length to the text that follows the period. \n",
    "\n",
    "29:32 min"
   ]
  },
  {
   "cell_type": "code",
   "execution_count": 34,
   "metadata": {},
   "outputs": [
    {
     "name": "stdout",
     "output_type": "stream",
     "text": [
      "Banana\n",
      "avocado\n",
      "-,-,-,-\n",
      "peach\n",
      "-,-,-\n",
      "PineApple-pumpkin\n",
      "pie.\n",
      "\n",
      "Nectarines\n",
      "-,-,-,-,-,\n",
      "GRAPES\n",
      "pomegranateS\n"
     ]
    }
   ],
   "source": [
    "def underline(file_name):\n",
    "    # open file\n",
    "    with open(file_name, \"r\") as file:\n",
    "        # loop and get lines\n",
    "        for line in file:\n",
    "            #get the words out of the line\n",
    "            words =  line.split()\n",
    "            if words == []:\n",
    "                pass\n",
    "                print('')\n",
    "            else:\n",
    "                # loop over the words \n",
    "                for word in words:\n",
    "                    #get the underlined words \n",
    "                    if word[0] == '.':\n",
    "                        word = word.replace('.','')\n",
    "                        #print my word \n",
    "                        print(word) \n",
    "\n",
    "                        #the under line part\n",
    "                        wordlen = len(word)+1\n",
    "                        underline = '-,'*int(wordlen/2)\n",
    "                        print(underline[:wordlen-1])\n",
    "\n",
    "                    else:\n",
    "                        print(word)\n",
    "underline(\"input.txt\")"
   ]
  },
  {
   "cell_type": "markdown",
   "metadata": {},
   "source": [
    "#### Q2\n",
    "A Personal Fitness Tracker is a wearable device that tracks your physical activity, calories burned, heart rate, and so on. \n",
    "\n",
    "One common physical activity that most of these devices track is the number of steps you take each day. \n",
    "\n",
    "The steps.txt file contains the number of steps a person has taken each day for a year. \n",
    "\n",
    "There are 365 lines in the file, and each line contains the number of steps taken during a day. \n",
    "\n",
    "(The first line is the number of steps taken on January 1st, the second line is the number of steps taken on January 2nd, and so forth.) Write a program that:\n",
    "\n",
    "•\tReads the file, then displays the average number of steps taken for each month. \n",
    "\n",
    "•\t(The data is from a year that was not a leap year, so February has 28 days.)\n",
    "\n",
    "\n",
    "10 min"
   ]
  },
  {
   "cell_type": "code",
   "execution_count": 43,
   "metadata": {},
   "outputs": [
    {
     "data": {
      "text/plain": [
       "{'january': 5246.096774193548,\n",
       " 'february': 4851.857142857143,\n",
       " 'march': 5777.612903225807,\n",
       " 'april': 5802.133333333333,\n",
       " 'may': 4711.548387096775,\n",
       " 'june': 4792.333333333333,\n",
       " 'july': 5638.225806451613,\n",
       " 'August': 5759.645161290323,\n",
       " 'Septemper': 6114.566666666667,\n",
       " 'jNovember': 5411.032258064516,\n",
       " 'October': 4268.8,\n",
       " 'December': 5138.064516129032}"
      ]
     },
     "execution_count": 43,
     "metadata": {},
     "output_type": "execute_result"
    }
   ],
   "source": [
    "with open(\"steps.txt\" , 'r') as file:\n",
    "    steps = file.read() \n",
    "    steps = steps.split('\\n')\n",
    "    steps = [int(i) for i in steps]\n",
    "    dict_averg = {}\n",
    "    dict_averg['january'] = sum(steps[0:31]) / 31\n",
    "    dict_averg['february'] = sum(steps[31:59]) / 28\n",
    "    dict_averg['march'] = sum(steps[59:90]) / 31\n",
    "    dict_averg['april'] = sum(steps[90:120]) / 30\n",
    "    dict_averg['may'] = sum(steps[120:151]) / 31\n",
    "    dict_averg['june'] = sum(steps[151:181]) / 30\n",
    "    dict_averg['july'] = sum(steps[181:212]) / 31\n",
    "    dict_averg['August'] = sum(steps[212:243]) / 31\n",
    "    dict_averg['Septemper'] = sum(steps[243:273]) / 30\n",
    "    dict_averg['jNovember'] = sum(steps[273:304]) / 31\n",
    "    dict_averg['October'] = sum(steps[304:334]) / 30\n",
    "    dict_averg['December'] = sum(steps[334:365]) / 31\n",
    "dict_averg"
   ]
  },
  {
   "cell_type": "markdown",
   "metadata": {},
   "source": [
    "### Q3\n",
    "\n",
    "A painting company has determined that for every 112 square feet of wall space, one gallon of paint and eight hours of labor will be required. \n",
    "\n",
    "The company charges $35.00 per hour for labor. \n",
    "\n",
    "Write a program that asks the user to enter the square feet of wall space to be painted and the price of the paint per \n",
    "\n",
    "gallon. \n",
    "\n",
    "The program should display the following data: \n",
    "\n",
    "•\tThe number of gallons of paint required \n",
    "\n",
    "•\tThe hours of labor required \n",
    "\n",
    "•\tThe cost of the paint \n",
    "\n",
    "•\tThe labor charges \n",
    "\n",
    "•\tThe total cost of the paint job \n",
    "\n",
    "14 min\n"
   ]
  },
  {
   "cell_type": "code",
   "execution_count": 35,
   "metadata": {},
   "outputs": [],
   "source": [
    "\n",
    "def determin():\n",
    "    import math\n",
    "\n",
    "    try:\n",
    "        feets = int(input(\"enter the customer apartment square feet of wall space \"))\n",
    "        price = int(input('enter the price to be painted with '))\n",
    "    except:\n",
    "        print(\"plz enter an int\")\n",
    "    \n",
    "    print(  f'• The number of gallons of paint required {math.ceil(feets/112)}'\\\n",
    "    f'            \\n• The hours of labor required {math.ceil(feets/8)}'\\\n",
    "    f'            \\n• The cost of the paint {math.ceil(feets/112)*price}'\\\n",
    "    f'            \\n• The labor charges {math.ceil(feets/8)*35}'\\\n",
    "    f'            \\n• The total cost of the paint job {math.ceil(feets/112)*price+ math.ceil(feets/8)*35}')\n",
    "    "
   ]
  },
  {
   "cell_type": "code",
   "execution_count": 36,
   "metadata": {},
   "outputs": [
    {
     "name": "stdout",
     "output_type": "stream",
     "text": [
      "enter the customer apartment square feet of wall space \n",
      "plz enter an int\n"
     ]
    },
    {
     "ename": "UnboundLocalError",
     "evalue": "local variable 'feets' referenced before assignment",
     "output_type": "error",
     "traceback": [
      "\u001b[1;31m---------------------------------------------------------------------------\u001b[0m",
      "\u001b[1;31mUnboundLocalError\u001b[0m                         Traceback (most recent call last)",
      "\u001b[1;32m<ipython-input-36-36f9c15ece85>\u001b[0m in \u001b[0;36m<module>\u001b[1;34m\u001b[0m\n\u001b[1;32m----> 1\u001b[1;33m \u001b[0mdetermin\u001b[0m\u001b[1;33m(\u001b[0m\u001b[1;33m)\u001b[0m\u001b[1;33m\u001b[0m\u001b[1;33m\u001b[0m\u001b[0m\n\u001b[0m",
      "\u001b[1;32m<ipython-input-35-4c69ef81af9e>\u001b[0m in \u001b[0;36mdetermin\u001b[1;34m()\u001b[0m\n\u001b[0;32m      8\u001b[0m         \u001b[0mprint\u001b[0m\u001b[1;33m(\u001b[0m\u001b[1;34m\"plz enter an int\"\u001b[0m\u001b[1;33m)\u001b[0m\u001b[1;33m\u001b[0m\u001b[1;33m\u001b[0m\u001b[0m\n\u001b[0;32m      9\u001b[0m \u001b[1;33m\u001b[0m\u001b[0m\n\u001b[1;32m---> 10\u001b[1;33m     print(  f'• The number of gallons of paint required {math.ceil(feets/112)}'\\\n\u001b[0m\u001b[0;32m     11\u001b[0m     \u001b[1;34mf'            \\n• The hours of labor required {math.ceil(feets/8)}'\u001b[0m\u001b[0;31m\\\u001b[0m\u001b[1;33m\u001b[0m\u001b[1;33m\u001b[0m\u001b[0m\n\u001b[0;32m     12\u001b[0m     \u001b[1;34mf'            \\n• The cost of the paint {math.ceil(feets/112)*price}'\u001b[0m\u001b[0;31m\\\u001b[0m\u001b[1;33m\u001b[0m\u001b[1;33m\u001b[0m\u001b[0m\n",
      "\u001b[1;31mUnboundLocalError\u001b[0m: local variable 'feets' referenced before assignment"
     ]
    }
   ],
   "source": [
    "determin()"
   ]
  },
  {
   "cell_type": "markdown",
   "metadata": {},
   "source": [
    "### Q4\n",
    "Write a program that predicts the approximate size of a population of organisms. \n",
    "\n",
    "The application should use text boxes to allow the user to enter the starting number of organ- isms, the average daily population increase (as a percentage), and the number of days the organisms will be left to multiply. \n",
    "\n",
    "For example, assume the user enters the following values: \n",
    "\n",
    "\n",
    "Starting number of organisms: 2 Average daily increase: 30% Number of days to multiply: 10 \n",
    "\n",
    "\n",
    "The program should write the data into a csv file and display the following table of data: \n",
    "\n",
    "\n",
    "Day Approximate Population \n"
   ]
  },
  {
   "cell_type": "code",
   "execution_count": null,
   "metadata": {},
   "outputs": [],
   "source": []
  },
  {
   "cell_type": "markdown",
   "metadata": {},
   "source": [
    "### Q5\n",
    "Write a code that generate 200 random numbers between -510 and 275 then adds those numbers to a text file. Repeat that step 4 time (you end up with a file that have 4 lines each has 200 numbers separated by spaces)\n",
    "\n",
    "Read the data from the file line by line. Each integer value must be: -500 <= value <= 270\n",
    "\n",
    "if a value was entered outside that range raise an exception, print error message to the output then continue processing the rest of the numbers.\n",
    "\n",
    "Find the value that repeated the most number of times in each line.\n",
    "\n",
    "If there are many solutions: find the smallest value.\n",
    "\n",
    "Find the maximum number in all lines\n",
    "\t\n",
    "Find the minimum number in all lines\n",
    "\n",
    "[source](https://www.tutorialspoint.com/generating-random-number-list-in-python)\n",
    "\n",
    "39 min\n"
   ]
  },
  {
   "cell_type": "code",
   "execution_count": 1,
   "metadata": {},
   "outputs": [],
   "source": [
    "import random "
   ]
  },
  {
   "cell_type": "code",
   "execution_count": 24,
   "metadata": {},
   "outputs": [
    {
     "name": "stdout",
     "output_type": "stream",
     "text": [
      "the value out of range -506\n",
      "the value out of range -505\n",
      "the value out of range -508\n",
      "the value out of range -504\n",
      "the value out of range -509\n",
      "the value out of range -503\n",
      "the mode for this list is 23\n",
      "the value out of range -501\n",
      "the value out of range -505\n",
      "the value out of range -502\n",
      "the value out of range -506\n",
      "the mode for this list is -84\n",
      "the value out of range -510\n",
      "the value out of range -505\n",
      "the value out of range -506\n",
      "the value out of range 271\n",
      "the value out of range -507\n",
      "the mode for this list is 15\n",
      "the value out of range 274\n",
      "the value out of range -501\n",
      "the value out of range -506\n",
      "the mode for this list is -90\n",
      "the max Value is 274\n",
      "the min Value is -510\n"
     ]
    }
   ],
   "source": [
    "import random \n",
    "from statistics import mode\n",
    "\n",
    "with open(\"newfile.txt\" , 'w') as file:\n",
    "    for i in range(4):\n",
    "        file.write(' '.join([str(elem) for elem in (random.sample(range(-510, 276), 200))]))\n",
    "        file.write('\\n')\n",
    "with open('newfile.txt' , 'r') as file:\n",
    "    maxandmin = []\n",
    "    \n",
    "    for line in file:\n",
    "        ints = [int(elm) for elm in line.split()]\n",
    "        for value in ints:\n",
    "            if (-500 <= value and value < 270):\n",
    "                pass\n",
    "            else:\n",
    "                print(f\"the value out of range {value}\")\n",
    "                #####\n",
    "        print(f'the mode for this list is {mode(ints)}')\n",
    "        #get the max value for first line\n",
    "        maxandmin.append(max(ints))\n",
    "        #get the min value for first line\n",
    "        maxandmin.append(min(ints))\n",
    "    \n",
    "    print(f'the max Value is {max(maxandmin)}')\n",
    "    \n",
    "    print(f'the min Value is {min(maxandmin)}')"
   ]
  },
  {
   "cell_type": "code",
   "execution_count": null,
   "metadata": {},
   "outputs": [],
   "source": []
  }
 ],
 "metadata": {
  "kernelspec": {
   "display_name": "Python 3",
   "language": "python",
   "name": "python3"
  },
  "language_info": {
   "codemirror_mode": {
    "name": "ipython",
    "version": 3
   },
   "file_extension": ".py",
   "mimetype": "text/x-python",
   "name": "python",
   "nbconvert_exporter": "python",
   "pygments_lexer": "ipython3",
   "version": "3.8.3"
  }
 },
 "nbformat": 4,
 "nbformat_minor": 4
}
