{
 "cells": [
  {
   "cell_type": "code",
   "execution_count": 2,
   "metadata": {},
   "outputs": [
    {
     "name": "stdout",
     "output_type": "stream",
     "text": [
      "Collecting pymongo\n",
      "  Downloading pymongo-3.12.0-cp38-cp38-win_amd64.whl (397 kB)\n",
      "Installing collected packages: pymongo\n",
      "Successfully installed pymongo-3.12.0\n"
     ]
    }
   ],
   "source": [
    "# !pip install pymongo"
   ]
  },
  {
   "cell_type": "code",
   "execution_count": 1,
   "metadata": {},
   "outputs": [],
   "source": [
    "from pymongo import MongoClient"
   ]
  },
  {
   "cell_type": "markdown",
   "metadata": {},
   "source": [
    "# Connecting to MongoDB"
   ]
  },
  {
   "cell_type": "code",
   "execution_count": 2,
   "metadata": {},
   "outputs": [],
   "source": [
    "client = MongoClient(\"mongodb://localhost:27017\")"
   ]
  },
  {
   "cell_type": "code",
   "execution_count": 3,
   "metadata": {},
   "outputs": [],
   "source": [
    "db = client.local"
   ]
  },
  {
   "cell_type": "markdown",
   "metadata": {},
   "source": [
    "# Helper functions"
   ]
  },
  {
   "cell_type": "code",
   "execution_count": 4,
   "metadata": {},
   "outputs": [],
   "source": [
    "def print_cursor(c):\n",
    "    for i in cursor:\n",
    "        print(i)"
   ]
  },
  {
   "cell_type": "markdown",
   "metadata": {},
   "source": [
    "---\n",
    "# Insert Documents"
   ]
  },
  {
   "cell_type": "code",
   "execution_count": 5,
   "metadata": {},
   "outputs": [],
   "source": [
    "client.drop_database(\"local\")"
   ]
  },
  {
   "cell_type": "markdown",
   "metadata": {},
   "source": [
    "## Insert a Single Document"
   ]
  },
  {
   "cell_type": "code",
   "execution_count": 13,
   "metadata": {},
   "outputs": [
    {
     "name": "stdout",
     "output_type": "stream",
     "text": [
      "{'_id': ObjectId('611968d557bd87b0b57e7513'), 'item': 'canvas', 'qty': 100, 'tags': ['cotton'], 'size': {'h': 28, 'w': 35.5, 'uom': 'cm'}}\n"
     ]
    }
   ],
   "source": [
    "db.inventory.insert_one(\n",
    "    {\"item\": \"canvas\",\n",
    "     \"qty\": 100,\n",
    "     \"tags\": [\"cotton\"],\n",
    "     \"size\": {\"h\": 28, \"w\": 35.5, \"uom\": \"cm\"}})\n",
    "\n",
    "cursor = db.inventory.find({\"item\": \"canvas\"})\n",
    "print_cursor(cursor)"
   ]
  },
  {
   "cell_type": "markdown",
   "metadata": {},
   "source": [
    "## Insert Multiple Documents"
   ]
  },
  {
   "cell_type": "code",
   "execution_count": 8,
   "metadata": {},
   "outputs": [
    {
     "name": "stdout",
     "output_type": "stream",
     "text": [
      "{'_id': ObjectId('6119668457bd87b0b57e750a'), 'item': 'canvas', 'qty': 100, 'tags': ['cotton'], 'size': {'h': 28, 'w': 35.5, 'uom': 'cm'}}\n",
      "{'_id': ObjectId('6119669057bd87b0b57e750b'), 'item': 'journal', 'qty': 25, 'tags': ['blank', 'red'], 'size': {'h': 14, 'w': 21, 'uom': 'cm'}}\n",
      "{'_id': ObjectId('6119669057bd87b0b57e750c'), 'item': 'mat', 'qty': 85, 'tags': ['gray'], 'size': {'h': 27.9, 'w': 35.5, 'uom': 'cm'}}\n",
      "{'_id': ObjectId('6119669057bd87b0b57e750d'), 'item': 'mousepad', 'qty': 25, 'tags': ['gel', 'blue'], 'size': {'h': 19, 'w': 22.85, 'uom': 'cm'}}\n"
     ]
    }
   ],
   "source": [
    "db.inventory.insert_many([\n",
    "    {\"item\": \"journal\",\n",
    "     \"qty\": 25,\n",
    "     \"tags\": [\"blank\", \"red\"],\n",
    "     \"size\": {\"h\": 14, \"w\": 21, \"uom\": \"cm\"}},\n",
    "    {\"item\": \"mat\",\n",
    "     \"qty\": 85,\n",
    "     \"tags\": [\"gray\"],\n",
    "     \"size\": {\"h\": 27.9, \"w\": 35.5, \"uom\": \"cm\"}},\n",
    "    {\"item\": \"mousepad\",\n",
    "     \"qty\": 25,\n",
    "     \"tags\": [\"gel\", \"blue\"],\n",
    "     \"size\": {\"h\": 19, \"w\": 22.85, \"uom\": \"cm\"}}])\n",
    "\n",
    "cursor = db.inventory.find()\n",
    "print_cursor(cursor)"
   ]
  },
  {
   "cell_type": "markdown",
   "metadata": {},
   "source": [
    "---\n",
    "# Query Documents"
   ]
  },
  {
   "cell_type": "code",
   "execution_count": 9,
   "metadata": {},
   "outputs": [],
   "source": [
    "client.drop_database(\"local\")"
   ]
  },
  {
   "cell_type": "markdown",
   "metadata": {},
   "source": [
    "## Select All Documents in a Collection"
   ]
  },
  {
   "cell_type": "code",
   "execution_count": null,
   "metadata": {},
   "outputs": [],
   "source": [
    "cursor = db.inventory.find({})\n",
    "print_cursor(cursor)"
   ]
  },
  {
   "cell_type": "markdown",
   "metadata": {},
   "source": [
    "## Specify Equality Condition"
   ]
  },
  {
   "cell_type": "code",
   "execution_count": null,
   "metadata": {},
   "outputs": [],
   "source": [
    "cursor = db.inventory.find({\"item\": \"canvas\"})\n",
    "\n",
    "print_cursor(cursor)"
   ]
  },
  {
   "cell_type": "markdown",
   "metadata": {},
   "source": [
    "## Specify Conditions Using Query Operators"
   ]
  },
  {
   "cell_type": "code",
   "execution_count": null,
   "metadata": {},
   "outputs": [],
   "source": [
    "cursor = db.inventory.find({\"item\": {\"$in\": [\"canvas\", \"mat\"]}})\n",
    "print_cursor(cursor)"
   ]
  },
  {
   "cell_type": "markdown",
   "metadata": {},
   "source": [
    "## Specify AND Conditions"
   ]
  },
  {
   "cell_type": "code",
   "execution_count": null,
   "metadata": {},
   "outputs": [],
   "source": [
    "cursor = db.inventory.find({\"item\": \"canvas\", \"qty\": {\"$lt\": 150}})\n",
    "print_cursor(cursor)"
   ]
  },
  {
   "cell_type": "markdown",
   "metadata": {},
   "source": [
    "## Specify OR Conditions"
   ]
  },
  {
   "cell_type": "code",
   "execution_count": null,
   "metadata": {},
   "outputs": [],
   "source": [
    "cursor = db.inventory.find(\n",
    "    {\"$or\": [{\"item\": \"canvas\"}, {\"qty\": {\"$lt\": 85}}]})\n",
    "print_cursor(cursor)"
   ]
  },
  {
   "cell_type": "markdown",
   "metadata": {},
   "source": [
    "## Specify AND as well as OR Conditions"
   ]
  },
  {
   "cell_type": "code",
   "execution_count": null,
   "metadata": {},
   "outputs": [],
   "source": [
    "cursor = db.inventory.find({\n",
    "    \"item\": \"canvas\",\n",
    "    \"$or\": [{\"qty\": {\"$lt\": 85}}, {\"item\": \"journal\"}]})\n",
    "print_cursor(cursor)"
   ]
  },
  {
   "cell_type": "markdown",
   "metadata": {},
   "source": [
    "---\n",
    "# Query on Embedded/Nested Documents"
   ]
  },
  {
   "cell_type": "code",
   "execution_count": 17,
   "metadata": {},
   "outputs": [],
   "source": [
    "client.drop_database(\"local\")"
   ]
  },
  {
   "cell_type": "code",
   "execution_count": null,
   "metadata": {},
   "outputs": [],
   "source": [
    "from bson.son import SON\n",
    "db.inventory.insert_many([\n",
    "    {\"item\": \"journal\",\n",
    "     \"qty\": 25,\n",
    "     \"size\": SON([(\"h\", 14), (\"w\", 21), (\"uom\", \"cm\")]),\n",
    "     \"status\": \"A\"},\n",
    "    {\"item\": \"notebook\",\n",
    "     \"qty\": 50,\n",
    "     \"size\": SON([(\"h\", 8.5), (\"w\", 11), (\"uom\", \"in\")]),\n",
    "     \"status\": \"A\"},\n",
    "    {\"item\": \"paper\",\n",
    "     \"qty\": 100,\n",
    "     \"size\": SON([(\"h\", 8.5), (\"w\", 11), (\"uom\", \"in\")]),\n",
    "     \"status\": \"D\"},\n",
    "    {\"item\": \"planner\",\n",
    "     \"qty\": 75,\n",
    "     \"size\": SON([(\"h\", 22.85), (\"w\", 30), (\"uom\", \"cm\")]),\n",
    "     \"status\": \"D\"},\n",
    "    {\"item\": \"postcard\",\n",
    "     \"qty\": 45,\n",
    "     \"size\": SON([(\"h\", 10), (\"w\", 15.25), (\"uom\", \"cm\")]),\n",
    "     \"status\": \"A\"}])"
   ]
  },
  {
   "cell_type": "markdown",
   "metadata": {},
   "source": [
    "## Match an Embedded/Nested Document"
   ]
  },
  {
   "cell_type": "code",
   "execution_count": null,
   "metadata": {},
   "outputs": [],
   "source": [
    "cursor = db.inventory.find(\n",
    "    {\"size\": SON([(\"w\", 21), (\"h\", 14), (\"uom\", \"cm\")])})\n",
    "print_cursor(cursor)"
   ]
  },
  {
   "cell_type": "markdown",
   "metadata": {},
   "source": [
    "## Query on Nested Field"
   ]
  },
  {
   "cell_type": "code",
   "execution_count": null,
   "metadata": {},
   "outputs": [],
   "source": []
  },
  {
   "cell_type": "markdown",
   "metadata": {},
   "source": [
    "### Specify Equality Match on a Nested Field"
   ]
  },
  {
   "cell_type": "code",
   "execution_count": null,
   "metadata": {},
   "outputs": [],
   "source": []
  },
  {
   "cell_type": "markdown",
   "metadata": {},
   "source": [
    "### Specify Match using Query Operator"
   ]
  },
  {
   "cell_type": "code",
   "execution_count": null,
   "metadata": {},
   "outputs": [],
   "source": []
  },
  {
   "cell_type": "markdown",
   "metadata": {},
   "source": [
    "### Specify AND Condition"
   ]
  },
  {
   "cell_type": "markdown",
   "metadata": {},
   "source": [
    "---\n",
    "# Query an Array\n"
   ]
  },
  {
   "cell_type": "code",
   "execution_count": null,
   "metadata": {},
   "outputs": [],
   "source": [
    "client.drop_database(\"local\")"
   ]
  },
  {
   "cell_type": "markdown",
   "metadata": {},
   "source": [
    "## Match an Array"
   ]
  },
  {
   "cell_type": "markdown",
   "metadata": {},
   "source": [
    "## Query an Array for an Element"
   ]
  },
  {
   "cell_type": "markdown",
   "metadata": {},
   "source": [
    "## Query an Array for an Element\n",
    "### Query an Array with Compound Filter Conditions on the Array Elements"
   ]
  },
  {
   "cell_type": "markdown",
   "metadata": {},
   "source": [
    "### Query for an Array Element that Meets Multiple Criteria"
   ]
  },
  {
   "cell_type": "markdown",
   "metadata": {},
   "source": [
    "### Query for an Element by the Array Index Position"
   ]
  },
  {
   "cell_type": "markdown",
   "metadata": {},
   "source": [
    "### Query an Array by Array Length"
   ]
  },
  {
   "cell_type": "code",
   "execution_count": null,
   "metadata": {},
   "outputs": [],
   "source": [
    "cursor = db.inventory.find({\"tags\": {\"$size\": 3}})\n",
    "print_cursor(cursor)"
   ]
  },
  {
   "cell_type": "markdown",
   "metadata": {},
   "source": [
    "---\n",
    "# Query an Array of Embedded Documents"
   ]
  },
  {
   "cell_type": "code",
   "execution_count": null,
   "metadata": {},
   "outputs": [],
   "source": [
    "client.drop_database(\"local\")"
   ]
  },
  {
   "cell_type": "markdown",
   "metadata": {},
   "source": [
    "## Query for a Document Nested in an Array"
   ]
  },
  {
   "cell_type": "markdown",
   "metadata": {},
   "source": [
    "## Specify a Query Condition on a Field in an Array of Documents"
   ]
  },
  {
   "cell_type": "markdown",
   "metadata": {},
   "source": [
    "### Specify a Query Condition on a Field Embedded in an Array of Documents"
   ]
  },
  {
   "cell_type": "markdown",
   "metadata": {},
   "source": [
    "### Use the Array Index to Query for a Field in the Embedded Document"
   ]
  },
  {
   "cell_type": "markdown",
   "metadata": {},
   "source": [
    "## Specify Multiple Conditions for Array of Documents"
   ]
  },
  {
   "cell_type": "markdown",
   "metadata": {},
   "source": [
    "### A Single Nested Document Meets Multiple Query Conditions on Nested Fields"
   ]
  },
  {
   "cell_type": "markdown",
   "metadata": {},
   "source": [
    "### Combination of Elements Satisfies the Criteria"
   ]
  },
  {
   "cell_type": "markdown",
   "metadata": {},
   "source": [
    "---\n",
    "# Project Fields to Return from Query"
   ]
  },
  {
   "cell_type": "code",
   "execution_count": null,
   "metadata": {},
   "outputs": [],
   "source": [
    "client.drop_database(\"local\")"
   ]
  },
  {
   "cell_type": "code",
   "execution_count": null,
   "metadata": {},
   "outputs": [],
   "source": [
    "db.inventory.insert_many([\n",
    "    {\"item\": \"journal\",\n",
    "     \"status\": \"A\",\n",
    "     \"size\": {\"h\": 14, \"w\": 21, \"uom\": \"cm\"},\n",
    "     \"instock\": [{\"warehouse\": \"A\", \"qty\": 5}]},\n",
    "    {\"item\": \"notebook\",\n",
    "     \"status\": \"A\",\n",
    "     \"size\": {\"h\": 8.5, \"w\": 11, \"uom\": \"in\"},\n",
    "     \"instock\": [{\"warehouse\": \"C\", \"qty\": 5}]},\n",
    "    {\"item\": \"paper\",\n",
    "     \"status\": \"D\",\n",
    "     \"size\": {\"h\": 8.5, \"w\": 11, \"uom\": \"in\"},\n",
    "     \"instock\": [{\"warehouse\": \"A\", \"qty\": 60}]},\n",
    "    {\"item\": \"planner\",\n",
    "     \"status\": \"D\",\n",
    "     \"size\": {\"h\": 22.85, \"w\": 30, \"uom\": \"cm\"},\n",
    "     \"instock\": [{\"warehouse\": \"A\", \"qty\": 40}]},\n",
    "    {\"item\": \"postcard\",\n",
    "     \"status\": \"A\",\n",
    "     \"size\": {\"h\": 10, \"w\": 15.25, \"uom\": \"cm\"},\n",
    "     \"instock\": [\n",
    "         {\"warehouse\": \"B\", \"qty\": 15},\n",
    "         {\"warehouse\": \"C\", \"qty\": 35}]}])"
   ]
  },
  {
   "cell_type": "markdown",
   "metadata": {},
   "source": [
    "## Return All Fields in Matching Documents"
   ]
  },
  {
   "cell_type": "code",
   "execution_count": null,
   "metadata": {},
   "outputs": [],
   "source": [
    "cursor = db.inventory.find({\"status\": \"A\"})\n",
    "print_cursor(cursor)"
   ]
  },
  {
   "cell_type": "markdown",
   "metadata": {},
   "source": [
    "## Return the Specified Fields and the _id Field Only"
   ]
  },
  {
   "cell_type": "markdown",
   "metadata": {},
   "source": [
    "## Suppress _id Field"
   ]
  },
  {
   "cell_type": "markdown",
   "metadata": {},
   "source": [
    "## Return All But the Excluded Fields"
   ]
  },
  {
   "cell_type": "markdown",
   "metadata": {},
   "source": [
    "## Return Specific Fields in Embedded Documents"
   ]
  },
  {
   "cell_type": "markdown",
   "metadata": {},
   "source": [
    "## Suppress Specific Fields in Embedded Documents"
   ]
  },
  {
   "cell_type": "markdown",
   "metadata": {},
   "source": [
    "## Projection on Embedded Documents in an Array"
   ]
  },
  {
   "cell_type": "markdown",
   "metadata": {},
   "source": [
    "## Project Specific Array Elements in the Returned Array\n",
    "For fields that contain arrays, MongoDB provides the following projection operators for manipulating arrays: `$elemMatch`, `$slice`, and `$`. Try them in lab."
   ]
  },
  {
   "cell_type": "code",
   "execution_count": null,
   "metadata": {},
   "outputs": [],
   "source": [
    "cursor = db.inventory.find(\n",
    "    {\"status\": \"A\"},\n",
    "    {\"item\": 1, \"status\": 1, \"instock\": {\"$slice\": -1}})\n",
    "print_cursor(cursor)"
   ]
  },
  {
   "cell_type": "markdown",
   "metadata": {},
   "source": [
    "---\n",
    "# Query for Null or Missing Fields"
   ]
  },
  {
   "cell_type": "code",
   "execution_count": null,
   "metadata": {},
   "outputs": [],
   "source": [
    "client.drop_database(\"local\")"
   ]
  },
  {
   "cell_type": "code",
   "execution_count": null,
   "metadata": {},
   "outputs": [],
   "source": [
    "db.inventory.insert_many([{\"_id\": 1, \"item\": None}, {\"_id\": 2}])"
   ]
  },
  {
   "cell_type": "markdown",
   "metadata": {},
   "source": [
    "## Equality Filter"
   ]
  },
  {
   "cell_type": "markdown",
   "metadata": {},
   "source": [
    "## Type Check"
   ]
  },
  {
   "cell_type": "markdown",
   "metadata": {},
   "source": [
    "## Existence Check"
   ]
  },
  {
   "cell_type": "markdown",
   "metadata": {},
   "source": [
    "---\n",
    "# Update Documents"
   ]
  },
  {
   "cell_type": "code",
   "execution_count": 65,
   "metadata": {},
   "outputs": [],
   "source": [
    "client.drop_database(\"local\")"
   ]
  },
  {
   "cell_type": "code",
   "execution_count": 66,
   "metadata": {},
   "outputs": [
    {
     "data": {
      "text/plain": [
       "<pymongo.results.InsertManyResult at 0x1c01b70f080>"
      ]
     },
     "execution_count": 66,
     "metadata": {},
     "output_type": "execute_result"
    }
   ],
   "source": [
    "db.inventory.insert_many([\n",
    "    {\"item\": \"canvas\",\n",
    "     \"qty\": 100,\n",
    "     \"size\": {\"h\": 28, \"w\": 35.5, \"uom\": \"cm\"},\n",
    "     \"status\": \"A\"},\n",
    "    {\"item\": \"journal\",\n",
    "     \"qty\": 25,\n",
    "     \"size\": {\"h\": 14, \"w\": 21, \"uom\": \"cm\"},\n",
    "     \"status\": \"A\"},\n",
    "    {\"item\": \"mat\",\n",
    "     \"qty\": 85,\n",
    "     \"size\": {\"h\": 27.9, \"w\": 35.5, \"uom\": \"cm\"},\n",
    "     \"status\": \"A\"},\n",
    "    {\"item\": \"mousepad\",\n",
    "     \"qty\": 25,\n",
    "     \"size\": {\"h\": 19, \"w\": 22.85, \"uom\": \"cm\"},\n",
    "     \"status\": \"P\"},\n",
    "    {\"item\": \"notebook\",\n",
    "     \"qty\": 50,\n",
    "     \"size\": {\"h\": 8.5, \"w\": 11, \"uom\": \"in\"},\n",
    "     \"status\": \"P\"},\n",
    "    {\"item\": \"paper\",\n",
    "     \"qty\": 100,\n",
    "     \"size\": {\"h\": 8.5, \"w\": 11, \"uom\": \"in\"},\n",
    "     \"status\": \"D\"},\n",
    "    {\"item\": \"planner\",\n",
    "     \"qty\": 75,\n",
    "     \"size\": {\"h\": 22.85, \"w\": 30, \"uom\": \"cm\"},\n",
    "     \"status\": \"D\"},\n",
    "    {\"item\": \"postcard\",\n",
    "     \"qty\": 45,\n",
    "     \"size\": {\"h\": 10, \"w\": 15.25, \"uom\": \"cm\"},\n",
    "     \"status\": \"A\"},\n",
    "    {\"item\": \"sketchbook\",\n",
    "     \"qty\": 80,\n",
    "     \"size\": {\"h\": 14, \"w\": 21, \"uom\": \"cm\"},\n",
    "     \"status\": \"A\"},\n",
    "    {\"item\": \"sketch pad\",\n",
    "     \"qty\": 95,\n",
    "     \"size\": {\"h\": 22.85, \"w\": 30.5, \"uom\": \"cm\"},\n",
    "     \"status\": \"A\"}])"
   ]
  },
  {
   "cell_type": "markdown",
   "metadata": {},
   "source": [
    "## Update Documents in a Collection"
   ]
  },
  {
   "cell_type": "markdown",
   "metadata": {},
   "source": [
    "### Update a Single Document"
   ]
  },
  {
   "cell_type": "code",
   "execution_count": 67,
   "metadata": {},
   "outputs": [
    {
     "name": "stdout",
     "output_type": "stream",
     "text": [
      "{'_id': ObjectId('61196b6457bd87b0b57e754b'), 'item': 'paper', 'qty': 100, 'size': {'h': 8.5, 'w': 11, 'uom': 'in'}, 'status': 'D'}\n"
     ]
    }
   ],
   "source": [
    "cursor = db.inventory.find({\"item\": \"paper\"})\n",
    "print_cursor(cursor)"
   ]
  },
  {
   "cell_type": "code",
   "execution_count": 68,
   "metadata": {},
   "outputs": [
    {
     "name": "stdout",
     "output_type": "stream",
     "text": [
      "{'_id': ObjectId('61196b6457bd87b0b57e754b'), 'item': 'paper', 'qty': 100, 'size': {'h': 8.5, 'w': 11, 'uom': 'cm'}, 'status': 'P', 'lastModified': datetime.datetime(2021, 8, 15, 19, 30, 48, 813000)}\n"
     ]
    }
   ],
   "source": [
    "db.inventory.update_one(\n",
    "    {\"item\": \"paper\"},\n",
    "    {\"$set\": {\"size.uom\": \"cm\", \"status\": \"P\"},\n",
    "     \"$currentDate\": {\"lastModified\": True}})\n",
    "\n",
    "\n",
    "\n",
    "cursor = db.inventory.find({\"item\": \"paper\"})\n",
    "print_cursor(cursor)"
   ]
  },
  {
   "cell_type": "markdown",
   "metadata": {},
   "source": [
    "### Update Multiple  Documents"
   ]
  },
  {
   "cell_type": "code",
   "execution_count": 70,
   "metadata": {},
   "outputs": [
    {
     "name": "stdout",
     "output_type": "stream",
     "text": [
      "{'_id': ObjectId('61196b6457bd87b0b57e7547'), 'item': 'journal', 'qty': 25, 'size': {'h': 14, 'w': 21, 'uom': 'cm'}, 'status': 'A'}\n",
      "{'_id': ObjectId('61196b6457bd87b0b57e7549'), 'item': 'mousepad', 'qty': 25, 'size': {'h': 19, 'w': 22.85, 'uom': 'cm'}, 'status': 'P'}\n",
      "{'_id': ObjectId('61196b6457bd87b0b57e754d'), 'item': 'postcard', 'qty': 45, 'size': {'h': 10, 'w': 15.25, 'uom': 'cm'}, 'status': 'A'}\n"
     ]
    }
   ],
   "source": [
    "cursor = db.inventory.find({\"qty\": {\"$lt\": 50}})\n",
    "print_cursor(cursor)"
   ]
  },
  {
   "cell_type": "code",
   "execution_count": 72,
   "metadata": {},
   "outputs": [
    {
     "name": "stdout",
     "output_type": "stream",
     "text": [
      "{'_id': ObjectId('61196b6457bd87b0b57e7547'), 'item': 'journal', 'qty': 25, 'size': {'h': 14, 'w': 21, 'uom': 'in'}, 'status': 'P', 'lastModified': datetime.datetime(2021, 8, 15, 19, 32, 1, 5000)}\n",
      "{'_id': ObjectId('61196b6457bd87b0b57e7549'), 'item': 'mousepad', 'qty': 25, 'size': {'h': 19, 'w': 22.85, 'uom': 'in'}, 'status': 'P', 'lastModified': datetime.datetime(2021, 8, 15, 19, 32, 1, 6000)}\n",
      "{'_id': ObjectId('61196b6457bd87b0b57e754d'), 'item': 'postcard', 'qty': 45, 'size': {'h': 10, 'w': 15.25, 'uom': 'in'}, 'status': 'P', 'lastModified': datetime.datetime(2021, 8, 15, 19, 32, 1, 6000)}\n"
     ]
    }
   ],
   "source": [
    "db.inventory.update_many(\n",
    "    {\"qty\": {\"$lt\": 50}},\n",
    "    {\"$set\": {\"size.uom\": \"in\", \"status\": \"P\"},\n",
    "     \"$currentDate\": {\"lastModified\": True}})\n",
    "\n",
    "cursor = db.inventory.find({\"qty\": {\"$lt\": 50}})\n",
    "print_cursor(cursor)"
   ]
  },
  {
   "cell_type": "markdown",
   "metadata": {},
   "source": [
    "### Replace a Whole Document"
   ]
  },
  {
   "cell_type": "code",
   "execution_count": 92,
   "metadata": {},
   "outputs": [
    {
     "data": {
      "text/plain": [
       "<pymongo.results.InsertManyResult at 0x1c01e1ad6c0>"
      ]
     },
     "execution_count": 92,
     "metadata": {},
     "output_type": "execute_result"
    }
   ],
   "source": [
    "db.inventory.insert_many([\n",
    "    {\"item\": \"canvas\",\n",
    "     \"qty\": 100,\n",
    "     \"size\": {\"h\": 28, \"w\": 35.5, \"uom\": \"cm\"},\n",
    "     \"status\": \"A\"},\n",
    "    {\"item\": \"journal\",\n",
    "     \"qty\": 25,\n",
    "     \"size\": {\"h\": 14, \"w\": 21, \"uom\": \"cm\"},\n",
    "     \"status\": \"A\"},\n",
    "    {\"item\": \"mat\",\n",
    "     \"qty\": 85,\n",
    "     \"size\": {\"h\": 27.9, \"w\": 35.5, \"uom\": \"cm\"},\n",
    "     \"status\": \"A\"},\n",
    "    {\"item\": \"mousepad\",\n",
    "     \"qty\": 25,\n",
    "     \"size\": {\"h\": 19, \"w\": 22.85, \"uom\": \"cm\"},\n",
    "     \"status\": \"P\"},\n",
    "    {\"item\": \"notebook\",\n",
    "     \"qty\": 50,\n",
    "     \"size\": {\"h\": 8.5, \"w\": 11, \"uom\": \"in\"},\n",
    "     \"status\": \"P\"},\n",
    "    {\"item\": \"paper\",\n",
    "     \"qty\": 100,\n",
    "     \"size\": {\"h\": 8.5, \"w\": 11, \"uom\": \"in\"},\n",
    "     \"status\": \"D\"},\n",
    "    {\"item\": \"planner\",\n",
    "     \"qty\": 75,\n",
    "     \"size\": {\"h\": 22.85, \"w\": 30, \"uom\": \"cm\"},\n",
    "     \"status\": \"D\"},\n",
    "    {\"item\": \"postcard\",\n",
    "     \"qty\": 45,\n",
    "     \"size\": {\"h\": 10, \"w\": 15.25, \"uom\": \"cm\"},\n",
    "     \"status\": \"A\"},\n",
    "    {\"item\": \"sketchbook\",\n",
    "     \"qty\": 80,\n",
    "     \"size\": {\"h\": 14, \"w\": 21, \"uom\": \"cm\"},\n",
    "     \"status\": \"A\"},\n",
    "    {\"item\": \"sketch pad\",\n",
    "     \"qty\": 95,\n",
    "     \"size\": {\"h\": 22.85, \"w\": 30.5, \"uom\": \"cm\"},\n",
    "     \"status\": \"A\"}])"
   ]
  },
  {
   "cell_type": "code",
   "execution_count": 93,
   "metadata": {},
   "outputs": [
    {
     "name": "stdout",
     "output_type": "stream",
     "text": [
      "{'_id': ObjectId('61196b6457bd87b0b57e754b'), 'item': 'paper', 'instock': [{'warehouse': 'A', 'qty': 60}, {'warehouse': 'B', 'qty': 40}]}\n",
      "{'_id': ObjectId('6119719357bd87b0b57e7555'), 'item': 'paper', 'qty': 100, 'size': {'h': 8.5, 'w': 11, 'uom': 'in'}, 'status': 'D'}\n"
     ]
    }
   ],
   "source": [
    "cursor = db.inventory.find({\"item\": \"paper\"})\n",
    "print_cursor(cursor)"
   ]
  },
  {
   "cell_type": "code",
   "execution_count": 94,
   "metadata": {
    "scrolled": true
   },
   "outputs": [
    {
     "name": "stdout",
     "output_type": "stream",
     "text": [
      "{'_id': ObjectId('61196b6457bd87b0b57e754b'), 'item': 'paper', 'instock': [{'warehouse': 'A', 'qty': 60}, {'warehouse': 'B', 'qty': 40}]}\n",
      "{'_id': ObjectId('6119719357bd87b0b57e7555'), 'item': 'paper', 'qty': 100, 'size': {'h': 8.5, 'w': 11, 'uom': 'in'}, 'status': 'D'}\n"
     ]
    }
   ],
   "source": [
    "\n",
    "\n",
    "db.inventory.replace_one(\n",
    "    {\"item\": \"paper\"},\n",
    "    {\"item\": \"paper\",\n",
    "     \"instock\": [\n",
    "         {\"warehouse\": \"A\", \"qty\": 60},\n",
    "         {\"warehouse\": \"B\", \"qty\": 40}]})\n",
    "\n",
    "cursor = db.inventory.find({\"item\": \"paper\"})\n",
    "print_cursor(cursor)"
   ]
  },
  {
   "cell_type": "markdown",
   "metadata": {},
   "source": [
    "---\n",
    "# Delete Documents"
   ]
  },
  {
   "cell_type": "code",
   "execution_count": 47,
   "metadata": {},
   "outputs": [],
   "source": [
    "client.drop_database(\"local\")"
   ]
  },
  {
   "cell_type": "code",
   "execution_count": 48,
   "metadata": {},
   "outputs": [
    {
     "data": {
      "text/plain": [
       "<pymongo.results.InsertManyResult at 0x1c01d5ac380>"
      ]
     },
     "execution_count": 48,
     "metadata": {},
     "output_type": "execute_result"
    }
   ],
   "source": [
    "client.drop_database(\"local\")\n",
    "db.inventory.insert_many([\n",
    "    {\"item\": \"journal\",\n",
    "     \"qty\": 25,\n",
    "     \"size\": {\"h\": 14, \"w\": 21, \"uom\": \"cm\"},\n",
    "     \"status\": \"A\"},\n",
    "    {\"item\": \"notebook\",\n",
    "     \"qty\": 50,\n",
    "     \"size\": {\"h\": 8.5, \"w\": 11, \"uom\": \"in\"},\n",
    "     \"status\": \"P\"},\n",
    "    {\"item\": \"paper\",\n",
    "     \"qty\": 100,\n",
    "     \"size\": {\"h\": 8.5, \"w\": 11, \"uom\": \"in\"},\n",
    "     \"status\": \"D\"},\n",
    "    {\"item\": \"planner\",\n",
    "     \"qty\": 75,\n",
    "     \"size\": {\"h\": 22.85, \"w\": 30, \"uom\": \"cm\"},\n",
    "     \"status\": \"D\"},\n",
    "    {\"item\": \"postcard\",\n",
    "     \"qty\": 45,\n",
    "     \"size\": {\"h\": 10, \"w\": 15.25, \"uom\": \"cm\"},\n",
    "     \"status\": \"A\"}])"
   ]
  },
  {
   "cell_type": "markdown",
   "metadata": {},
   "source": [
    "## Delete All Documents"
   ]
  },
  {
   "cell_type": "code",
   "execution_count": 52,
   "metadata": {},
   "outputs": [
    {
     "name": "stdout",
     "output_type": "stream",
     "text": [
      "{'_id': ObjectId('61196a9d57bd87b0b57e753c'), 'item': 'journal', 'qty': 25, 'size': {'h': 14, 'w': 21, 'uom': 'cm'}, 'status': 'A'}\n",
      "{'_id': ObjectId('61196a9d57bd87b0b57e7540'), 'item': 'postcard', 'qty': 45, 'size': {'h': 10, 'w': 15.25, 'uom': 'cm'}, 'status': 'A'}\n"
     ]
    }
   ],
   "source": [
    "cursor = db.inventory.find({\"status\": \"A\"})\n",
    "print_cursor(cursor)"
   ]
  },
  {
   "cell_type": "code",
   "execution_count": 27,
   "metadata": {},
   "outputs": [
    {
     "data": {
      "text/plain": [
       "<pymongo.results.DeleteResult at 0x1c01b7319c0>"
      ]
     },
     "execution_count": 27,
     "metadata": {},
     "output_type": "execute_result"
    }
   ],
   "source": [
    "db.inventory.delete_many({})"
   ]
  },
  {
   "cell_type": "code",
   "execution_count": 28,
   "metadata": {},
   "outputs": [],
   "source": [
    "cursor = db.inventory.find({\"status\": \"A\"})\n",
    "print_cursor(cursor)"
   ]
  },
  {
   "cell_type": "markdown",
   "metadata": {},
   "source": [
    "## Delete All Documents that Match a Condition"
   ]
  },
  {
   "cell_type": "code",
   "execution_count": 29,
   "metadata": {},
   "outputs": [
    {
     "data": {
      "text/plain": [
       "<pymongo.results.InsertManyResult at 0x1c01b73ff80>"
      ]
     },
     "execution_count": 29,
     "metadata": {},
     "output_type": "execute_result"
    }
   ],
   "source": [
    "client.drop_database(\"local\")\n",
    "db.inventory.insert_many([\n",
    "    {\"item\": \"journal\",\n",
    "     \"qty\": 25,\n",
    "     \"size\": {\"h\": 14, \"w\": 21, \"uom\": \"cm\"},\n",
    "     \"status\": \"A\"},\n",
    "    {\"item\": \"notebook\",\n",
    "     \"qty\": 50,\n",
    "     \"size\": {\"h\": 8.5, \"w\": 11, \"uom\": \"in\"},\n",
    "     \"status\": \"P\"},\n",
    "    {\"item\": \"paper\",\n",
    "     \"qty\": 100,\n",
    "     \"size\": {\"h\": 8.5, \"w\": 11, \"uom\": \"in\"},\n",
    "     \"status\": \"D\"},\n",
    "    {\"item\": \"planner\",\n",
    "     \"qty\": 75,\n",
    "     \"size\": {\"h\": 22.85, \"w\": 30, \"uom\": \"cm\"},\n",
    "     \"status\": \"D\"},\n",
    "    {\"item\": \"postcard\",\n",
    "     \"qty\": 45,\n",
    "     \"size\": {\"h\": 10, \"w\": 15.25, \"uom\": \"cm\"},\n",
    "     \"status\": \"A\"}])"
   ]
  },
  {
   "cell_type": "code",
   "execution_count": 62,
   "metadata": {},
   "outputs": [
    {
     "name": "stdout",
     "output_type": "stream",
     "text": [
      "{'_id': ObjectId('61196ad857bd87b0b57e7545'), 'item': 'postcard', 'qty': 45, 'size': {'h': 10, 'w': 15.25, 'uom': 'cm'}, 'status': 'A'}\n"
     ]
    }
   ],
   "source": [
    "cursor = db.inventory.find({\"status\": \"A\"})\n",
    "print_cursor(cursor)"
   ]
  },
  {
   "cell_type": "code",
   "execution_count": 63,
   "metadata": {},
   "outputs": [
    {
     "data": {
      "text/plain": [
       "<pymongo.results.DeleteResult at 0x1c01d5b1540>"
      ]
     },
     "execution_count": 63,
     "metadata": {},
     "output_type": "execute_result"
    }
   ],
   "source": [
    "db.inventory.delete_many({\"status\": \"A\"})"
   ]
  },
  {
   "cell_type": "code",
   "execution_count": 64,
   "metadata": {},
   "outputs": [],
   "source": [
    "cursor = db.inventory.find({\"status\": \"A\"})\n",
    "print_cursor(cursor)"
   ]
  },
  {
   "cell_type": "markdown",
   "metadata": {},
   "source": [
    "## Delete Only One Document that Matches a Condition"
   ]
  },
  {
   "cell_type": "code",
   "execution_count": 55,
   "metadata": {},
   "outputs": [
    {
     "data": {
      "text/plain": [
       "<pymongo.results.InsertManyResult at 0x1c01d5b2580>"
      ]
     },
     "execution_count": 55,
     "metadata": {},
     "output_type": "execute_result"
    }
   ],
   "source": [
    "client.drop_database(\"local\")\n",
    "db.inventory.insert_many([\n",
    "    {\"item\": \"journal\",\n",
    "     \"qty\": 25,\n",
    "     \"size\": {\"h\": 14, \"w\": 21, \"uom\": \"cm\"},\n",
    "     \"status\": \"A\"},\n",
    "    {\"item\": \"notebook\",\n",
    "     \"qty\": 50,\n",
    "     \"size\": {\"h\": 8.5, \"w\": 11, \"uom\": \"in\"},\n",
    "     \"status\": \"P\"},\n",
    "    {\"item\": \"paper\",\n",
    "     \"qty\": 100,\n",
    "     \"size\": {\"h\": 8.5, \"w\": 11, \"uom\": \"in\"},\n",
    "     \"status\": \"D\"},\n",
    "    {\"item\": \"planner\",\n",
    "     \"qty\": 75,\n",
    "     \"size\": {\"h\": 22.85, \"w\": 30, \"uom\": \"cm\"},\n",
    "     \"status\": \"D\"},\n",
    "    {\"item\": \"postcard\",\n",
    "     \"qty\": 45,\n",
    "     \"size\": {\"h\": 10, \"w\": 15.25, \"uom\": \"cm\"},\n",
    "     \"status\": \"A\"}])"
   ]
  },
  {
   "cell_type": "code",
   "execution_count": 59,
   "metadata": {},
   "outputs": [
    {
     "name": "stdout",
     "output_type": "stream",
     "text": [
      "{'_id': ObjectId('61196ad857bd87b0b57e7543'), 'item': 'paper', 'qty': 100, 'size': {'h': 8.5, 'w': 11, 'uom': 'in'}, 'status': 'D'}\n",
      "{'_id': ObjectId('61196ad857bd87b0b57e7544'), 'item': 'planner', 'qty': 75, 'size': {'h': 22.85, 'w': 30, 'uom': 'cm'}, 'status': 'D'}\n"
     ]
    }
   ],
   "source": [
    "cursor = db.inventory.find({\"status\": \"D\"})\n",
    "print_cursor(cursor)"
   ]
  },
  {
   "cell_type": "code",
   "execution_count": 60,
   "metadata": {},
   "outputs": [
    {
     "data": {
      "text/plain": [
       "<pymongo.results.DeleteResult at 0x1c01d5b1280>"
      ]
     },
     "execution_count": 60,
     "metadata": {},
     "output_type": "execute_result"
    }
   ],
   "source": [
    "db.inventory.delete_one({\"status\": \"D\"})"
   ]
  },
  {
   "cell_type": "code",
   "execution_count": 61,
   "metadata": {},
   "outputs": [
    {
     "name": "stdout",
     "output_type": "stream",
     "text": [
      "{'_id': ObjectId('61196ad857bd87b0b57e7544'), 'item': 'planner', 'qty': 75, 'size': {'h': 22.85, 'w': 30, 'uom': 'cm'}, 'status': 'D'}\n"
     ]
    }
   ],
   "source": [
    "cursor = db.inventory.find({\"status\": \"D\"})\n",
    "print_cursor(cursor)"
   ]
  }
 ],
 "metadata": {
  "kernelspec": {
   "display_name": "Python 3",
   "language": "python",
   "name": "python3"
  },
  "language_info": {
   "codemirror_mode": {
    "name": "ipython",
    "version": 3
   },
   "file_extension": ".py",
   "mimetype": "text/x-python",
   "name": "python",
   "nbconvert_exporter": "python",
   "pygments_lexer": "ipython3",
   "version": "3.8.3"
  }
 },
 "nbformat": 4,
 "nbformat_minor": 5
}
