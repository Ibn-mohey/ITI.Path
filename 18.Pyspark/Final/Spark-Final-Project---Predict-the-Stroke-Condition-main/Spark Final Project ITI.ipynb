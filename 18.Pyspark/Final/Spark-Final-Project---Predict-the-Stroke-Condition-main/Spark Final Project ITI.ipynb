{
 "cells": [
  {
   "cell_type": "markdown",
   "metadata": {},
   "source": [
    "<div style=\"background-color: #122622\";>\n",
    "    <br>\n",
    "<h1 style=\"text-align: center;color: white;font-size:50px\"> Abdullah Abdelhakeem </h1>\n",
    "<h2 style=\"text-align: center;color: red;font-size:70px\"> Spark Final Project</h2>\n",
    "<h3 style=\"text-align: center;color: white;font-size:30px\"> SPARK (PySpark) </h3><br><br>\n",
    " </div>   "
   ]
  },
  {
   "cell_type": "markdown",
   "metadata": {
    "id": "QOwErXa3hBTM"
   },
   "source": [
    "##### **Abdullah Abdelhakeem Amer.** \n",
    "<b><font color='blue'>AI-PRO Spark Team ITI</font></b>"
   ]
  },
  {
   "cell_type": "markdown",
   "metadata": {},
   "source": [
    "## Objective:\n",
    "- The objective from this project is to create a <b>Logistic Regression Classifier</b> to predict the <b>Stroke Condition</b>.\n",
    "- <b>Stoke</b> is a condition in which either the blood flow to the brain stops or blood flow is excessive.\n",
    "- It is required to obtain <b>ROC > 0.65</b>."
   ]
  },
  {
   "cell_type": "markdown",
   "metadata": {},
   "source": [
    "### Data:\n",
    "- Data is provided in csv format in a file named <b>healthcare-dataset-stroke-data.csv</b>"
   ]
  },
  {
   "cell_type": "markdown",
   "metadata": {},
   "source": [
    "### Column names and data types are as follow:\n",
    "- id, integer.\n",
    "- gender, string.\n",
    "- age, double.\n",
    "- hypertension, integer.\n",
    "- heart_disease, integer.\n",
    "- ever_married, string.\n",
    "- work_type, string.\n",
    "- Residence_type, string.\n",
    "- avg_glucose_level, double.\n",
    "- bmi, double.\n",
    "- smoking_status, string.\n",
    "- stroke, integer <b>(Target Label)</b>.\n",
    "If the person has stroke the stroke label value is <b>\"1\"</b> otherwise <b>\"0\"</b>."
   ]
  },
  {
   "cell_type": "markdown",
   "metadata": {
    "id": "gUxZnsqrmynW"
   },
   "source": [
    "## To perform this task follow the following guiding steps:"
   ]
  },
  {
   "cell_type": "markdown",
   "metadata": {
    "id": "gUxZnsqrmynW"
   },
   "source": [
    "### Create a spark session and import the required libraries"
   ]
  },
  {
   "cell_type": "code",
   "execution_count": 1,
   "metadata": {
    "ExecuteTime": {
     "end_time": "2021-11-03T07:59:36.220153Z",
     "start_time": "2021-11-03T07:58:36.800368Z"
    }
   },
   "outputs": [],
   "source": [
    "import findspark\n",
    "findspark.init()\n",
    "import pyspark\n",
    "from pyspark.sql import SparkSession\n",
    "spark = SparkSession.builder.appName(\"MyProject_Abdullah\").getOrCreate()"
   ]
  },
  {
   "cell_type": "code",
   "execution_count": 2,
   "metadata": {
    "ExecuteTime": {
     "end_time": "2021-11-03T09:17:05.276647Z",
     "start_time": "2021-11-03T09:17:05.270785Z"
    }
   },
   "outputs": [],
   "source": [
    "import pyspark.sql.functions as F\n",
    "from pyspark.sql.types import DoubleType, StringType, StructType, StructField, IntegerType\n",
    "import seaborn as sns"
   ]
  },
  {
   "cell_type": "markdown",
   "metadata": {
    "id": "gUxZnsqrmynW"
   },
   "source": [
    "### Create a data schema programatically"
   ]
  },
  {
   "cell_type": "code",
   "execution_count": 3,
   "metadata": {
    "ExecuteTime": {
     "end_time": "2021-11-03T08:00:08.953254Z",
     "start_time": "2021-11-03T07:59:45.153576Z"
    }
   },
   "outputs": [],
   "source": [
    "data = spark.read.csv(\"healthcare-dataset-stroke-data.csv\", header=\"true\", inferSchema=\"true\")"
   ]
  },
  {
   "cell_type": "code",
   "execution_count": 4,
   "metadata": {
    "ExecuteTime": {
     "end_time": "2021-11-03T08:02:29.725222Z",
     "start_time": "2021-11-03T08:02:29.718392Z"
    }
   },
   "outputs": [
    {
     "data": {
      "text/plain": [
       "pyspark.sql.dataframe.DataFrame"
      ]
     },
     "execution_count": 4,
     "metadata": {},
     "output_type": "execute_result"
    }
   ],
   "source": [
    "type(data)"
   ]
  },
  {
   "cell_type": "code",
   "execution_count": 5,
   "metadata": {
    "ExecuteTime": {
     "end_time": "2021-11-03T08:00:44.424212Z",
     "start_time": "2021-11-03T08:00:43.854935Z"
    }
   },
   "outputs": [
    {
     "name": "stdout",
     "output_type": "stream",
     "text": [
      "+-----+------+----+------------+-------------+------------+-------------+--------------+-----------------+----+---------------+------+\n",
      "|   id|gender| age|hypertension|heart_disease|ever_married|    work_type|Residence_type|avg_glucose_level| bmi| smoking_status|stroke|\n",
      "+-----+------+----+------------+-------------+------------+-------------+--------------+-----------------+----+---------------+------+\n",
      "| 9046|  Male|67.0|           0|            1|         Yes|      Private|         Urban|           228.69|36.6|formerly smoked|     1|\n",
      "|51676|Female|61.0|           0|            0|         Yes|Self-employed|         Rural|           202.21| N/A|   never smoked|     1|\n",
      "|31112|  Male|80.0|           0|            1|         Yes|      Private|         Rural|           105.92|32.5|   never smoked|     1|\n",
      "|60182|Female|49.0|           0|            0|         Yes|      Private|         Urban|           171.23|34.4|         smokes|     1|\n",
      "| 1665|Female|79.0|           1|            0|         Yes|Self-employed|         Rural|           174.12|  24|   never smoked|     1|\n",
      "+-----+------+----+------------+-------------+------------+-------------+--------------+-----------------+----+---------------+------+\n",
      "only showing top 5 rows\n",
      "\n"
     ]
    }
   ],
   "source": [
    "data.show(5)"
   ]
  },
  {
   "cell_type": "code",
   "execution_count": 6,
   "metadata": {
    "ExecuteTime": {
     "end_time": "2021-11-03T08:00:11.492220Z",
     "start_time": "2021-11-03T08:00:11.483433Z"
    }
   },
   "outputs": [
    {
     "name": "stdout",
     "output_type": "stream",
     "text": [
      "root\n",
      " |-- id: integer (nullable = true)\n",
      " |-- gender: string (nullable = true)\n",
      " |-- age: double (nullable = true)\n",
      " |-- hypertension: integer (nullable = true)\n",
      " |-- heart_disease: integer (nullable = true)\n",
      " |-- ever_married: string (nullable = true)\n",
      " |-- work_type: string (nullable = true)\n",
      " |-- Residence_type: string (nullable = true)\n",
      " |-- avg_glucose_level: double (nullable = true)\n",
      " |-- bmi: string (nullable = true)\n",
      " |-- smoking_status: string (nullable = true)\n",
      " |-- stroke: integer (nullable = true)\n",
      "\n"
     ]
    }
   ],
   "source": [
    "data.printSchema()"
   ]
  },
  {
   "cell_type": "code",
   "execution_count": 7,
   "metadata": {
    "ExecuteTime": {
     "end_time": "2021-11-03T08:00:29.760215Z",
     "start_time": "2021-11-03T08:00:29.747526Z"
    }
   },
   "outputs": [
    {
     "data": {
      "text/plain": [
       "StructType(List(StructField(id,IntegerType,true),StructField(gender,StringType,true),StructField(age,DoubleType,true),StructField(hypertension,IntegerType,true),StructField(heart_disease,IntegerType,true),StructField(ever_married,StringType,true),StructField(work_type,StringType,true),StructField(Residence_type,StringType,true),StructField(avg_glucose_level,DoubleType,true),StructField(bmi,StringType,true),StructField(smoking_status,StringType,true),StructField(stroke,IntegerType,true)))"
      ]
     },
     "execution_count": 7,
     "metadata": {},
     "output_type": "execute_result"
    }
   ],
   "source": [
    "data.schema"
   ]
  },
  {
   "cell_type": "code",
   "execution_count": 8,
   "metadata": {
    "ExecuteTime": {
     "end_time": "2021-11-03T08:02:03.975620Z",
     "start_time": "2021-11-03T08:02:03.969763Z"
    }
   },
   "outputs": [],
   "source": [
    "Schema=data.schema"
   ]
  },
  {
   "cell_type": "markdown",
   "metadata": {
    "id": "gUxZnsqrmynW"
   },
   "source": [
    "### Read the data using the standard DataReader (Key,Value) pairs format\n",
    "- Provide the schema and any other required options."
   ]
  },
  {
   "cell_type": "code",
   "execution_count": 9,
   "metadata": {
    "ExecuteTime": {
     "end_time": "2021-11-03T08:02:46.983244Z",
     "start_time": "2021-11-03T08:02:46.907092Z"
    }
   },
   "outputs": [],
   "source": [
    "data = spark.read.csv(\"healthcare-dataset-stroke-data.csv\", header=\"true\", schema=Schema)"
   ]
  },
  {
   "cell_type": "markdown",
   "metadata": {
    "id": "gUxZnsqrmynW"
   },
   "source": [
    "### Explore the data \n",
    "#### You have to do the following:\n",
    "- Print the Schema.\n",
    "- Show the first 10 rows from the data.\n",
    "- Explore null values and show how many null values in each column.\n",
    "- Plot a count plot for the target label and <b>notice the graph</b>.\n",
    "- Perform any additional EDA you find useful."
   ]
  },
  {
   "cell_type": "code",
   "execution_count": 10,
   "metadata": {
    "ExecuteTime": {
     "end_time": "2021-11-03T08:04:01.325889Z",
     "start_time": "2021-11-03T08:03:58.399121Z"
    }
   },
   "outputs": [
    {
     "name": "stdout",
     "output_type": "stream",
     "text": [
      "5110\n"
     ]
    }
   ],
   "source": [
    "data_count = data.count()\n",
    "print(data_count)"
   ]
  },
  {
   "cell_type": "code",
   "execution_count": 11,
   "metadata": {
    "ExecuteTime": {
     "end_time": "2021-11-03T08:02:58.704240Z",
     "start_time": "2021-11-03T08:02:58.696428Z"
    }
   },
   "outputs": [
    {
     "name": "stdout",
     "output_type": "stream",
     "text": [
      "root\n",
      " |-- id: integer (nullable = true)\n",
      " |-- gender: string (nullable = true)\n",
      " |-- age: double (nullable = true)\n",
      " |-- hypertension: integer (nullable = true)\n",
      " |-- heart_disease: integer (nullable = true)\n",
      " |-- ever_married: string (nullable = true)\n",
      " |-- work_type: string (nullable = true)\n",
      " |-- Residence_type: string (nullable = true)\n",
      " |-- avg_glucose_level: double (nullable = true)\n",
      " |-- bmi: string (nullable = true)\n",
      " |-- smoking_status: string (nullable = true)\n",
      " |-- stroke: integer (nullable = true)\n",
      "\n"
     ]
    }
   ],
   "source": [
    "data.printSchema()"
   ]
  },
  {
   "cell_type": "code",
   "execution_count": 12,
   "metadata": {
    "ExecuteTime": {
     "end_time": "2021-11-03T08:03:24.236663Z",
     "start_time": "2021-11-03T08:03:23.978912Z"
    }
   },
   "outputs": [
    {
     "name": "stdout",
     "output_type": "stream",
     "text": [
      "+-----+------+----+------------+-------------+------------+-------------+--------------+-----------------+----+---------------+------+\n",
      "|   id|gender| age|hypertension|heart_disease|ever_married|    work_type|Residence_type|avg_glucose_level| bmi| smoking_status|stroke|\n",
      "+-----+------+----+------------+-------------+------------+-------------+--------------+-----------------+----+---------------+------+\n",
      "| 9046|  Male|67.0|           0|            1|         Yes|      Private|         Urban|           228.69|36.6|formerly smoked|     1|\n",
      "|51676|Female|61.0|           0|            0|         Yes|Self-employed|         Rural|           202.21| N/A|   never smoked|     1|\n",
      "|31112|  Male|80.0|           0|            1|         Yes|      Private|         Rural|           105.92|32.5|   never smoked|     1|\n",
      "|60182|Female|49.0|           0|            0|         Yes|      Private|         Urban|           171.23|34.4|         smokes|     1|\n",
      "| 1665|Female|79.0|           1|            0|         Yes|Self-employed|         Rural|           174.12|  24|   never smoked|     1|\n",
      "|56669|  Male|81.0|           0|            0|         Yes|      Private|         Urban|           186.21|  29|formerly smoked|     1|\n",
      "|53882|  Male|74.0|           1|            1|         Yes|      Private|         Rural|            70.09|27.4|   never smoked|     1|\n",
      "|10434|Female|69.0|           0|            0|          No|      Private|         Urban|            94.39|22.8|   never smoked|     1|\n",
      "|27419|Female|59.0|           0|            0|         Yes|      Private|         Rural|            76.15| N/A|        Unknown|     1|\n",
      "|60491|Female|78.0|           0|            0|         Yes|      Private|         Urban|            58.57|24.2|        Unknown|     1|\n",
      "+-----+------+----+------------+-------------+------------+-------------+--------------+-----------------+----+---------------+------+\n",
      "only showing top 10 rows\n",
      "\n"
     ]
    }
   ],
   "source": [
    "data.show(10)"
   ]
  },
  {
   "cell_type": "code",
   "execution_count": 14,
   "metadata": {
    "ExecuteTime": {
     "end_time": "2021-11-03T08:07:11.854857Z",
     "start_time": "2021-11-03T08:07:11.484807Z"
    }
   },
   "outputs": [
    {
     "name": "stdout",
     "output_type": "stream",
     "text": [
      "[]\n"
     ]
    }
   ],
   "source": [
    "null_columns = []\n",
    "for col_name in data.columns:\n",
    "    null_values = data.where(F.col(col_name).isNull()).count()\n",
    "    if(null_values > 0):\n",
    "        null_columns.append((col_name, null_values))\n",
    "print(null_columns)"
   ]
  },
  {
   "cell_type": "code",
   "execution_count": 15,
   "metadata": {
    "ExecuteTime": {
     "end_time": "2021-11-03T08:07:02.603699Z",
     "start_time": "2021-11-03T08:07:00.795532Z"
    }
   },
   "outputs": [
    {
     "name": "stdout",
     "output_type": "stream",
     "text": [
      "[('bmi', 201)]\n"
     ]
    }
   ],
   "source": [
    "null_columns = []\n",
    "for col_name in data.columns:\n",
    "    null_values = data.where(F.col(col_name)==\"N/A\").count()\n",
    "    if(null_values > 0):\n",
    "        null_columns.append((col_name, null_values))\n",
    "print(null_columns)"
   ]
  },
  {
   "cell_type": "code",
   "execution_count": 19,
   "metadata": {
    "ExecuteTime": {
     "end_time": "2021-11-03T08:06:37.190965Z",
     "start_time": "2021-11-03T08:06:05.061598Z"
    }
   },
   "outputs": [],
   "source": [
    "df=data.toPandas()"
   ]
  },
  {
   "cell_type": "code",
   "execution_count": 20,
   "metadata": {
    "ExecuteTime": {
     "end_time": "2021-11-03T08:09:14.797329Z",
     "start_time": "2021-11-03T08:09:14.288568Z"
    }
   },
   "outputs": [
    {
     "data": {
      "text/html": [
       "<div>\n",
       "<style scoped>\n",
       "    .dataframe tbody tr th:only-of-type {\n",
       "        vertical-align: middle;\n",
       "    }\n",
       "\n",
       "    .dataframe tbody tr th {\n",
       "        vertical-align: top;\n",
       "    }\n",
       "\n",
       "    .dataframe thead th {\n",
       "        text-align: right;\n",
       "    }\n",
       "</style>\n",
       "<table border=\"1\" class=\"dataframe\">\n",
       "  <thead>\n",
       "    <tr style=\"text-align: right;\">\n",
       "      <th></th>\n",
       "      <th>id</th>\n",
       "      <th>gender</th>\n",
       "      <th>age</th>\n",
       "      <th>hypertension</th>\n",
       "      <th>heart_disease</th>\n",
       "      <th>ever_married</th>\n",
       "      <th>work_type</th>\n",
       "      <th>Residence_type</th>\n",
       "      <th>avg_glucose_level</th>\n",
       "      <th>bmi</th>\n",
       "      <th>smoking_status</th>\n",
       "      <th>stroke</th>\n",
       "    </tr>\n",
       "  </thead>\n",
       "  <tbody>\n",
       "    <tr>\n",
       "      <th>0</th>\n",
       "      <td>9046</td>\n",
       "      <td>Male</td>\n",
       "      <td>67.0</td>\n",
       "      <td>0</td>\n",
       "      <td>1</td>\n",
       "      <td>Yes</td>\n",
       "      <td>Private</td>\n",
       "      <td>Urban</td>\n",
       "      <td>228.69</td>\n",
       "      <td>36.6</td>\n",
       "      <td>formerly smoked</td>\n",
       "      <td>1</td>\n",
       "    </tr>\n",
       "    <tr>\n",
       "      <th>1</th>\n",
       "      <td>51676</td>\n",
       "      <td>Female</td>\n",
       "      <td>61.0</td>\n",
       "      <td>0</td>\n",
       "      <td>0</td>\n",
       "      <td>Yes</td>\n",
       "      <td>Self-employed</td>\n",
       "      <td>Rural</td>\n",
       "      <td>202.21</td>\n",
       "      <td>N/A</td>\n",
       "      <td>never smoked</td>\n",
       "      <td>1</td>\n",
       "    </tr>\n",
       "    <tr>\n",
       "      <th>2</th>\n",
       "      <td>31112</td>\n",
       "      <td>Male</td>\n",
       "      <td>80.0</td>\n",
       "      <td>0</td>\n",
       "      <td>1</td>\n",
       "      <td>Yes</td>\n",
       "      <td>Private</td>\n",
       "      <td>Rural</td>\n",
       "      <td>105.92</td>\n",
       "      <td>32.5</td>\n",
       "      <td>never smoked</td>\n",
       "      <td>1</td>\n",
       "    </tr>\n",
       "    <tr>\n",
       "      <th>3</th>\n",
       "      <td>60182</td>\n",
       "      <td>Female</td>\n",
       "      <td>49.0</td>\n",
       "      <td>0</td>\n",
       "      <td>0</td>\n",
       "      <td>Yes</td>\n",
       "      <td>Private</td>\n",
       "      <td>Urban</td>\n",
       "      <td>171.23</td>\n",
       "      <td>34.4</td>\n",
       "      <td>smokes</td>\n",
       "      <td>1</td>\n",
       "    </tr>\n",
       "    <tr>\n",
       "      <th>4</th>\n",
       "      <td>1665</td>\n",
       "      <td>Female</td>\n",
       "      <td>79.0</td>\n",
       "      <td>1</td>\n",
       "      <td>0</td>\n",
       "      <td>Yes</td>\n",
       "      <td>Self-employed</td>\n",
       "      <td>Rural</td>\n",
       "      <td>174.12</td>\n",
       "      <td>24</td>\n",
       "      <td>never smoked</td>\n",
       "      <td>1</td>\n",
       "    </tr>\n",
       "  </tbody>\n",
       "</table>\n",
       "</div>"
      ],
      "text/plain": [
       "      id  gender   age  hypertension  heart_disease ever_married  \\\n",
       "0   9046    Male  67.0             0              1          Yes   \n",
       "1  51676  Female  61.0             0              0          Yes   \n",
       "2  31112    Male  80.0             0              1          Yes   \n",
       "3  60182  Female  49.0             0              0          Yes   \n",
       "4   1665  Female  79.0             1              0          Yes   \n",
       "\n",
       "       work_type Residence_type  avg_glucose_level   bmi   smoking_status  \\\n",
       "0        Private          Urban             228.69  36.6  formerly smoked   \n",
       "1  Self-employed          Rural             202.21   N/A     never smoked   \n",
       "2        Private          Rural             105.92  32.5     never smoked   \n",
       "3        Private          Urban             171.23  34.4           smokes   \n",
       "4  Self-employed          Rural             174.12    24     never smoked   \n",
       "\n",
       "   stroke  \n",
       "0       1  \n",
       "1       1  \n",
       "2       1  \n",
       "3       1  \n",
       "4       1  "
      ]
     },
     "execution_count": 20,
     "metadata": {},
     "output_type": "execute_result"
    }
   ],
   "source": [
    "df.head()"
   ]
  },
  {
   "cell_type": "code",
   "execution_count": 21,
   "metadata": {
    "ExecuteTime": {
     "end_time": "2021-11-03T08:10:32.327315Z",
     "start_time": "2021-11-03T08:10:32.203322Z"
    }
   },
   "outputs": [
    {
     "data": {
      "image/png": "[encoded data removed]",
      "text/plain": [
       "<Figure size 432x288 with 1 Axes>"
      ]
     },
     "metadata": {
      "needs_background": "light"
     },
     "output_type": "display_data"
    }
   ],
   "source": [
    "sns.countplot(x=\"stroke\",data=df);"
   ]
  },
  {
   "cell_type": "code",
   "execution_count": 26,
   "metadata": {
    "ExecuteTime": {
     "end_time": "2021-11-03T08:11:37.284243Z",
     "start_time": "2021-11-03T08:11:35.370721Z"
    }
   },
   "outputs": [
    {
     "data": {
      "text/plain": [
       "<AxesSubplot:xlabel='age', ylabel='Count'>"
      ]
     },
     "execution_count": 26,
     "metadata": {},
     "output_type": "execute_result"
    },
    {
     "data": {
      "image/png": "[encoded data removed]",
      "text/plain": [
       "<Figure size 432x288 with 1 Axes>"
      ]
     },
     "metadata": {
      "needs_background": "light"
     },
     "output_type": "display_data"
    }
   ],
   "source": [
    "sns.histplot(x='age',data=df , kde=True , bins=30)"
   ]
  },
  {
   "cell_type": "markdown",
   "metadata": {},
   "source": [
    "### Get the summary statistics of the age column\n",
    "- You will find the minimum age is about <b>0.08</b>.\n",
    "- Remove rows for the age below <b>2 years old</b>."
   ]
  },
  {
   "cell_type": "code",
   "execution_count": 27,
   "metadata": {
    "ExecuteTime": {
     "end_time": "2021-11-03T08:15:06.785654Z",
     "start_time": "2021-11-03T08:15:06.301393Z"
    }
   },
   "outputs": [
    {
     "name": "stdout",
     "output_type": "stream",
     "text": [
      "+-------+------------------+\n",
      "|summary|               age|\n",
      "+-------+------------------+\n",
      "|  count|              5110|\n",
      "|   mean|43.226614481409015|\n",
      "| stddev| 22.61264672311348|\n",
      "|    min|              0.08|\n",
      "|    max|              82.0|\n",
      "+-------+------------------+\n",
      "\n"
     ]
    }
   ],
   "source": [
    "data.describe(['age']).show()"
   ]
  },
  {
   "cell_type": "code",
   "execution_count": 28,
   "metadata": {
    "ExecuteTime": {
     "end_time": "2021-11-03T08:17:55.996092Z",
     "start_time": "2021-11-03T08:17:55.976564Z"
    }
   },
   "outputs": [],
   "source": [
    "data_filtered=data.filter(data.age>=2)"
   ]
  },
  {
   "cell_type": "code",
   "execution_count": 29,
   "metadata": {
    "ExecuteTime": {
     "end_time": "2021-11-03T08:17:56.802555Z",
     "start_time": "2021-11-03T08:17:56.575069Z"
    }
   },
   "outputs": [
    {
     "name": "stdout",
     "output_type": "stream",
     "text": [
      "+-------+------------------+\n",
      "|summary|               age|\n",
      "+-------+------------------+\n",
      "|  count|              4990|\n",
      "|   mean| 44.23907815631262|\n",
      "| stddev|21.908077881917443|\n",
      "|    min|               2.0|\n",
      "|    max|              82.0|\n",
      "+-------+------------------+\n",
      "\n"
     ]
    }
   ],
   "source": [
    "data_filtered.describe(['age']).show()"
   ]
  },
  {
   "cell_type": "markdown",
   "metadata": {},
   "source": [
    "### Working with gender & smoking_status columns:\n",
    "- Select and show the gender & smoking_status columns\n",
    "- Get the distinct values for each column."
   ]
  },
  {
   "cell_type": "code",
   "execution_count": 30,
   "metadata": {
    "ExecuteTime": {
     "end_time": "2021-11-03T08:20:09.020532Z",
     "start_time": "2021-11-03T08:20:08.876034Z"
    }
   },
   "outputs": [
    {
     "name": "stdout",
     "output_type": "stream",
     "text": [
      "+------+---------------+\n",
      "|gender| smoking_status|\n",
      "+------+---------------+\n",
      "|  Male|formerly smoked|\n",
      "|Female|   never smoked|\n",
      "|  Male|   never smoked|\n",
      "|Female|         smokes|\n",
      "|Female|   never smoked|\n",
      "|  Male|formerly smoked|\n",
      "|  Male|   never smoked|\n",
      "|Female|   never smoked|\n",
      "|Female|        Unknown|\n",
      "|Female|        Unknown|\n",
      "|Female|   never smoked|\n",
      "|Female|         smokes|\n",
      "|Female|         smokes|\n",
      "|  Male|        Unknown|\n",
      "|Female|   never smoked|\n",
      "|Female|   never smoked|\n",
      "|  Male|         smokes|\n",
      "|  Male|         smokes|\n",
      "|Female|   never smoked|\n",
      "|  Male|        Unknown|\n",
      "+------+---------------+\n",
      "only showing top 20 rows\n",
      "\n"
     ]
    }
   ],
   "source": [
    "data_filtered.select(F.col(\"gender\"),F.col(\"smoking_status\")).show()"
   ]
  },
  {
   "cell_type": "code",
   "execution_count": 31,
   "metadata": {
    "ExecuteTime": {
     "end_time": "2021-11-03T08:21:35.246508Z",
     "start_time": "2021-11-03T08:21:34.189140Z"
    }
   },
   "outputs": [
    {
     "name": "stdout",
     "output_type": "stream",
     "text": [
      "+------+\n",
      "|gender|\n",
      "+------+\n",
      "|Female|\n",
      "| Other|\n",
      "|  Male|\n",
      "+------+\n",
      "\n"
     ]
    }
   ],
   "source": [
    "data_filtered.select('gender').distinct().show()"
   ]
  },
  {
   "cell_type": "code",
   "execution_count": 32,
   "metadata": {
    "ExecuteTime": {
     "end_time": "2021-11-03T08:21:53.613209Z",
     "start_time": "2021-11-03T08:21:52.675929Z"
    }
   },
   "outputs": [
    {
     "name": "stdout",
     "output_type": "stream",
     "text": [
      "+---------------+\n",
      "| smoking_status|\n",
      "+---------------+\n",
      "|         smokes|\n",
      "|        Unknown|\n",
      "|   never smoked|\n",
      "|formerly smoked|\n",
      "+---------------+\n",
      "\n"
     ]
    }
   ],
   "source": [
    "data_filtered.select('smoking_status').distinct().show()"
   ]
  },
  {
   "cell_type": "markdown",
   "metadata": {
    "id": "HQFPKukRLzbB"
   },
   "source": [
    "#### Change the string values of the columns into numerical values as follow:\n",
    "1. Gender column:\n",
    "    * Male = 1 \n",
    "    * Female = 0 \n",
    "    * Other = 0 \n",
    "2. Smoking Status column:\n",
    "  * never smoked = 0\n",
    "  * Unknown = 0.5\n",
    "  * formerly smoked = 0.75\n",
    "  * smokes = 1.0\n"
   ]
  },
  {
   "cell_type": "code",
   "execution_count": 33,
   "metadata": {
    "ExecuteTime": {
     "end_time": "2021-11-03T08:27:55.621786Z",
     "start_time": "2021-11-03T08:27:55.616906Z"
    }
   },
   "outputs": [],
   "source": [
    "from pyspark.sql.functions import col, when"
   ]
  },
  {
   "cell_type": "code",
   "execution_count": 34,
   "metadata": {
    "ExecuteTime": {
     "end_time": "2021-11-03T08:28:26.695810Z",
     "start_time": "2021-11-03T08:28:26.650879Z"
    }
   },
   "outputs": [],
   "source": [
    "data_filtered=data_filtered.withColumn(\"gender\", when(col(\"gender\")=='Male', 1)\\\n",
    "                                       .when(col(\"gender\")=='Female', 0).otherwise(0))"
   ]
  },
  {
   "cell_type": "code",
   "execution_count": 35,
   "metadata": {
    "ExecuteTime": {
     "end_time": "2021-11-03T08:30:52.179245Z",
     "start_time": "2021-11-03T08:30:52.101138Z"
    }
   },
   "outputs": [],
   "source": [
    "data_filtered=data_filtered.withColumn(\"smoking_status\", when(col(\"smoking_status\")=='never smoked', 0)\\\n",
    "                                       .when(col(\"smoking_status\")=='formerly smoked',0.75)\\\n",
    "                                       .when(col(\"smoking_status\")=='smokes',1).otherwise(0.5))"
   ]
  },
  {
   "cell_type": "markdown",
   "metadata": {},
   "source": [
    "#### Show the output DataFrame\n",
    "- Select and show the gender & smoking_status columns after value changing.\n",
    "- Print schema for the new dataframe."
   ]
  },
  {
   "cell_type": "code",
   "execution_count": 36,
   "metadata": {
    "ExecuteTime": {
     "end_time": "2021-11-03T09:15:08.031180Z",
     "start_time": "2021-11-03T09:15:08.014579Z"
    }
   },
   "outputs": [],
   "source": [
    "data_filtered=data_filtered.withColumn(\"gender\",col(\"gender\").cast(StringType()))"
   ]
  },
  {
   "cell_type": "code",
   "execution_count": 37,
   "metadata": {
    "ExecuteTime": {
     "end_time": "2021-11-03T09:15:08.748380Z",
     "start_time": "2021-11-03T09:15:08.731762Z"
    }
   },
   "outputs": [],
   "source": [
    "data_filtered=data_filtered.withColumn(\"smoking_status\",col(\"smoking_status\").cast(StringType()))"
   ]
  },
  {
   "cell_type": "code",
   "execution_count": 38,
   "metadata": {
    "ExecuteTime": {
     "end_time": "2021-11-03T09:15:09.681353Z",
     "start_time": "2021-11-03T09:15:09.553453Z"
    }
   },
   "outputs": [
    {
     "name": "stdout",
     "output_type": "stream",
     "text": [
      "+------+--------------+\n",
      "|gender|smoking_status|\n",
      "+------+--------------+\n",
      "|     1|          0.75|\n",
      "|     0|           0.0|\n",
      "|     1|           0.0|\n",
      "|     0|           1.0|\n",
      "|     0|           0.0|\n",
      "|     1|          0.75|\n",
      "|     1|           0.0|\n",
      "|     0|           0.0|\n",
      "|     0|           0.5|\n",
      "|     0|           0.5|\n",
      "|     0|           0.0|\n",
      "|     0|           1.0|\n",
      "|     0|           1.0|\n",
      "|     1|           0.5|\n",
      "|     0|           0.0|\n",
      "|     0|           0.0|\n",
      "|     1|           1.0|\n",
      "|     1|           1.0|\n",
      "|     0|           0.0|\n",
      "|     1|           0.5|\n",
      "+------+--------------+\n",
      "only showing top 20 rows\n",
      "\n"
     ]
    }
   ],
   "source": [
    "data_filtered.select(F.col(\"gender\"),F.col(\"smoking_status\")).show()"
   ]
  },
  {
   "cell_type": "code",
   "execution_count": 39,
   "metadata": {
    "ExecuteTime": {
     "end_time": "2021-11-03T09:15:14.445820Z",
     "start_time": "2021-11-03T09:15:14.438989Z"
    }
   },
   "outputs": [
    {
     "name": "stdout",
     "output_type": "stream",
     "text": [
      "root\n",
      " |-- id: integer (nullable = true)\n",
      " |-- gender: string (nullable = false)\n",
      " |-- age: double (nullable = true)\n",
      " |-- hypertension: integer (nullable = true)\n",
      " |-- heart_disease: integer (nullable = true)\n",
      " |-- ever_married: string (nullable = true)\n",
      " |-- work_type: string (nullable = true)\n",
      " |-- Residence_type: string (nullable = true)\n",
      " |-- avg_glucose_level: double (nullable = true)\n",
      " |-- bmi: string (nullable = true)\n",
      " |-- smoking_status: string (nullable = false)\n",
      " |-- stroke: integer (nullable = true)\n",
      "\n"
     ]
    }
   ],
   "source": [
    "data_filtered.printSchema()"
   ]
  },
  {
   "cell_type": "markdown",
   "metadata": {},
   "source": [
    "### Deal with null value according to your data analysis."
   ]
  },
  {
   "cell_type": "code",
   "execution_count": 40,
   "metadata": {
    "ExecuteTime": {
     "end_time": "2021-11-03T09:18:05.585288Z",
     "start_time": "2021-11-03T09:18:05.415408Z"
    }
   },
   "outputs": [],
   "source": [
    "mean=data_filtered.select(F.mean(\"bmi\")).collect()[0][0]"
   ]
  },
  {
   "cell_type": "code",
   "execution_count": 41,
   "metadata": {
    "ExecuteTime": {
     "end_time": "2021-11-03T09:18:06.051781Z",
     "start_time": "2021-11-03T09:18:06.025400Z"
    }
   },
   "outputs": [],
   "source": [
    "targetDf = data_filtered.withColumn(\"bmi\", \\\n",
    "              when(data_filtered[\"bmi\"] == \"N/A\", mean).otherwise(data_filtered[\"bmi\"]))"
   ]
  },
  {
   "cell_type": "code",
   "execution_count": 42,
   "metadata": {
    "ExecuteTime": {
     "end_time": "2021-11-03T09:18:07.941228Z",
     "start_time": "2021-11-03T09:18:06.718860Z"
    }
   },
   "outputs": [
    {
     "name": "stdout",
     "output_type": "stream",
     "text": [
      "[]\n"
     ]
    }
   ],
   "source": [
    "null_columns = []\n",
    "for col_name in targetDf.columns:\n",
    "    null_values = targetDf.where(F.col(col_name)==\"N/A\").count()\n",
    "    if(null_values > 0):\n",
    "        null_columns.append((col_name, null_values))\n",
    "print(null_columns)"
   ]
  },
  {
   "cell_type": "code",
   "execution_count": 43,
   "metadata": {
    "ExecuteTime": {
     "end_time": "2021-11-03T09:18:08.682258Z",
     "start_time": "2021-11-03T09:18:08.664684Z"
    }
   },
   "outputs": [],
   "source": [
    "targetDf=targetDf.withColumn(\"bmi\",col(\"bmi\").cast(DoubleType()))"
   ]
  },
  {
   "cell_type": "code",
   "execution_count": 44,
   "metadata": {
    "ExecuteTime": {
     "end_time": "2021-11-03T09:18:09.286013Z",
     "start_time": "2021-11-03T09:18:09.280136Z"
    }
   },
   "outputs": [
    {
     "name": "stdout",
     "output_type": "stream",
     "text": [
      "root\n",
      " |-- id: integer (nullable = true)\n",
      " |-- gender: string (nullable = false)\n",
      " |-- age: double (nullable = true)\n",
      " |-- hypertension: integer (nullable = true)\n",
      " |-- heart_disease: integer (nullable = true)\n",
      " |-- ever_married: string (nullable = true)\n",
      " |-- work_type: string (nullable = true)\n",
      " |-- Residence_type: string (nullable = true)\n",
      " |-- avg_glucose_level: double (nullable = true)\n",
      " |-- bmi: double (nullable = true)\n",
      " |-- smoking_status: string (nullable = false)\n",
      " |-- stroke: integer (nullable = true)\n",
      "\n"
     ]
    }
   ],
   "source": [
    "targetDf.printSchema()"
   ]
  },
  {
   "cell_type": "code",
   "execution_count": 45,
   "metadata": {
    "ExecuteTime": {
     "end_time": "2021-11-03T09:20:25.845103Z",
     "start_time": "2021-11-03T09:20:25.824600Z"
    }
   },
   "outputs": [],
   "source": [
    "targetDf=targetDf.withColumn(\"heart_disease\",col(\"heart_disease\").cast(StringType()))"
   ]
  },
  {
   "cell_type": "code",
   "execution_count": 46,
   "metadata": {
    "ExecuteTime": {
     "end_time": "2021-11-03T09:20:26.421835Z",
     "start_time": "2021-11-03T09:20:26.404262Z"
    }
   },
   "outputs": [],
   "source": [
    "targetDf=targetDf.withColumn(\"hypertension\",col(\"hypertension\").cast(StringType()))"
   ]
  },
  {
   "cell_type": "code",
   "execution_count": 47,
   "metadata": {
    "ExecuteTime": {
     "end_time": "2021-11-03T09:20:33.124441Z",
     "start_time": "2021-11-03T09:20:33.116630Z"
    }
   },
   "outputs": [
    {
     "name": "stdout",
     "output_type": "stream",
     "text": [
      "root\n",
      " |-- id: integer (nullable = true)\n",
      " |-- gender: string (nullable = false)\n",
      " |-- age: double (nullable = true)\n",
      " |-- hypertension: string (nullable = true)\n",
      " |-- heart_disease: string (nullable = true)\n",
      " |-- ever_married: string (nullable = true)\n",
      " |-- work_type: string (nullable = true)\n",
      " |-- Residence_type: string (nullable = true)\n",
      " |-- avg_glucose_level: double (nullable = true)\n",
      " |-- bmi: double (nullable = true)\n",
      " |-- smoking_status: string (nullable = false)\n",
      " |-- stroke: integer (nullable = true)\n",
      "\n"
     ]
    }
   ],
   "source": [
    "targetDf.printSchema()"
   ]
  },
  {
   "cell_type": "markdown",
   "metadata": {},
   "source": [
    "### Split the data into training and test dataframes:\n",
    "- 80% training and 20% test.\n",
    "- seed = 42.\n",
    "- Save each dataframe as a parquet file"
   ]
  },
  {
   "cell_type": "code",
   "execution_count": 48,
   "metadata": {
    "ExecuteTime": {
     "end_time": "2021-11-03T09:21:03.417169Z",
     "start_time": "2021-11-03T09:21:03.399574Z"
    }
   },
   "outputs": [],
   "source": [
    "X_train, X_test = targetDf.randomSplit([0.8, 0.2],seed = 42)"
   ]
  },
  {
   "cell_type": "code",
   "execution_count": 49,
   "metadata": {
    "ExecuteTime": {
     "end_time": "2021-11-03T09:21:04.295136Z",
     "start_time": "2021-11-03T09:21:04.273635Z"
    }
   },
   "outputs": [
    {
     "data": {
      "text/plain": [
       "pyspark.sql.dataframe.DataFrame"
      ]
     },
     "execution_count": 49,
     "metadata": {},
     "output_type": "execute_result"
    }
   ],
   "source": [
    "type(X_train)"
   ]
  },
  {
   "cell_type": "code",
   "execution_count": 50,
   "metadata": {
    "ExecuteTime": {
     "end_time": "2021-11-03T09:21:05.976527Z",
     "start_time": "2021-11-03T09:21:05.097772Z"
    }
   },
   "outputs": [],
   "source": [
    "X_train.write.parquet(\"train.parquet\") "
   ]
  },
  {
   "cell_type": "code",
   "execution_count": 51,
   "metadata": {
    "ExecuteTime": {
     "end_time": "2021-11-03T09:21:07.363253Z",
     "start_time": "2021-11-03T09:21:06.513865Z"
    }
   },
   "outputs": [],
   "source": [
    "X_test.write.parquet(\"test.parquet\") "
   ]
  },
  {
   "cell_type": "markdown",
   "metadata": {},
   "source": [
    "### Read the saved Train and Test DataFrame:\n",
    "- Use the dataframes you read in the subsequent steps."
   ]
  },
  {
   "cell_type": "code",
   "execution_count": 52,
   "metadata": {
    "ExecuteTime": {
     "end_time": "2021-11-03T09:21:08.397823Z",
     "start_time": "2021-11-03T09:21:08.305071Z"
    }
   },
   "outputs": [],
   "source": [
    "X_trainPar=spark.read.parquet(\"train.parquet\")"
   ]
  },
  {
   "cell_type": "code",
   "execution_count": 53,
   "metadata": {
    "ExecuteTime": {
     "end_time": "2021-11-03T09:21:09.002202Z",
     "start_time": "2021-11-03T09:21:08.853801Z"
    }
   },
   "outputs": [],
   "source": [
    "X_testPar=spark.read.parquet(\"test.parquet\")"
   ]
  },
  {
   "cell_type": "code",
   "execution_count": null,
   "metadata": {},
   "outputs": [],
   "source": []
  },
  {
   "cell_type": "markdown",
   "metadata": {},
   "source": [
    "### Create the model:\n",
    "- Perform feature engineering steps.\n",
    "- Create the logistic regression classifier.\n",
    "- Build the pipeline model that uses all feature engineering steps and the model.\n",
    "- Train the pipeline model using the trainig dataset."
   ]
  },
  {
   "cell_type": "code",
   "execution_count": 54,
   "metadata": {
    "ExecuteTime": {
     "end_time": "2021-11-03T09:55:35.767301Z",
     "start_time": "2021-11-03T09:55:35.761433Z"
    }
   },
   "outputs": [],
   "source": [
    "from pyspark.ml.feature import StringIndexer, VectorAssembler,OneHotEncoder\n",
    "from pyspark.ml import Pipeline"
   ]
  },
  {
   "cell_type": "code",
   "execution_count": 55,
   "metadata": {
    "ExecuteTime": {
     "end_time": "2021-11-03T09:55:36.370231Z",
     "start_time": "2021-11-03T09:55:36.363418Z"
    }
   },
   "outputs": [
    {
     "name": "stdout",
     "output_type": "stream",
     "text": [
      "root\n",
      " |-- id: integer (nullable = true)\n",
      " |-- gender: string (nullable = true)\n",
      " |-- age: double (nullable = true)\n",
      " |-- hypertension: string (nullable = true)\n",
      " |-- heart_disease: string (nullable = true)\n",
      " |-- ever_married: string (nullable = true)\n",
      " |-- work_type: string (nullable = true)\n",
      " |-- Residence_type: string (nullable = true)\n",
      " |-- avg_glucose_level: double (nullable = true)\n",
      " |-- bmi: double (nullable = true)\n",
      " |-- smoking_status: string (nullable = true)\n",
      " |-- stroke: integer (nullable = true)\n",
      "\n"
     ]
    }
   ],
   "source": [
    "X_trainPar.printSchema()"
   ]
  },
  {
   "cell_type": "code",
   "execution_count": 56,
   "metadata": {
    "ExecuteTime": {
     "end_time": "2021-11-03T09:55:36.862203Z",
     "start_time": "2021-11-03T09:55:36.855369Z"
    }
   },
   "outputs": [
    {
     "data": {
      "text/plain": [
       "['gender',\n",
       " 'hypertension',\n",
       " 'heart_disease',\n",
       " 'ever_married',\n",
       " 'work_type',\n",
       " 'Residence_type',\n",
       " 'smoking_status']"
      ]
     },
     "execution_count": 56,
     "metadata": {},
     "output_type": "execute_result"
    }
   ],
   "source": [
    "categoricalCols = [field for (field, dataType) in targetDf.dtypes\n",
    "                   if dataType == \"string\"]\n",
    "categoricalCols"
   ]
  },
  {
   "cell_type": "code",
   "execution_count": 57,
   "metadata": {
    "ExecuteTime": {
     "end_time": "2021-11-03T09:55:37.107425Z",
     "start_time": "2021-11-03T09:55:37.099612Z"
    }
   },
   "outputs": [
    {
     "data": {
      "text/plain": [
       "['gender_OHE',\n",
       " 'hypertension_OHE',\n",
       " 'heart_disease_OHE',\n",
       " 'ever_married_OHE',\n",
       " 'work_type_OHE',\n",
       " 'Residence_type_OHE',\n",
       " 'smoking_status_OHE']"
      ]
     },
     "execution_count": 57,
     "metadata": {},
     "output_type": "execute_result"
    }
   ],
   "source": [
    "indexOutputCols = [x + \"_Index\" for x in categoricalCols]\n",
    "indexOutputCols\n",
    "oheOutputCols = [x + \"_OHE\" for x in categoricalCols]\n",
    "oheOutputCols"
   ]
  },
  {
   "cell_type": "code",
   "execution_count": 58,
   "metadata": {
    "ExecuteTime": {
     "end_time": "2021-11-03T09:55:37.449522Z",
     "start_time": "2021-11-03T09:55:37.428046Z"
    }
   },
   "outputs": [],
   "source": [
    "stringIndexer = StringIndexer(inputCols=categoricalCols,\n",
    "                             outputCols=indexOutputCols,\n",
    "                             handleInvalid='skip')\n",
    "oheEncoder = OneHotEncoder(inputCols=indexOutputCols,\n",
    "                          outputCols=oheOutputCols)"
   ]
  },
  {
   "cell_type": "code",
   "execution_count": 59,
   "metadata": {
    "ExecuteTime": {
     "end_time": "2021-11-03T09:55:37.752374Z",
     "start_time": "2021-11-03T09:55:37.745538Z"
    }
   },
   "outputs": [
    {
     "data": {
      "text/plain": [
       "['age', 'avg_glucose_level', 'bmi']"
      ]
     },
     "execution_count": 59,
     "metadata": {},
     "output_type": "execute_result"
    }
   ],
   "source": [
    "numericCols = [field for (field,dataType) in targetDf.dtypes\n",
    "              if (((dataType=='double') |(dataType=='integer'))& (field!='stroke'))]\n",
    "numericCols"
   ]
  },
  {
   "cell_type": "code",
   "execution_count": 60,
   "metadata": {
    "ExecuteTime": {
     "end_time": "2021-11-03T09:55:38.014258Z",
     "start_time": "2021-11-03T09:55:38.007420Z"
    }
   },
   "outputs": [
    {
     "data": {
      "text/plain": [
       "['gender_OHE',\n",
       " 'hypertension_OHE',\n",
       " 'heart_disease_OHE',\n",
       " 'ever_married_OHE',\n",
       " 'work_type_OHE',\n",
       " 'Residence_type_OHE',\n",
       " 'smoking_status_OHE',\n",
       " 'age',\n",
       " 'avg_glucose_level',\n",
       " 'bmi']"
      ]
     },
     "execution_count": 60,
     "metadata": {},
     "output_type": "execute_result"
    }
   ],
   "source": [
    "assemblerInputs = oheOutputCols + numericCols\n",
    "assemblerInputs"
   ]
  },
  {
   "cell_type": "code",
   "execution_count": 61,
   "metadata": {
    "ExecuteTime": {
     "end_time": "2021-11-03T09:55:38.383580Z",
     "start_time": "2021-11-03T09:55:38.368938Z"
    }
   },
   "outputs": [],
   "source": [
    "vecAssembler = VectorAssembler(inputCols=numericCols,outputCol='features')"
   ]
  },
  {
   "cell_type": "markdown",
   "metadata": {},
   "source": [
    "### Perform predictions on tests dataframe:\n",
    "- Test the model using the test dataframe\n",
    "- Select and show the feature column.\n",
    "- Print the schema of the output dataframe.\n",
    "- Select and show both prediction and label columns.\n",
    "- Explore the results for the label column stroke=1. i.e. select both columns (prediction,stroke) for stroke=1.<b>notice the result.</b> \n",
    "- Count the predicted 1 and 0 values.<b>notice the result.</b>   "
   ]
  },
  {
   "cell_type": "code",
   "execution_count": 62,
   "metadata": {
    "ExecuteTime": {
     "end_time": "2021-11-03T09:55:38.931828Z",
     "start_time": "2021-11-03T09:55:38.927922Z"
    }
   },
   "outputs": [],
   "source": [
    "from pyspark.ml.classification import LogisticRegression"
   ]
  },
  {
   "cell_type": "code",
   "execution_count": 63,
   "metadata": {
    "ExecuteTime": {
     "end_time": "2021-11-03T09:55:39.181777Z",
     "start_time": "2021-11-03T09:55:39.167123Z"
    }
   },
   "outputs": [],
   "source": [
    "lr = LogisticRegression(featuresCol = 'features', labelCol = 'stroke')\n",
    "pipeline = Pipeline(stages=[stringIndexer,oheEncoder,vecAssembler,lr])\n"
   ]
  },
  {
   "cell_type": "code",
   "execution_count": 64,
   "metadata": {
    "ExecuteTime": {
     "end_time": "2021-11-03T09:55:41.281566Z",
     "start_time": "2021-11-03T09:55:39.478278Z"
    }
   },
   "outputs": [],
   "source": [
    "pipeLineModel = pipeline.fit(X_trainPar)"
   ]
  },
  {
   "cell_type": "code",
   "execution_count": 65,
   "metadata": {
    "ExecuteTime": {
     "end_time": "2021-11-03T09:55:45.271408Z",
     "start_time": "2021-11-03T09:55:45.104455Z"
    }
   },
   "outputs": [],
   "source": [
    "pred=pipeLineModel.transform(X_testPar)"
   ]
  },
  {
   "cell_type": "code",
   "execution_count": 66,
   "metadata": {
    "ExecuteTime": {
     "end_time": "2021-11-03T09:55:45.762271Z",
     "start_time": "2021-11-03T09:55:45.755415Z"
    }
   },
   "outputs": [
    {
     "name": "stdout",
     "output_type": "stream",
     "text": [
      "root\n",
      " |-- id: integer (nullable = true)\n",
      " |-- gender: string (nullable = true)\n",
      " |-- age: double (nullable = true)\n",
      " |-- hypertension: string (nullable = true)\n",
      " |-- heart_disease: string (nullable = true)\n",
      " |-- ever_married: string (nullable = true)\n",
      " |-- work_type: string (nullable = true)\n",
      " |-- Residence_type: string (nullable = true)\n",
      " |-- avg_glucose_level: double (nullable = true)\n",
      " |-- bmi: double (nullable = true)\n",
      " |-- smoking_status: string (nullable = true)\n",
      " |-- stroke: integer (nullable = true)\n",
      " |-- gender_Index: double (nullable = false)\n",
      " |-- ever_married_Index: double (nullable = false)\n",
      " |-- heart_disease_Index: double (nullable = false)\n",
      " |-- smoking_status_Index: double (nullable = false)\n",
      " |-- Residence_type_Index: double (nullable = false)\n",
      " |-- work_type_Index: double (nullable = false)\n",
      " |-- hypertension_Index: double (nullable = false)\n",
      " |-- ever_married_OHE: vector (nullable = true)\n",
      " |-- heart_disease_OHE: vector (nullable = true)\n",
      " |-- smoking_status_OHE: vector (nullable = true)\n",
      " |-- Residence_type_OHE: vector (nullable = true)\n",
      " |-- hypertension_OHE: vector (nullable = true)\n",
      " |-- gender_OHE: vector (nullable = true)\n",
      " |-- work_type_OHE: vector (nullable = true)\n",
      " |-- features: vector (nullable = true)\n",
      " |-- rawPrediction: vector (nullable = true)\n",
      " |-- probability: vector (nullable = true)\n",
      " |-- prediction: double (nullable = false)\n",
      "\n"
     ]
    }
   ],
   "source": [
    "pred.printSchema()"
   ]
  },
  {
   "cell_type": "code",
   "execution_count": 68,
   "metadata": {
    "ExecuteTime": {
     "end_time": "2021-11-03T09:55:46.485041Z",
     "start_time": "2021-11-03T09:55:46.342498Z"
    }
   },
   "outputs": [
    {
     "name": "stdout",
     "output_type": "stream",
     "text": [
      "+----------+------+--------------------+\n",
      "|prediction|stroke|            features|\n",
      "+----------+------+--------------------+\n",
      "|       0.0|     0|   [55.0,89.17,31.5]|\n",
      "|       0.0|     0|   [24.0,97.55,26.2]|\n",
      "|       0.0|     0|   [33.0,86.97,42.2]|\n",
      "|       0.0|     0|   [43.0,88.23,37.6]|\n",
      "|       0.0|     0|  [79.0,198.79,24.9]|\n",
      "|       0.0|     0|  [43.0,110.32,28.4]|\n",
      "|       0.0|     0|   [78.0,75.19,27.6]|\n",
      "|       0.0|     1|   [74.0,74.96,26.6]|\n",
      "|       0.0|     0|   [14.0,92.22,22.8]|\n",
      "|       0.0|     0|  [69.0,101.52,26.8]|\n",
      "|       0.0|     0|   [52.0,87.26,40.1]|\n",
      "|       0.0|     1|   [82.0,84.03,26.5]|\n",
      "|       0.0|     0|   [17.0,81.77,44.7]|\n",
      "|       0.0|     0|[73.0,79.69,29.14...|\n",
      "|       0.0|     0|   [59.0,99.06,23.4]|\n",
      "|       0.0|     0|   [60.0,80.86,31.0]|\n",
      "|       0.0|     0|   [14.0,83.42,28.7]|\n",
      "|       0.0|     0|  [69.0,229.21,30.1]|\n",
      "|       0.0|     0|[70.0,202.55,29.1...|\n",
      "|       0.0|     0|   [29.0,71.89,27.6]|\n",
      "+----------+------+--------------------+\n",
      "only showing top 20 rows\n",
      "\n"
     ]
    }
   ],
   "source": [
    "pred.select(\"prediction\", \"stroke\", \"features\").show(truncate=True)"
   ]
  },
  {
   "cell_type": "code",
   "execution_count": 70,
   "metadata": {},
   "outputs": [],
   "source": [
    "lr = LogisticRegression(featuresCol = 'features', labelCol = 'stroke')\n",
    "pipeline = Pipeline(stages=[stringIndexer,oheEncoder,vecAssembler,lr])\n"
   ]
  },
  {
   "cell_type": "code",
   "execution_count": null,
   "metadata": {},
   "outputs": [],
   "source": []
  },
  {
   "cell_type": "code",
   "execution_count": null,
   "metadata": {},
   "outputs": [],
   "source": []
  },
  {
   "cell_type": "code",
   "execution_count": null,
   "metadata": {
    "scrolled": false
   },
   "outputs": [],
   "source": []
  },
  {
   "cell_type": "markdown",
   "metadata": {},
   "source": [
    "### Evaluate the model performance\n",
    "- Use <b>BinaryClassificationEvaluator</b>. This will calculate the <b>ROC</b>.\n",
    "- Set the parameters as follow:\n",
    "    - <b>rawPredictionCol='prediction'</b> and <b>labelCol='stroke'</b>"
   ]
  },
  {
   "cell_type": "code",
   "execution_count": 71,
   "metadata": {
    "ExecuteTime": {
     "end_time": "2021-11-03T09:55:51.192123Z",
     "start_time": "2021-11-03T09:55:51.187242Z"
    }
   },
   "outputs": [],
   "source": [
    "from pyspark.ml.evaluation import BinaryClassificationEvaluator"
   ]
  },
  {
   "cell_type": "code",
   "execution_count": 72,
   "metadata": {
    "ExecuteTime": {
     "end_time": "2021-11-03T09:55:51.769896Z",
     "start_time": "2021-11-03T09:55:51.756225Z"
    }
   },
   "outputs": [],
   "source": [
    "evaluatorROC = BinaryClassificationEvaluator(rawPredictionCol='prediction'\n",
    "                                             ,labelCol='stroke')"
   ]
  },
  {
   "cell_type": "code",
   "execution_count": 73,
   "metadata": {
    "ExecuteTime": {
     "end_time": "2021-11-03T09:55:52.628536Z",
     "start_time": "2021-11-03T09:55:52.384455Z"
    }
   },
   "outputs": [
    {
     "data": {
      "text/plain": [
       "0.5"
      ]
     },
     "execution_count": 73,
     "metadata": {},
     "output_type": "execute_result"
    }
   ],
   "source": [
    "evaluatorROC.evaluate(pred)"
   ]
  },
  {
   "cell_type": "markdown",
   "metadata": {},
   "source": [
    "### Improve Model Performance\n",
    "- You may noticed that <b>the target label is imbalanced</b>.\n",
    "- LogisticRegression classifier has a special parameter <b>weightCol</b> to deal with imbalanced class.\n",
    "- In order to use this parameter you must have a <b>weightCol</b> in your training dataframe.\n",
    "- In order to create this column you will need to define a <b>UDF</b> and apply it to the target label column.\n",
    "- Create a LogisticRegression classifier with <b>weightCol</b> parameter.\n",
    "- Build and train a pipeline model with the new LogisticRegression.\n",
    "- Perform the prediction on the test dataframe. \n",
    "- Select and show both prediction and label columns.\n",
    "- Explore the results for the label column stroke=1. i.e. select both columns (prediction,stroke) for stroke=1.<b>notice the result.</b> \n",
    "- Count the predicted 1 and 0 values.<b>notice the result.</b>   \n",
    "- Evaluate the model performance exactly as in the previous step.\n",
    "### YOU SHOULD OBTAIN  ROC > 0.65\n",
    "<BR>\n",
    "<b><font color='red'>Note: feel free to deal with the imbalanced cluster with the above method or another. However, you can only use methods applied on SPARK DATAFRAME</font></b>"
   ]
  },
  {
   "cell_type": "code",
   "execution_count": 74,
   "metadata": {
    "ExecuteTime": {
     "end_time": "2021-11-03T09:56:06.744157Z",
     "start_time": "2021-11-03T09:56:06.523504Z"
    }
   },
   "outputs": [],
   "source": [
    "df=targetDf.toPandas()"
   ]
  },
  {
   "cell_type": "code",
   "execution_count": 75,
   "metadata": {
    "ExecuteTime": {
     "end_time": "2021-11-03T09:56:07.191540Z",
     "start_time": "2021-11-03T09:56:07.182754Z"
    }
   },
   "outputs": [
    {
     "data": {
      "text/plain": [
       "0    4742\n",
       "1     248\n",
       "Name: stroke, dtype: int64"
      ]
     },
     "execution_count": 75,
     "metadata": {},
     "output_type": "execute_result"
    }
   ],
   "source": [
    "df.stroke.value_counts()"
   ]
  },
  {
   "cell_type": "code",
   "execution_count": 80,
   "metadata": {
    "ExecuteTime": {
     "end_time": "2021-11-03T10:04:18.436155Z",
     "start_time": "2021-11-03T10:04:18.428343Z"
    }
   },
   "outputs": [],
   "source": [
    "r1 = df.stroke.value_counts()[0]"
   ]
  },
  {
   "cell_type": "code",
   "execution_count": 81,
   "metadata": {},
   "outputs": [],
   "source": [
    "r2 = df.stroke.value_counts()[1]"
   ]
  },
  {
   "cell_type": "code",
   "execution_count": 82,
   "metadata": {},
   "outputs": [
    {
     "data": {
      "text/plain": [
       "0.052298608182201604"
      ]
     },
     "execution_count": 82,
     "metadata": {},
     "output_type": "execute_result"
    }
   ],
   "source": [
    "r2/r1"
   ]
  },
  {
   "cell_type": "code",
   "execution_count": 83,
   "metadata": {
    "ExecuteTime": {
     "end_time": "2021-11-03T10:04:40.795183Z",
     "start_time": "2021-11-03T10:04:40.788343Z"
    }
   },
   "outputs": [
    {
     "data": {
      "text/plain": [
       "0.9477013918177984"
      ]
     },
     "execution_count": 83,
     "metadata": {},
     "output_type": "execute_result"
    }
   ],
   "source": [
    "1-(r2/r1)"
   ]
  },
  {
   "cell_type": "code",
   "execution_count": 84,
   "metadata": {
    "ExecuteTime": {
     "end_time": "2021-11-03T10:06:39.289428Z",
     "start_time": "2021-11-03T10:06:39.262071Z"
    }
   },
   "outputs": [],
   "source": [
    "# make Balanced in class Stroke\n",
    "X_trainPar=X_trainPar.withColumn(\"weightCol\", when(col(\"stroke\")==0, r2/r1)\\\n",
    "                                       .when(col(\"stroke\")==1, (1-(r2/r1))))"
   ]
  },
  {
   "cell_type": "code",
   "execution_count": 86,
   "metadata": {
    "ExecuteTime": {
     "end_time": "2021-11-03T10:07:11.262685Z",
     "start_time": "2021-11-03T10:07:11.136734Z"
    }
   },
   "outputs": [
    {
     "name": "stdout",
     "output_type": "stream",
     "text": [
      "+------+--------------------+\n",
      "|stroke|           weightCol|\n",
      "+------+--------------------+\n",
      "|     0|0.052298608182201604|\n",
      "|     0|0.052298608182201604|\n",
      "|     0|0.052298608182201604|\n",
      "|     0|0.052298608182201604|\n",
      "|     0|0.052298608182201604|\n",
      "+------+--------------------+\n",
      "only showing top 5 rows\n",
      "\n"
     ]
    }
   ],
   "source": [
    "X_trainPar.select([\"stroke\",\"weightCol\"]).show(5 , truncate =True)"
   ]
  },
  {
   "cell_type": "code",
   "execution_count": 100,
   "metadata": {},
   "outputs": [
    {
     "name": "stdout",
     "output_type": "stream",
     "text": [
      "root\n",
      " |-- id: integer (nullable = true)\n",
      " |-- gender: string (nullable = true)\n",
      " |-- age: double (nullable = true)\n",
      " |-- hypertension: string (nullable = true)\n",
      " |-- heart_disease: string (nullable = true)\n",
      " |-- ever_married: string (nullable = true)\n",
      " |-- work_type: string (nullable = true)\n",
      " |-- Residence_type: string (nullable = true)\n",
      " |-- avg_glucose_level: double (nullable = true)\n",
      " |-- bmi: double (nullable = true)\n",
      " |-- smoking_status: string (nullable = true)\n",
      " |-- stroke: integer (nullable = true)\n",
      " |-- weightCol: double (nullable = true)\n",
      "\n"
     ]
    }
   ],
   "source": [
    "X_trainPar.printSchema()"
   ]
  },
  {
   "cell_type": "code",
   "execution_count": 87,
   "metadata": {
    "ExecuteTime": {
     "end_time": "2021-11-03T10:12:10.336522Z",
     "start_time": "2021-11-03T10:12:10.320899Z"
    }
   },
   "outputs": [],
   "source": [
    "# Notice WeightCol\n",
    "lr = LogisticRegression(featuresCol = 'features', labelCol = 'stroke',weightCol='weightCol')\n",
    "pipeline = Pipeline(stages=[stringIndexer,oheEncoder,vecAssembler,lr])\n"
   ]
  },
  {
   "cell_type": "code",
   "execution_count": 88,
   "metadata": {
    "ExecuteTime": {
     "end_time": "2021-11-03T10:12:29.880853Z",
     "start_time": "2021-11-03T10:12:28.134193Z"
    }
   },
   "outputs": [],
   "source": [
    "pipeLineModel = pipeline.fit(X_trainPar)"
   ]
  },
  {
   "cell_type": "code",
   "execution_count": 89,
   "metadata": {
    "ExecuteTime": {
     "end_time": "2021-11-03T10:12:50.572330Z",
     "start_time": "2021-11-03T10:12:50.407329Z"
    }
   },
   "outputs": [],
   "source": [
    "pred=pipeLineModel.transform(X_testPar)"
   ]
  },
  {
   "cell_type": "code",
   "execution_count": 90,
   "metadata": {
    "ExecuteTime": {
     "end_time": "2021-11-03T10:12:52.451653Z",
     "start_time": "2021-11-03T10:12:52.232954Z"
    }
   },
   "outputs": [
    {
     "data": {
      "text/plain": [
       "0.7790853746225014"
      ]
     },
     "execution_count": 90,
     "metadata": {},
     "output_type": "execute_result"
    }
   ],
   "source": [
    "evaluatorROC.evaluate(pred)"
   ]
  },
  {
   "cell_type": "markdown",
   "metadata": {},
   "source": [
    "<h1 style=\"text-align: center;color:#987654;font-size:100px\"> ITI </h1>\n",
    "    <br>\n",
    "<b><font color='brown'>AI-PRO Spark Intake_01 ------------------------------------------------------------------------------------------------------------------------------------------ Abdullah Abdelhakeem </font></b>"
   ]
  }
 ],
 "metadata": {
  "kernelspec": {
   "display_name": "Python 3",
   "language": "python",
   "name": "python3"
  },
  "language_info": {
   "codemirror_mode": {
    "name": "ipython",
    "version": 3
   },
   "file_extension": ".py",
   "mimetype": "text/x-python",
   "name": "python",
   "nbconvert_exporter": "python",
   "pygments_lexer": "ipython3",
   "version": "3.8.5"
  },
  "varInspector": {
   "cols": {
    "lenName": 16,
    "lenType": 16,
    "lenVar": 40
   },
   "kernels_config": {
    "python": {
     "delete_cmd_postfix": "",
     "delete_cmd_prefix": "del ",
     "library": "var_list.py",
     "varRefreshCmd": "print(var_dic_list())"
    },
    "r": {
     "delete_cmd_postfix": ") ",
     "delete_cmd_prefix": "rm(",
     "library": "var_list.r",
     "varRefreshCmd": "cat(var_dic_list()) "
    }
   },
   "types_to_exclude": [
    "module",
    "function",
    "builtin_function_or_method",
    "instance",
    "_Feature"
   ],
   "window_display": false
  }
 },
 "nbformat": 4,
 "nbformat_minor": 5
}
