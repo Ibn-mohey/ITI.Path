{
 "cells": [
  {
   "cell_type": "markdown",
   "metadata": {},
   "source": [
    "• Exercises 1 :\n",
    "# Write a Python program to insert a string in the middle of a string\n",
    "# Example :\n",
    "# input : [[]] hello\n",
    "# output : [[hello]]\n",
    "• Exercises 2 :\n",
    "# Use lambda function to get number of “#” in a text\n",
    "\n",
    "• Exercises 3 :\n",
    "# Write a python script to find the tuple that has the least second value from a list of \n",
    "tuples\n",
    "tuples = [(1,2), (1,3), (4,2), (5,6), (10,0)]\n",
    "• Exercises 4 :\n",
    "Write a Python program to replace dictionary values with their avg\n",
    "test_dict = { \"ali\": 29, \"ahmed\": 13, \"noha\": 20, \"ramy\": 15}\n",
    "\n",
    "\n",
    "• Exercises 5 :\n",
    "# Write a python function to sort a list of tuples by their second item\n",
    "example this : [(0, 5), (2, 0), (9, 3)]  becomes: [(2, 0), (9, 3), (0, 5)]\n",
    "• Exercises 6 :\n",
    "write a python function to read two N*M arrays and multiply them \n",
    "element wise\n",
    "input example:  enter dims: 2 2 \n",
    "enter array 1-row-0: 5 3\n",
    "enter array 1-row-1: 1 2\n",
    "enter array 2-row-0: 2 6\n",
    "enter array 2-row-1: 4 0\n",
    "result:\n",
    "10 18\n",
    "4    0"
   ]
  },
  {
   "cell_type": "markdown",
   "metadata": {},
   "source": [
    "# Exercises 1 :\n",
    "\n",
    "Write a Python program to insert a string in the middle of a string"
   ]
  },
  {
   "cell_type": "code",
   "execution_count": 85,
   "metadata": {},
   "outputs": [],
   "source": [
    "def tomid():\n",
    "    the_string = input(\"enter the full string :\")\n",
    "    mid_string = input(\"enter the mid string :\")\n",
    "    mid = int(len(the_string)/2)\n",
    "    return the_string[:mid] + mid_string + the_string[mid:]"
   ]
  },
  {
   "cell_type": "code",
   "execution_count": 86,
   "metadata": {
    "scrolled": true
   },
   "outputs": [
    {
     "name": "stdout",
     "output_type": "stream",
     "text": [
      "enter the full string :testtest\n",
      "enter the mid string :MN\n"
     ]
    },
    {
     "data": {
      "text/plain": [
       "'testMNtest'"
      ]
     },
     "execution_count": 86,
     "metadata": {},
     "output_type": "execute_result"
    }
   ],
   "source": [
    "tomid()"
   ]
  },
  {
   "cell_type": "markdown",
   "metadata": {},
   "source": [
    "• Exercises 2 :\n",
    "\n",
    "# Use lambda function to get number of “#” in a text"
   ]
  },
  {
   "cell_type": "code",
   "execution_count": 88,
   "metadata": {},
   "outputs": [
    {
     "name": "stdout",
     "output_type": "stream",
     "text": [
      "enter the full string :### asd\n",
      "3\n"
     ]
    }
   ],
   "source": [
    "text = input(\"enter the full string :\")\n",
    "count = lambda x: text.count('#')\n",
    "print(count(text))"
   ]
  },
  {
   "cell_type": "markdown",
   "metadata": {},
   "source": [
    "# Exercises 3 :\n",
    "\n",
    "Write a python script to find the tuple that has the least second value from a list of tuples"
   ]
  },
  {
   "cell_type": "code",
   "execution_count": 89,
   "metadata": {},
   "outputs": [],
   "source": [
    "tuples = [(1,2), (1,3), (4,2), (5,6), (10,0)]"
   ]
  },
  {
   "cell_type": "code",
   "execution_count": 90,
   "metadata": {},
   "outputs": [],
   "source": [
    "def findmin(tuples):\n",
    "    for i in range(0, len(tuples)):     \n",
    "        for j in range(0, len(tuples)-i-1): \n",
    "            if (tuples[j][1] > tuples[j + 1][1]): \n",
    "                temp = tuples[j] \n",
    "                tuples[j]= tuples[j + 1] \n",
    "                tuples[j + 1]= temp \n",
    "    return tuples[0]"
   ]
  },
  {
   "cell_type": "code",
   "execution_count": 92,
   "metadata": {},
   "outputs": [
    {
     "data": {
      "text/plain": [
       "(10, 0)"
      ]
     },
     "execution_count": 92,
     "metadata": {},
     "output_type": "execute_result"
    }
   ],
   "source": [
    "\n",
    "tuples = [(1,2), (1,3), (4,2), (5,6), (10,0)]\n",
    "findmin(tuples)"
   ]
  },
  {
   "cell_type": "markdown",
   "metadata": {},
   "source": [
    "# Exercises 4 :\n",
    "Write a Python program to replace dictionary values with their avg\n",
    "\n",
    "test_dict = { \"ali\": 29, \"ahmed\": 13, \"noha\": 20, \"ramy\": 15}"
   ]
  },
  {
   "cell_type": "code",
   "execution_count": 93,
   "metadata": {},
   "outputs": [],
   "source": [
    "def replaceavg(test_dict):\n",
    "    avg = sum(test_dict.values())/ float(len(test_dict))\n",
    "    for k, v in test_dict.items():\n",
    "        test_dict[k] = avg"
   ]
  },
  {
   "cell_type": "code",
   "execution_count": 94,
   "metadata": {},
   "outputs": [],
   "source": [
    "test_dict = { \"ali\": 29, \"ahmed\": 13, \"noha\": 20, \"ramy\": 15}\n",
    "replaceavg(test_dict)"
   ]
  },
  {
   "cell_type": "code",
   "execution_count": 95,
   "metadata": {},
   "outputs": [
    {
     "data": {
      "text/plain": [
       "{'ali': 19.25, 'ahmed': 19.25, 'noha': 19.25, 'ramy': 19.25}"
      ]
     },
     "execution_count": 95,
     "metadata": {},
     "output_type": "execute_result"
    }
   ],
   "source": [
    "test_dict"
   ]
  },
  {
   "cell_type": "markdown",
   "metadata": {},
   "source": [
    "# Exercises 5 :\n",
    "Write a python function to sort a list of tuples by their second item\n",
    "\n",
    "example this : [(0, 5), (2, 0), (9, 3)]  becomes: [(2, 0), (9, 3), (0, 5)]"
   ]
  },
  {
   "cell_type": "code",
   "execution_count": 96,
   "metadata": {},
   "outputs": [],
   "source": [
    "def srotmin(tuples):\n",
    "    for i in range(0, len(tuples)):     \n",
    "        for j in range(0, len(tuples)-i-1): \n",
    "            if (tuples[j][1] > tuples[j + 1][1]): \n",
    "                temp = tuples[j] \n",
    "                tuples[j]= tuples[j + 1] \n",
    "                tuples[j + 1]= temp \n",
    "    return tuples"
   ]
  },
  {
   "cell_type": "code",
   "execution_count": 97,
   "metadata": {},
   "outputs": [
    {
     "data": {
      "text/plain": [
       "[(2, 0), (9, 3), (0, 5)]"
      ]
     },
     "execution_count": 97,
     "metadata": {},
     "output_type": "execute_result"
    }
   ],
   "source": [
    "tuples = [(0, 5), (2, 0), (9, 3)]\n",
    "srotmin(tuples)"
   ]
  },
  {
   "cell_type": "markdown",
   "metadata": {},
   "source": [
    "# Exercises 6 :\n",
    "write a python function to read two N*M arrays and multiply them element wise\n",
    "\n",
    "input example:  enter dims: 2 2 \n",
    "\n",
    "enter array 1-row-0: 5 3\n",
    "\n",
    "enter array 1-row-1: 1 2\n",
    "\n",
    "enter array 2-row-0: 2 6\n",
    "\n",
    "enter array 2-row-1: 4 0\n",
    "\n",
    "result:\n",
    "\n",
    "10 18\n",
    "\n",
    "4    0"
   ]
  },
  {
   "cell_type": "code",
   "execution_count": 98,
   "metadata": {},
   "outputs": [
    {
     "name": "stdout",
     "output_type": "stream",
     "text": [
      "enter array 1-row-0: 2 2\n",
      "enter array 1-row-1: 3 3\n",
      "enter array 2-row-0: 2 2\n",
      "enter array 2-row-1: 3 3\n",
      "[4, 4]\n",
      "[6, 6]\n"
     ]
    }
   ],
   "source": [
    "Arr1_row0 = list(map(int, input(\"enter array 1-row-0: \").split()))\n",
    "Arr1_row1 = list(map(int, input(\"enter array 1-row-1: \").split()))\n",
    "Arr2_row0 = list(map(int, input(\"enter array 2-row-0: \").split()))\n",
    "Arr2_row1 = list(map(int, input(\"enter array 2-row-1: \").split()))\n",
    "import operator\n",
    "multiply = lambda a,b: map(operator.mul, a,b)\n",
    "finalrow0 = list(multiadd(Arr1_row0, Arr2_row0))\n",
    "finalrow1 = list(multiadd(Arr1_row0, Arr2_row1))\n",
    "print(finalrow0)\n",
    "print(finalrow1)"
   ]
  },
  {
   "cell_type": "markdown",
   "metadata": {},
   "source": [
    "Write a function that takes a list of various data types and returns a dictionary with data types as keys and with the data in the input list as items. Note: Function type() returns data type of input, example: type(3) will return int \n",
    "\n",
    "\n",
    "Sample input Sample output [1 ,1.3 , 7, 4.4 ,'hi',[0,1],'451 {int:[1,7], float:[4.4,1,3],stringthi745], lista0,1]]) \n",
    "\n",
    "\n",
    "Difficulty: Easy Concepts: Lists, Dictionaries, loops, data types, conditions,functions \n"
   ]
  },
  {
   "cell_type": "code",
   "execution_count": 9,
   "metadata": {},
   "outputs": [],
   "source": [
    "def splittypes(mylist):\n",
    "    #split\n",
    "    res_str = [ele for ele in mylist if type(ele) == str]\n",
    "    res_int = [ele for ele in mylist if type(ele) == int]\n",
    "    res_float = [ele for ele in mylist if type(ele) == float]\n",
    "    dic = {int:res_int,  float:res_float, str:res_str}\n",
    "    return dic"
   ]
  },
  {
   "cell_type": "code",
   "execution_count": 10,
   "metadata": {
    "scrolled": true
   },
   "outputs": [
    {
     "data": {
      "text/plain": [
       "{int: [1, 7], float: [1.3, 4.4], str: ['hi', '45']}"
      ]
     },
     "execution_count": 10,
     "metadata": {},
     "output_type": "execute_result"
    }
   ],
   "source": [
    "mylist = [1, 1.3, 7, 4.4, 'hi', [0, 1], '45']\n",
    "splittypes(mylist)"
   ]
  },
  {
   "cell_type": "markdown",
   "metadata": {},
   "source": [
    "Write a function that merges two lists L1 and L3 in a third list where the first item of L1 is followed by the first item of L2 and second of L1 followed by the second of L2... etc. \n",
    "\n",
    "If both list are not of the same length, the remainder of the longer list should be appended at the end. \n",
    "\n",
    "\n",
    "Sample input Sample output \n",
    "\n",
    "[1,3,5], [2,4,6] [1,2,3,4,5,6]\n",
    "\n",
    "[1,3,5],[2,4,6,7,8] [1,2,3,4,5,6,7,8]\n",
    "\n",
    "[1,3,5,6,7],[2,4] [1,2,3,4,5,6,7] \n",
    "\n",
    "\n",
    "Difficulty: Medium Concepts: Lists, functions, loops \n"
   ]
  },
  {
   "cell_type": "code",
   "execution_count": 44,
   "metadata": {},
   "outputs": [],
   "source": [
    "def merge(l1, l2):\n",
    "    l3 = []\n",
    "    list1 = True\n",
    "    while l1 or l2:\n",
    "        if list1 == True and l1:\n",
    "            l3.append(l1.pop(0))\n",
    "            list1 = False\n",
    "        elif l2:\n",
    "            l3.append(l2.pop(0))\n",
    "            list1 = True\n",
    "        else:\n",
    "            list1 = True\n",
    "    \n",
    "    return l3"
   ]
  },
  {
   "cell_type": "code",
   "execution_count": 45,
   "metadata": {},
   "outputs": [
    {
     "data": {
      "text/plain": [
       "[1, 2, 3, 4, 5, 6]"
      ]
     },
     "execution_count": 45,
     "metadata": {},
     "output_type": "execute_result"
    }
   ],
   "source": [
    "list1 , list2 = [1,3,5], [2,4,6] \n",
    "merge(list1, list2)"
   ]
  },
  {
   "cell_type": "code",
   "execution_count": 46,
   "metadata": {},
   "outputs": [
    {
     "data": {
      "text/plain": [
       "[1, 2, 3, 4, 5, 6, 7, 8]"
      ]
     },
     "execution_count": 46,
     "metadata": {},
     "output_type": "execute_result"
    }
   ],
   "source": [
    "list1 , list2 = [1,3,5],[2,4,6,7,8] \n",
    "merge(list1, list2)"
   ]
  },
  {
   "cell_type": "code",
   "execution_count": 47,
   "metadata": {},
   "outputs": [
    {
     "data": {
      "text/plain": [
       "[1, 2, 3, 4, 5, 6, 7]"
      ]
     },
     "execution_count": 47,
     "metadata": {},
     "output_type": "execute_result"
    }
   ],
   "source": [
    "list1 , list2 = [1,3,5,6,7],[2,4] \n",
    "merge(list1, list2)"
   ]
  },
  {
   "cell_type": "markdown",
   "metadata": {},
   "source": [
    "A palindrome is a word that spells the same whether it is read forward or backward, for example Otto is a palindrome but bumbum is not. Write a function that takes a string s as inout and returns True if s is a palindrome, and False if it is not. \n",
    "\n",
    "Sample input Sample output Ana True Hello False Otto True \n",
    "\n",
    "Difficulty: Medium Concepts: Recursion, loops conditions functions \n"
   ]
  },
  {
   "cell_type": "code",
   "execution_count": 11,
   "metadata": {},
   "outputs": [
    {
     "name": "stdout",
     "output_type": "stream",
     "text": [
      "enter the word: tooT\n"
     ]
    },
    {
     "data": {
      "text/plain": [
       "True"
      ]
     },
     "execution_count": 11,
     "metadata": {},
     "output_type": "execute_result"
    }
   ],
   "source": [
    "def palindrome():    \n",
    "    word = input(\"enter the word: \")\n",
    "    return word.lower() == word[::-1].lower()\n",
    "palindrome()"
   ]
  }
 ],
 "metadata": {
  "kernelspec": {
   "display_name": "Python 3",
   "language": "python",
   "name": "python3"
  },
  "language_info": {
   "codemirror_mode": {
    "name": "ipython",
    "version": 3
   },
   "file_extension": ".py",
   "mimetype": "text/x-python",
   "name": "python",
   "nbconvert_exporter": "python",
   "pygments_lexer": "ipython3",
   "version": "3.8.3"
  }
 },
 "nbformat": 4,
 "nbformat_minor": 4
}
