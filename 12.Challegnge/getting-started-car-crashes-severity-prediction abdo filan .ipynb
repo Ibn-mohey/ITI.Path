{
 "cells": [
  {
   "cell_type": "markdown",
   "metadata": {
    "papermill": {
     "duration": 0.017698,
     "end_time": "2021-07-26T08:53:07.621543",
     "exception": false,
     "start_time": "2021-07-26T08:53:07.603845",
     "status": "completed"
    },
    "tags": []
   },
   "source": [
    "## You're here! \n",
    "Welcome to your first competition in the [ITI's AI Pro training program](https://ai.iti.gov.eg/epita/ai-engineer/)! We hope you enjoy and learn as much as we did prepairing this competition.\n",
    "\n",
    "\n",
    "## Introduction\n",
    "\n",
    "In the competition, it's required to predict the `Severity` of a car crash given info about the crash, e.g., location.\n",
    "\n",
    "This is the getting started notebook. Things are kept simple so that it's easier to understand the steps and modify it.\n",
    "\n",
    "Feel free to `Fork` this notebook and share it with your modifications **OR** use it to create your submissions.\n",
    "\n",
    "### Prerequisites\n",
    "You should know how to use python and a little bit of Machine Learning. You can apply the techniques you learned in the training program and submit the new solutions! \n",
    "\n",
    "### Checklist\n",
    "You can participate in this competition the way you perefer. However, I recommend following these steps if this is your first time joining a competition on Kaggle.\n",
    "\n",
    "* Fork this notebook and run the cells in order.\n",
    "* Submit this solution.\n",
    "* Make changes to the data processing step as you see fit.\n",
    "* Submit the new solutions.\n",
    "\n",
    "*You can submit up to 5 submissions per day. You can select only one of the submission you make to be considered in the final ranking.*\n",
    "\n",
    "\n",
    "Don't hesitate to leave a comment or contact me if you have any question!"
   ]
  },
  {
   "cell_type": "markdown",
   "metadata": {
    "papermill": {
     "duration": 0.015863,
     "end_time": "2021-07-26T08:53:07.654193",
     "exception": false,
     "start_time": "2021-07-26T08:53:07.638330",
     "status": "completed"
    },
    "tags": []
   },
   "source": [
    "## Import the libraries\n",
    "\n",
    "We'll use `pandas` to load and manipulate the data. Other libraries will be imported in the relevant sections."
   ]
  },
  {
   "cell_type": "code",
   "execution_count": 1,
   "metadata": {
    "_cell_guid": "b1076dfc-b9ad-4769-8c92-a6c4dae69d19",
    "_uuid": "8f2839f25d086af736a60e9eeb907d3b93b6e0e5",
    "execution": {
     "iopub.execute_input": "2021-07-26T08:53:07.690745Z",
     "iopub.status.busy": "2021-07-26T08:53:07.689592Z",
     "iopub.status.idle": "2021-07-26T08:53:07.698965Z",
     "shell.execute_reply": "2021-07-26T08:53:07.699449Z",
     "shell.execute_reply.started": "2021-07-26T08:49:48.972746Z"
    },
    "papermill": {
     "duration": 0.029328,
     "end_time": "2021-07-26T08:53:07.699750",
     "exception": false,
     "start_time": "2021-07-26T08:53:07.670422",
     "status": "completed"
    },
    "tags": []
   },
   "outputs": [],
   "source": [
    "import pandas as pd\n",
    "import matplotlib.pyplot as plt \n",
    "import os\n",
    "import numpy as np"
   ]
  },
  {
   "cell_type": "markdown",
   "metadata": {
    "papermill": {
     "duration": 0.016192,
     "end_time": "2021-07-26T08:53:07.733129",
     "exception": false,
     "start_time": "2021-07-26T08:53:07.716937",
     "status": "completed"
    },
    "tags": []
   },
   "source": [
    "## Exploratory Data Analysis\n",
    "In this step, one should load the data and analyze it. However, I'll load the data and do minimal analysis. You are encouraged to do thorough analysis!\n",
    "\n",
    "Let's load the data using `pandas` and have a look at the generated `DataFrame`."
   ]
  },
  {
   "cell_type": "code",
   "execution_count": 2,
   "metadata": {},
   "outputs": [],
   "source": [
    "from functools import partialmethod\n",
    "pd.DataFrame.head = partialmethod(pd.DataFrame.head, n=1)\n",
    "\n"
   ]
  },
  {
   "cell_type": "code",
   "execution_count": 8,
   "metadata": {
    "execution": {
     "iopub.execute_input": "2021-07-26T08:53:07.769396Z",
     "iopub.status.busy": "2021-07-26T08:53:07.768606Z",
     "iopub.status.idle": "2021-07-26T08:53:07.928723Z",
     "shell.execute_reply": "2021-07-26T08:53:07.929226Z",
     "shell.execute_reply.started": "2021-07-26T08:49:48.998869Z"
    },
    "papermill": {
     "duration": 0.180045,
     "end_time": "2021-07-26T08:53:07.929398",
     "exception": false,
     "start_time": "2021-07-26T08:53:07.749353",
     "status": "completed"
    },
    "tags": []
   },
   "outputs": [
    {
     "name": "stdout",
     "output_type": "stream",
     "text": [
      "The shape of the dataset is (6407, 16).\n",
      "\n",
      "\n"
     ]
    },
    {
     "data": {
      "text/html": [
       "<div>\n",
       "<style scoped>\n",
       "    .dataframe tbody tr th:only-of-type {\n",
       "        vertical-align: middle;\n",
       "    }\n",
       "\n",
       "    .dataframe tbody tr th {\n",
       "        vertical-align: top;\n",
       "    }\n",
       "\n",
       "    .dataframe thead th {\n",
       "        text-align: right;\n",
       "    }\n",
       "</style>\n",
       "<table border=\"1\" class=\"dataframe\">\n",
       "  <thead>\n",
       "    <tr style=\"text-align: right;\">\n",
       "      <th></th>\n",
       "      <th>ID</th>\n",
       "      <th>Lat</th>\n",
       "      <th>Lng</th>\n",
       "      <th>Bump</th>\n",
       "      <th>Distance(mi)</th>\n",
       "      <th>Crossing</th>\n",
       "      <th>Give_Way</th>\n",
       "      <th>Junction</th>\n",
       "      <th>No_Exit</th>\n",
       "      <th>Railway</th>\n",
       "      <th>Roundabout</th>\n",
       "      <th>Stop</th>\n",
       "      <th>Amenity</th>\n",
       "      <th>Side</th>\n",
       "      <th>Severity</th>\n",
       "      <th>timestamp</th>\n",
       "    </tr>\n",
       "  </thead>\n",
       "  <tbody>\n",
       "    <tr>\n",
       "      <th>0</th>\n",
       "      <td>0</td>\n",
       "      <td>37.76215</td>\n",
       "      <td>-122.40566</td>\n",
       "      <td>False</td>\n",
       "      <td>0.044</td>\n",
       "      <td>False</td>\n",
       "      <td>False</td>\n",
       "      <td>False</td>\n",
       "      <td>False</td>\n",
       "      <td>False</td>\n",
       "      <td>False</td>\n",
       "      <td>False</td>\n",
       "      <td>True</td>\n",
       "      <td>R</td>\n",
       "      <td>2</td>\n",
       "      <td>2016-03-25 15:13:02</td>\n",
       "    </tr>\n",
       "  </tbody>\n",
       "</table>\n",
       "</div>"
      ],
      "text/plain": [
       "   ID       Lat        Lng   Bump  Distance(mi)  Crossing  Give_Way  Junction  \\\n",
       "0   0  37.76215 -122.40566  False         0.044     False     False     False   \n",
       "\n",
       "   No_Exit  Railway  Roundabout   Stop  Amenity Side  Severity  \\\n",
       "0    False    False       False  False     True    R         2   \n",
       "\n",
       "             timestamp  \n",
       "0  2016-03-25 15:13:02  "
      ]
     },
     "execution_count": 8,
     "metadata": {},
     "output_type": "execute_result"
    }
   ],
   "source": [
    "dataset_path = 'kaggle/input/car-crashes-severity-prediction/'\n",
    "\n",
    "df = pd.read_csv(os.path.join(dataset_path, 'train.csv'))\n",
    "\n",
    "print(\"The shape of the dataset is {}.\\n\\n\".format(df.shape))\n",
    "\n",
    "df.head()"
   ]
  },
  {
   "cell_type": "code",
   "execution_count": 9,
   "metadata": {
    "scrolled": true
   },
   "outputs": [],
   "source": [
    "df['timestamp'] = pd.to_datetime(df['timestamp'])\n",
    "df['date'] = df['timestamp'].dt.date\n",
    "df['hour'] = df['timestamp'].dt.strftime('%H')\n",
    "df['hours_Min'] = df['timestamp'].dt.strftime('%H:%M')"
   ]
  },
  {
   "cell_type": "code",
   "execution_count": 10,
   "metadata": {},
   "outputs": [
    {
     "data": {
      "text/plain": [
       "2    4346\n",
       "3    1855\n",
       "1     129\n",
       "4      77\n",
       "Name: Severity, dtype: int64"
      ]
     },
     "execution_count": 10,
     "metadata": {},
     "output_type": "execute_result"
    }
   ],
   "source": [
    "df['Severity'].value_counts()"
   ]
  },
  {
   "cell_type": "code",
   "execution_count": 11,
   "metadata": {},
   "outputs": [
    {
     "data": {
      "text/html": [
       "<div>\n",
       "<style scoped>\n",
       "    .dataframe tbody tr th:only-of-type {\n",
       "        vertical-align: middle;\n",
       "    }\n",
       "\n",
       "    .dataframe tbody tr th {\n",
       "        vertical-align: top;\n",
       "    }\n",
       "\n",
       "    .dataframe thead th {\n",
       "        text-align: right;\n",
       "    }\n",
       "</style>\n",
       "<table border=\"1\" class=\"dataframe\">\n",
       "  <thead>\n",
       "    <tr style=\"text-align: right;\">\n",
       "      <th></th>\n",
       "      <th>ID</th>\n",
       "      <th>Lat</th>\n",
       "      <th>Lng</th>\n",
       "      <th>Bump</th>\n",
       "      <th>Distance(mi)</th>\n",
       "      <th>Crossing</th>\n",
       "      <th>Give_Way</th>\n",
       "      <th>Junction</th>\n",
       "      <th>No_Exit</th>\n",
       "      <th>Railway</th>\n",
       "      <th>Roundabout</th>\n",
       "      <th>Stop</th>\n",
       "      <th>Amenity</th>\n",
       "      <th>Side</th>\n",
       "      <th>Severity</th>\n",
       "      <th>timestamp</th>\n",
       "      <th>date</th>\n",
       "      <th>hour</th>\n",
       "      <th>hours_Min</th>\n",
       "    </tr>\n",
       "  </thead>\n",
       "  <tbody>\n",
       "    <tr>\n",
       "      <th>0</th>\n",
       "      <td>0</td>\n",
       "      <td>37.76215</td>\n",
       "      <td>-122.40566</td>\n",
       "      <td>False</td>\n",
       "      <td>0.044</td>\n",
       "      <td>False</td>\n",
       "      <td>False</td>\n",
       "      <td>False</td>\n",
       "      <td>False</td>\n",
       "      <td>False</td>\n",
       "      <td>False</td>\n",
       "      <td>False</td>\n",
       "      <td>True</td>\n",
       "      <td>R</td>\n",
       "      <td>2</td>\n",
       "      <td>2016-03-25 15:13:02</td>\n",
       "      <td>2016-03-25</td>\n",
       "      <td>15</td>\n",
       "      <td>15:13</td>\n",
       "    </tr>\n",
       "  </tbody>\n",
       "</table>\n",
       "</div>"
      ],
      "text/plain": [
       "   ID       Lat        Lng   Bump  Distance(mi)  Crossing  Give_Way  Junction  \\\n",
       "0   0  37.76215 -122.40566  False         0.044     False     False     False   \n",
       "\n",
       "   No_Exit  Railway  Roundabout   Stop  Amenity Side  Severity  \\\n",
       "0    False    False       False  False     True    R         2   \n",
       "\n",
       "            timestamp        date hour hours_Min  \n",
       "0 2016-03-25 15:13:02  2016-03-25   15     15:13  "
      ]
     },
     "execution_count": 11,
     "metadata": {},
     "output_type": "execute_result"
    }
   ],
   "source": [
    "df.head()"
   ]
  },
  {
   "cell_type": "code",
   "execution_count": null,
   "metadata": {},
   "outputs": [],
   "source": [
    "# this cell is used to convert T/F features into 0/1 features\n",
    "\n",
    "df['Bump'] = df['Bump'].astype(int)\n",
    "df['Crossing'] = df['Crossing'].astype(int)\n",
    "df['Give_Way'] = df['Give_Way'].astype(int)\n",
    "df['Junction'] = df['Junction'].astype(int)\n",
    "df['No_Exit'] = df['No_Exit'].astype(int)\n",
    "df['Railway'] = df['Railway'].astype(int)\n",
    "df['Roundabout'] = df['Roundabout'].astype(int)\n",
    "df['Stop'] = df['Stop'].astype(int)\n",
    "df['Amenity'] = df['Amenity'].astype(int)\n",
    "df['hour'] = df['hour'].astype(int)\n",
    "# this cell is used to convert the Side column from L/R data into 0/1 data\n",
    "\n",
    "df['Side'] = df['Side'].map(dict(L=0, R=1))"
   ]
  },
  {
   "cell_type": "code",
   "execution_count": null,
   "metadata": {
    "scrolled": true
   },
   "outputs": [],
   "source": [
    "df.head()"
   ]
  },
  {
   "cell_type": "code",
   "execution_count": null,
   "metadata": {},
   "outputs": [],
   "source": [
    "fig, axes = plt.subplots(nrows=2, ncols=2, figsize=(20,10))\n",
    "for (serv, ax) in zip(np.arange(1,5), axes.flatten()):\n",
    "    df[[ 'hour' , \"Severity\" ]].loc[df['Severity'] == serv].groupby(['hour']).agg(['count']).plot(kind = \"bar\" ,ax =ax)    \n",
    "    ax.legend(f\"count\")\n",
    "    ax.set_title(f\"Severity {str(serv)} Count vs Hours of the day\")\n"
   ]
  },
  {
   "cell_type": "code",
   "execution_count": null,
   "metadata": {
    "scrolled": true
   },
   "outputs": [],
   "source": [
    "df[[ 'hour' , \"Severity\" ]].loc[df['Severity'] == 1].groupby(['hour']).agg(['count']).plot(kind = \"bar\")\n",
    "df[[ 'hour' , \"Severity\" ]].loc[df['Severity'] == 2].groupby(['hour']).agg(['count']).plot(kind = \"bar\")\n",
    "df[[ 'hour' , \"Severity\" ]].loc[df['Severity'] == 3].groupby(['hour']).agg(['count']).plot(kind = \"bar\")\n",
    "df[[ 'hour' , \"Severity\" ]].loc[df['Severity'] == 4].groupby(['hour']).agg(['count']).plot(kind = \"bar\")"
   ]
  },
  {
   "cell_type": "code",
   "execution_count": null,
   "metadata": {},
   "outputs": [],
   "source": [
    "plt.scatter(x = df['hour'] , y = df['Severity'] , alpha = .2)"
   ]
  },
  {
   "cell_type": "markdown",
   "metadata": {},
   "source": [
    "### reading holidays xml"
   ]
  },
  {
   "cell_type": "code",
   "execution_count": null,
   "metadata": {},
   "outputs": [],
   "source": [
    "holidays_df = pd.read_xml(os.path.join(dataset_path, 'holidays.xml'))\n",
    "\n",
    "print(\"The shape of the dataset is {}.\\n\\n\".format(holidays_df.shape))\n",
    "\n",
    "holidays_df"
   ]
  },
  {
   "cell_type": "markdown",
   "metadata": {},
   "source": [
    "### reading weather csv"
   ]
  },
  {
   "cell_type": "code",
   "execution_count": null,
   "metadata": {},
   "outputs": [],
   "source": [
    "weather_df = pd.read_csv(os.path.join(dataset_path, 'weather-sfcsv.csv'))\n",
    "\n",
    "print(\"The shape of the dataset is {}.\\n\\n\".format(weather_df.shape))\n",
    "\n",
    "weather_df.head()"
   ]
  },
  {
   "cell_type": "code",
   "execution_count": null,
   "metadata": {
    "scrolled": true
   },
   "outputs": [],
   "source": [
    "weather_df['timestamp'] = pd.to_datetime(weather_df[['Year', 'Month','Day','Hour']])\n",
    "weather_df['date'] = weather_df['timestamp'].dt.date\n",
    "weather_df.head()"
   ]
  },
  {
   "cell_type": "code",
   "execution_count": null,
   "metadata": {
    "scrolled": true
   },
   "outputs": [],
   "source": [
    "weather_df.head()"
   ]
  },
  {
   "cell_type": "markdown",
   "metadata": {
    "papermill": {
     "duration": 0.016789,
     "end_time": "2021-07-26T08:53:07.963620",
     "exception": false,
     "start_time": "2021-07-26T08:53:07.946831",
     "status": "completed"
    },
    "tags": []
   },
   "source": [
    "We've got 6407 examples in the dataset with 14 featues, 1 ID, and the `Severity` of the crash.\n",
    "\n",
    "By looking at the features and a sample from the data, the features look of numerical and catogerical types. What about some descriptive statistics?"
   ]
  },
  {
   "cell_type": "markdown",
   "metadata": {},
   "source": [
    "### Merging the Data into one DataFrame"
   ]
  },
  {
   "cell_type": "code",
   "execution_count": null,
   "metadata": {},
   "outputs": [],
   "source": [
    "df.head()"
   ]
  },
  {
   "cell_type": "code",
   "execution_count": null,
   "metadata": {
    "scrolled": true
   },
   "outputs": [],
   "source": [
    "df.info()"
   ]
  },
  {
   "cell_type": "code",
   "execution_count": null,
   "metadata": {
    "scrolled": true
   },
   "outputs": [],
   "source": [
    "weather_df.info()"
   ]
  },
  {
   "cell_type": "code",
   "execution_count": null,
   "metadata": {
    "scrolled": true
   },
   "outputs": [],
   "source": [
    "DfwithWeatherData = pd.merge(df,weather_df,how = \"left\" , left_on=['date','hour'],right_on=['date','Hour'] )\n",
    "DfwithWeatherData"
   ]
  },
  {
   "cell_type": "code",
   "execution_count": null,
   "metadata": {},
   "outputs": [],
   "source": [
    "holidays_df.info()"
   ]
  },
  {
   "cell_type": "code",
   "execution_count": null,
   "metadata": {},
   "outputs": [],
   "source": [
    "merged = pd.merge(DfwithWeatherData,holidays_df ,how = \"left\" , left_on=['date'],right_on=['date'] )\n",
    "merged\n",
    "for i in merged['date']:\n",
    "    if i in holidays_df['date']:\n",
    "         merged.loc['date' == i, 'description'] = holidays_df.loc['date' == i, 'description']"
   ]
  },
  {
   "cell_type": "code",
   "execution_count": null,
   "metadata": {},
   "outputs": [],
   "source": [
    "merged.columns"
   ]
  },
  {
   "cell_type": "code",
   "execution_count": null,
   "metadata": {},
   "outputs": [],
   "source": [
    "merged.info()"
   ]
  },
  {
   "cell_type": "code",
   "execution_count": null,
   "metadata": {},
   "outputs": [],
   "source": [
    "holidays_df"
   ]
  },
  {
   "cell_type": "code",
   "execution_count": null,
   "metadata": {
    "scrolled": true
   },
   "outputs": [],
   "source": [
    "merged.info()"
   ]
  },
  {
   "cell_type": "code",
   "execution_count": null,
   "metadata": {},
   "outputs": [],
   "source": [
    "merged['description'].unique()"
   ]
  },
  {
   "cell_type": "code",
   "execution_count": null,
   "metadata": {},
   "outputs": [],
   "source": [
    "merged.loc[merged['date'] == '2016-03-25']"
   ]
  },
  {
   "cell_type": "code",
   "execution_count": null,
   "metadata": {
    "scrolled": true
   },
   "outputs": [],
   "source": [
    "merged[['date', 'Weather_Condition','description']].loc[merged['description']!=np.nan]"
   ]
  },
  {
   "cell_type": "code",
   "execution_count": null,
   "metadata": {},
   "outputs": [],
   "source": [
    "merged.to_csv(\"fi2.csv\")"
   ]
  },
  {
   "cell_type": "code",
   "execution_count": null,
   "metadata": {},
   "outputs": [],
   "source": []
  },
  {
   "cell_type": "markdown",
   "metadata": {},
   "source": [
    "### Data Cleaning"
   ]
  },
  {
   "cell_type": "code",
   "execution_count": null,
   "metadata": {
    "execution": {
     "iopub.execute_input": "2021-07-26T08:53:08.011112Z",
     "iopub.status.busy": "2021-07-26T08:53:08.010439Z",
     "iopub.status.idle": "2021-07-26T08:53:08.033266Z",
     "shell.execute_reply": "2021-07-26T08:53:08.033728Z",
     "shell.execute_reply.started": "2021-07-26T08:49:49.179309Z"
    },
    "papermill": {
     "duration": 0.053119,
     "end_time": "2021-07-26T08:53:08.033920",
     "exception": false,
     "start_time": "2021-07-26T08:53:07.980801",
     "status": "completed"
    },
    "tags": []
   },
   "outputs": [],
   "source": [
    "df.drop(columns='ID').describe()"
   ]
  },
  {
   "cell_type": "markdown",
   "metadata": {
    "papermill": {
     "duration": 0.018119,
     "end_time": "2021-07-26T08:53:08.069652",
     "exception": false,
     "start_time": "2021-07-26T08:53:08.051533",
     "status": "completed"
    },
    "tags": []
   },
   "source": [
    "The output shows desciptive statistics for the numerical features, `Lat`, `Lng`, `Distance(mi)`, and `Severity`. I'll use the numerical features to demonstrate how to train the model and make submissions. **However you shouldn't use the numerical features only to make the final submission if you want to make it to the top of the leaderboard.**"
   ]
  },
  {
   "cell_type": "code",
   "execution_count": null,
   "metadata": {},
   "outputs": [],
   "source": [
    "DfwithWeatherData.drop(columns=['ID', 'Severity'])"
   ]
  },
  {
   "cell_type": "code",
   "execution_count": null,
   "metadata": {},
   "outputs": [],
   "source": [
    "dnew = DfwithWeatherData.dropna()\n",
    "min_dis = dnew['Distance(mi)'].min()\n",
    "max_dis = dnew['Distance(mi)'].max()\n",
    "dnew['Distance(mi)_norm'] = (dnew['Distance(mi)'] - min_dis)/(max_dis - min_dis)\n",
    "min_sp = dnew['Wind_Speed(mph)'].min()\n",
    "max_sp = dnew['Wind_Speed(mph)'].max()\n",
    "dnew['Wind_Speed(mph)_norm'] = (dnew['Wind_Speed(mph)'] - min_sp)/(max_sp - min_sp)\n",
    "min_vis = dnew['Visibility(mi)'].min()\n",
    "max_vis = dnew['Visibility(mi)'].max()\n",
    "dnew['Visibility(mi)_norm'] = (dnew['Visibility(mi)'] - min_vis)/(max_vis - min_vis)\n",
    "min_chill = dnew['Wind_Chill(F)'].min()\n",
    "max_chill = dnew['Wind_Chill(F)'].max()\n",
    "dnew['Wind_Chill(F)_norm'] = (dnew['Wind_Chill(F)'] - min_chill)/(max_chill - min_chill)\n",
    "dnew['Side'].mean()"
   ]
  },
  {
   "cell_type": "markdown",
   "metadata": {
    "papermill": {
     "duration": 0.017866,
     "end_time": "2021-07-26T08:53:08.105771",
     "exception": false,
     "start_time": "2021-07-26T08:53:08.087905",
     "status": "completed"
    },
    "tags": []
   },
   "source": [
    "## Data Splitting\n",
    "\n",
    "Now it's time to split the dataset for the training step. Typically the dataset is split into 3 subsets, namely, the training, validation and test sets. In our case, the test set is already predefined. So we'll split the \"training\" set into training and validation sets with 0.8:0.2 ratio. \n",
    "\n",
    "*Note: a good way to generate reproducible results is to set the seed to the algorithms that depends on randomization. This is done with the argument `random_state` in the following command* "
   ]
  },
  {
   "cell_type": "code",
   "execution_count": null,
   "metadata": {
    "execution": {
     "iopub.execute_input": "2021-07-26T08:53:08.147557Z",
     "iopub.status.busy": "2021-07-26T08:53:08.146862Z",
     "iopub.status.idle": "2021-07-26T08:53:09.096491Z",
     "shell.execute_reply": "2021-07-26T08:53:09.095825Z",
     "shell.execute_reply.started": "2021-07-26T08:49:49.218084Z"
    },
    "papermill": {
     "duration": 0.973139,
     "end_time": "2021-07-26T08:53:09.096631",
     "exception": false,
     "start_time": "2021-07-26T08:53:08.123492",
     "status": "completed"
    },
    "tags": []
   },
   "outputs": [],
   "source": [
    "from sklearn.model_selection import train_test_split\n",
    "\n",
    "train_df, val_df = train_test_split(dnew, test_size=0.2, random_state=42) # Try adding `stratify` here\n",
    "\n",
    "X_train = train_df.drop(columns=['ID', 'Severity'])\n",
    "y_train = train_df['Severity']\n",
    "\n",
    "X_val = val_df.drop(columns=['ID', 'Severity'])\n",
    "y_val = val_df['Severity']\n"
   ]
  },
  {
   "cell_type": "markdown",
   "metadata": {
    "papermill": {
     "duration": 0.017287,
     "end_time": "2021-07-26T08:53:09.132145",
     "exception": false,
     "start_time": "2021-07-26T08:53:09.114858",
     "status": "completed"
    },
    "tags": []
   },
   "source": [
    "As pointed out eariler, I'll use the numerical features to train the classifier. **However, you shouldn't use the numerical features only to make the final submission if you want to make it to the top of the leaderboard.** "
   ]
  },
  {
   "cell_type": "code",
   "execution_count": null,
   "metadata": {},
   "outputs": [],
   "source": []
  },
  {
   "cell_type": "code",
   "execution_count": null,
   "metadata": {},
   "outputs": [],
   "source": [
    "X_train"
   ]
  },
  {
   "cell_type": "code",
   "execution_count": null,
   "metadata": {},
   "outputs": [],
   "source": [
    "X_train.shape"
   ]
  },
  {
   "cell_type": "code",
   "execution_count": null,
   "metadata": {
    "execution": {
     "iopub.execute_input": "2021-07-26T08:53:09.175468Z",
     "iopub.status.busy": "2021-07-26T08:53:09.174494Z",
     "iopub.status.idle": "2021-07-26T08:53:09.177608Z",
     "shell.execute_reply": "2021-07-26T08:53:09.176997Z",
     "shell.execute_reply.started": "2021-07-26T08:49:50.396397Z"
    },
    "papermill": {
     "duration": 0.02815,
     "end_time": "2021-07-26T08:53:09.177746",
     "exception": false,
     "start_time": "2021-07-26T08:53:09.149596",
     "status": "completed"
    },
    "tags": []
   },
   "outputs": [],
   "source": [
    "# This cell is used to select the numerical features. IT SHOULD BE REMOVED AS YOU DO YOUR WORK.\n",
    "X_train = X_train[['Lat', 'Lng', 'Distance(mi)_norm','Junction','Stop','Amenity','Side','Wind_Speed(mph)_norm','Visibility(mi)_norm']]\n",
    "X_val = X_val[['Lat', 'Lng', 'Distance(mi)_norm','Junction','Stop','Amenity','Side','Wind_Speed(mph)_norm','Visibility(mi)_norm']]"
   ]
  },
  {
   "cell_type": "code",
   "execution_count": null,
   "metadata": {},
   "outputs": [],
   "source": [
    "X_train"
   ]
  },
  {
   "cell_type": "markdown",
   "metadata": {
    "papermill": {
     "duration": 0.0174,
     "end_time": "2021-07-26T08:53:09.212653",
     "exception": false,
     "start_time": "2021-07-26T08:53:09.195253",
     "status": "completed"
    },
    "tags": []
   },
   "source": [
    "## Model Training\n",
    "\n",
    "Let's train a model with the data! We'll train a Random Forest Classifier to demonstrate the process of making submissions. "
   ]
  },
  {
   "cell_type": "code",
   "execution_count": null,
   "metadata": {
    "execution": {
     "iopub.execute_input": "2021-07-26T08:53:09.252761Z",
     "iopub.status.busy": "2021-07-26T08:53:09.252050Z",
     "iopub.status.idle": "2021-07-26T08:53:09.719240Z",
     "shell.execute_reply": "2021-07-26T08:53:09.719725Z",
     "shell.execute_reply.started": "2021-07-26T08:49:50.409089Z"
    },
    "papermill": {
     "duration": 0.489771,
     "end_time": "2021-07-26T08:53:09.719921",
     "exception": false,
     "start_time": "2021-07-26T08:53:09.230150",
     "status": "completed"
    },
    "scrolled": true,
    "tags": []
   },
   "outputs": [],
   "source": [
    "from sklearn.ensemble import RandomForestClassifier\n",
    "\n",
    "# Create an instance of the classifier\n",
    "classifier = RandomForestClassifier(max_depth=2, random_state=0)\n",
    "\n",
    "# Train the classifier\n",
    "classifier = classifier.fit(X_train, y_train)"
   ]
  },
  {
   "cell_type": "markdown",
   "metadata": {
    "papermill": {
     "duration": 0.017124,
     "end_time": "2021-07-26T08:53:09.754447",
     "exception": false,
     "start_time": "2021-07-26T08:53:09.737323",
     "status": "completed"
    },
    "tags": []
   },
   "source": [
    "Now let's test our classifier on the validation dataset and see the accuracy."
   ]
  },
  {
   "cell_type": "code",
   "execution_count": null,
   "metadata": {
    "execution": {
     "iopub.execute_input": "2021-07-26T08:53:09.792892Z",
     "iopub.status.busy": "2021-07-26T08:53:09.791949Z",
     "iopub.status.idle": "2021-07-26T08:53:09.817931Z",
     "shell.execute_reply": "2021-07-26T08:53:09.818433Z",
     "shell.execute_reply.started": "2021-07-26T08:49:50.960998Z"
    },
    "papermill": {
     "duration": 0.046625,
     "end_time": "2021-07-26T08:53:09.818598",
     "exception": false,
     "start_time": "2021-07-26T08:53:09.771973",
     "status": "completed"
    },
    "tags": []
   },
   "outputs": [],
   "source": [
    "print(\"The accuracy of the classifier on the validation set is \", (classifier.score(X_val, y_val)))"
   ]
  },
  {
   "cell_type": "markdown",
   "metadata": {
    "papermill": {
     "duration": 0.017598,
     "end_time": "2021-07-26T08:53:09.853858",
     "exception": false,
     "start_time": "2021-07-26T08:53:09.836260",
     "status": "completed"
    },
    "tags": []
   },
   "source": [
    "Well. That's a good start, right? A classifier that predicts all examples' `Severity` as 2 will get around 0.63. You should get better score as you add more features and do better data preprocessing."
   ]
  },
  {
   "cell_type": "markdown",
   "metadata": {
    "papermill": {
     "duration": 0.017288,
     "end_time": "2021-07-26T08:53:09.888842",
     "exception": false,
     "start_time": "2021-07-26T08:53:09.871554",
     "status": "completed"
    },
    "tags": []
   },
   "source": [
    "## Submission File Generation\n",
    "\n",
    "We have built a model and we'd like to submit our predictions on the test set! In order to do that, we'll load the test set, predict the class and save the submission file. \n",
    "\n",
    "First, we'll load the data."
   ]
  },
  {
   "cell_type": "code",
   "execution_count": null,
   "metadata": {
    "execution": {
     "iopub.execute_input": "2021-07-26T08:53:09.928931Z",
     "iopub.status.busy": "2021-07-26T08:53:09.928263Z",
     "iopub.status.idle": "2021-07-26T08:53:09.962800Z",
     "shell.execute_reply": "2021-07-26T08:53:09.962287Z",
     "shell.execute_reply.started": "2021-07-26T08:49:51.000865Z"
    },
    "papermill": {
     "duration": 0.056458,
     "end_time": "2021-07-26T08:53:09.962962",
     "exception": false,
     "start_time": "2021-07-26T08:53:09.906504",
     "status": "completed"
    },
    "tags": []
   },
   "outputs": [],
   "source": [
    "test_df = pd.read_csv(os.path.join(dataset_path, 'test.csv'))\n",
    "test_df.head()"
   ]
  },
  {
   "cell_type": "markdown",
   "metadata": {
    "papermill": {
     "duration": 0.018225,
     "end_time": "2021-07-26T08:53:09.999902",
     "exception": false,
     "start_time": "2021-07-26T08:53:09.981677",
     "status": "completed"
    },
    "tags": []
   },
   "source": [
    "Note that the test set has the same features and doesn't have the `Severity` column.\n",
    "At this stage one must **NOT** forget to apply the same processing done on the training set on the features of the test set.\n",
    "\n",
    "Now we'll add `Severity` column to the test `DataFrame` and add the values of the predicted class to it.\n",
    "\n",
    "**I'll select the numerical features here as I did in the training set. DO NOT forget to change this step as you change the preprocessing of the training data.**"
   ]
  },
  {
   "cell_type": "code",
   "execution_count": null,
   "metadata": {
    "execution": {
     "iopub.execute_input": "2021-07-26T08:53:10.048128Z",
     "iopub.status.busy": "2021-07-26T08:53:10.047413Z",
     "iopub.status.idle": "2021-07-26T08:53:10.087261Z",
     "shell.execute_reply": "2021-07-26T08:53:10.086743Z",
     "shell.execute_reply.started": "2021-07-26T08:49:51.059979Z"
    },
    "papermill": {
     "duration": 0.068954,
     "end_time": "2021-07-26T08:53:10.087402",
     "exception": false,
     "start_time": "2021-07-26T08:53:10.018448",
     "status": "completed"
    },
    "tags": []
   },
   "outputs": [],
   "source": [
    "X_test = test_df.drop(columns=['ID'])\n",
    "\n",
    "# You should update/remove the next line once you change the features used for training\n",
    "X_test = X_test[['Lat', 'Lng', 'Distance(mi)']]\n",
    "\n",
    "y_test_predicted = classifier.predict(X_test)\n",
    "\n",
    "test_df['Severity'] = y_test_predicted\n",
    "\n",
    "test_df.head()"
   ]
  },
  {
   "cell_type": "markdown",
   "metadata": {
    "papermill": {
     "duration": 0.01871,
     "end_time": "2021-07-26T08:53:10.125107",
     "exception": false,
     "start_time": "2021-07-26T08:53:10.106397",
     "status": "completed"
    },
    "tags": []
   },
   "source": [
    "Now we're ready to generate the submission file. The submission file needs the columns `ID` and `Severity` only."
   ]
  },
  {
   "cell_type": "code",
   "execution_count": null,
   "metadata": {
    "execution": {
     "iopub.execute_input": "2021-07-26T08:53:10.170340Z",
     "iopub.status.busy": "2021-07-26T08:53:10.169586Z",
     "iopub.status.idle": "2021-07-26T08:53:10.178420Z",
     "shell.execute_reply": "2021-07-26T08:53:10.177767Z",
     "shell.execute_reply.started": "2021-07-26T08:49:51.150554Z"
    },
    "papermill": {
     "duration": 0.034035,
     "end_time": "2021-07-26T08:53:10.178557",
     "exception": false,
     "start_time": "2021-07-26T08:53:10.144522",
     "status": "completed"
    },
    "tags": []
   },
   "outputs": [],
   "source": [
    "test_df[['ID', 'Severity']].to_csv('/kaggle/working/submission.csv', index=False)"
   ]
  },
  {
   "cell_type": "markdown",
   "metadata": {
    "papermill": {
     "duration": 0.018719,
     "end_time": "2021-07-26T08:53:10.216318",
     "exception": false,
     "start_time": "2021-07-26T08:53:10.197599",
     "status": "completed"
    },
    "tags": []
   },
   "source": [
    "The remaining steps is to submit the generated file and are as follows. \n",
    "\n",
    "1. Press `Save Version` on the upper right corner of this notebook.\n",
    "2. Write a `Version Name` of your choice and choose `Save & Run All (Commit)` then click `Save`.\n",
    "3. Wait for the saved notebook to finish running the go to the saved notebook.\n",
    "4. Scroll down until you see the output files then select the `submission.csv` file and click `Submit`.\n",
    "\n",
    "Now your submission will be evaluated and your score will be updated on the leaderboard! CONGRATULATIONS!!"
   ]
  },
  {
   "cell_type": "markdown",
   "metadata": {
    "papermill": {
     "duration": 0.018578,
     "end_time": "2021-07-26T08:53:10.254075",
     "exception": false,
     "start_time": "2021-07-26T08:53:10.235497",
     "status": "completed"
    },
    "tags": []
   },
   "source": [
    "## Conclusion\n",
    "\n",
    "In this notebook, we have demonstrated the essential steps that one should do in order to get \"slightly\" familiar with the data and the submission process. We chose not to go into details in each step to keep the welcoming notebook simple and make a room for improvement.\n",
    "\n",
    "You're encourged to `Fork` the notebook, edit it, add your insights and use it to create your submission."
   ]
  }
 ],
 "metadata": {
  "kernelspec": {
   "display_name": "Python 3",
   "language": "python",
   "name": "python3"
  },
  "language_info": {
   "codemirror_mode": {
    "name": "ipython",
    "version": 3
   },
   "file_extension": ".py",
   "mimetype": "text/x-python",
   "name": "python",
   "nbconvert_exporter": "python",
   "pygments_lexer": "ipython3",
   "version": "3.8.3"
  },
  "papermill": {
   "default_parameters": {},
   "duration": 11.567547,
   "end_time": "2021-07-26T08:53:10.982372",
   "environment_variables": {},
   "exception": null,
   "input_path": "__notebook__.ipynb",
   "output_path": "__notebook__.ipynb",
   "parameters": {},
   "start_time": "2021-07-26T08:52:59.414825",
   "version": "2.3.3"
  }
 },
 "nbformat": 4,
 "nbformat_minor": 5
}
