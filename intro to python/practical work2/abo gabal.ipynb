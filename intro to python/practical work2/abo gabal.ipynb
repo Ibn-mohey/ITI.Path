{
 "cells": [
  {
   "cell_type": "markdown",
   "metadata": {},
   "source": [
    "## Q1"
   ]
  },
  {
   "cell_type": "code",
   "execution_count": 1,
   "metadata": {},
   "outputs": [
    {
     "name": "stdout",
     "output_type": "stream",
     "text": [
      "Banana\n",
      "avocado\n",
      "-,-,-,-\n",
      "peach\n",
      "-,-,-\n",
      "PineApple-pumpkin\n",
      "pie.\n",
      "\n",
      "Nectarines\n",
      "-,-,-,-,-,\n",
      "GRAPES\n",
      "pomegranateS\n"
     ]
    }
   ],
   "source": [
    "with open(\"input.txt\", \"r\") as file:\n",
    "    for line in file:\n",
    "        l = list(line.split())\n",
    "        #print(l)\n",
    "        \n",
    "        if l == []:\n",
    "            print('')\n",
    "        else:\n",
    "            for element in l:\n",
    "                if element[0] == '.':\n",
    "                    element = element.replace(\".\", \"\")\n",
    "                    print(element)\n",
    "                    \n",
    "                    if len(element) % 2 == 0:\n",
    "                        print(\"-,\" * int(len(element) / 2))\n",
    "                    else:\n",
    "                        print(\"-,\" * int(len(element) // 2) + '-')\n",
    "                \n",
    "                else:\n",
    "                    print(element)"
   ]
  },
  {
   "cell_type": "code",
   "execution_count": 2,
   "metadata": {},
   "outputs": [
    {
     "ename": "NameError",
     "evalue": "name 'content' is not defined",
     "output_type": "error",
     "traceback": [
      "\u001b[1;31m---------------------------------------------------------------------------\u001b[0m",
      "\u001b[1;31mNameError\u001b[0m                                 Traceback (most recent call last)",
      "\u001b[1;32m<ipython-input-2-7fe70820e08a>\u001b[0m in \u001b[0;36m<module>\u001b[1;34m\u001b[0m\n\u001b[1;32m----> 1\u001b[1;33m \u001b[0mcontent\u001b[0m\u001b[1;33m\u001b[0m\u001b[1;33m\u001b[0m\u001b[0m\n\u001b[0m",
      "\u001b[1;31mNameError\u001b[0m: name 'content' is not defined"
     ]
    }
   ],
   "source": [
    "content"
   ]
  },
  {
   "cell_type": "code",
   "execution_count": null,
   "metadata": {},
   "outputs": [],
   "source": []
  },
  {
   "cell_type": "markdown",
   "metadata": {},
   "source": [
    "## Q2"
   ]
  },
  {
   "cell_type": "code",
   "execution_count": 3,
   "metadata": {},
   "outputs": [],
   "source": [
    "with open(\"steps.txt\", \"r\") as file:\n",
    "    content = file.read()"
   ]
  },
  {
   "cell_type": "code",
   "execution_count": 4,
   "metadata": {},
   "outputs": [],
   "source": [
    "content = content.split('\\n')\n",
    "for i in range(len(content)):\n",
    "    content[i]= int(content[i])"
   ]
  },
  {
   "cell_type": "code",
   "execution_count": 5,
   "metadata": {},
   "outputs": [],
   "source": [
    "dict_averg = {}\n",
    "dict_averg['january'] = sum(content[0:31]) / 31\n",
    "dict_averg['february'] = sum(content[31:59]) / 28\n",
    "dict_averg['march'] = sum(content[59:90]) / 31\n",
    "dict_averg['april'] = sum(content[90:120]) / 30\n",
    "dict_averg['may'] = sum(content[120:151]) / 31\n",
    "dict_averg['june'] = sum(content[151:181]) / 30\n",
    "dict_averg['july'] = sum(content[181:212]) / 31\n",
    "dict_averg['August'] = sum(content[212:243]) / 31\n",
    "dict_averg['Septemper'] = sum(content[243:273]) / 30\n",
    "dict_averg['jNovember'] = sum(content[273:304]) / 31\n",
    "dict_averg['October'] = sum(content[304:334]) / 30\n",
    "dict_averg['December'] = sum(content[334:365]) / 31"
   ]
  },
  {
   "cell_type": "code",
   "execution_count": 6,
   "metadata": {},
   "outputs": [
    {
     "data": {
      "text/plain": [
       "{'january': 5246.096774193548,\n",
       " 'february': 4851.857142857143,\n",
       " 'march': 5777.612903225807,\n",
       " 'april': 5802.133333333333,\n",
       " 'may': 4711.548387096775,\n",
       " 'june': 4792.333333333333,\n",
       " 'july': 5638.225806451613,\n",
       " 'August': 5759.645161290323,\n",
       " 'Septemper': 6114.566666666667,\n",
       " 'jNovember': 5411.032258064516,\n",
       " 'October': 4268.8,\n",
       " 'December': 5138.064516129032}"
      ]
     },
     "execution_count": 6,
     "metadata": {},
     "output_type": "execute_result"
    }
   ],
   "source": [
    "dict_averg"
   ]
  },
  {
   "cell_type": "markdown",
   "metadata": {},
   "source": [
    "## Q3"
   ]
  },
  {
   "cell_type": "code",
   "execution_count": 6,
   "metadata": {},
   "outputs": [
    {
     "name": "stdout",
     "output_type": "stream",
     "text": [
      "enter the square feet of wall space: 112 \n",
      "the price of the paint per gallon: 280\n"
     ]
    }
   ],
   "source": [
    "area = float(input(\"enter the square feet of wall space: \"))\n",
    "price = float(input(\"the price of the paint per gallon: \"))"
   ]
  },
  {
   "cell_type": "code",
   "execution_count": 7,
   "metadata": {},
   "outputs": [
    {
     "name": "stdout",
     "output_type": "stream",
     "text": [
      "The number of gallons of paint required 1.0\n",
      "The hours of labor required 8.0\n",
      "The cost of the paint 280.0\n",
      "The labor charges 280.0\n"
     ]
    }
   ],
   "source": [
    "print(\"The number of gallons of paint required\", area / 112)\n",
    "print(\"The hours of labor required\", (area * 8) / 112)\n",
    "print(\"The cost of the paint\", (area / 112) * price)\n",
    "print(\"The labor charges\", ((area * 8) / 112) * 35.00)"
   ]
  },
  {
   "cell_type": "markdown",
   "metadata": {},
   "source": [
    "## Q4"
   ]
  },
  {
   "cell_type": "code",
   "execution_count": null,
   "metadata": {},
   "outputs": [],
   "source": [
    "start = int(input(\"Starting number of organisms: \"))\n",
    "increase = float(input(\"Average daily increase: \"))\n",
    "days = int(input(\"Number of days to multiply: \"))"
   ]
  },
  {
   "cell_type": "code",
   "execution_count": null,
   "metadata": {},
   "outputs": [],
   "source": [
    "import csv\n",
    "\n",
    "with open('population.csv', mode='w') as csv_file:\n",
    "    fieldnames = ['Day', 'Population']\n",
    "    writer = csv.DictWriter(csv_file, fieldnames=fieldnames)\n",
    "    writer.writeheader()\n",
    "    \n",
    "    for day in range(1, days + 1):\n",
    "        if day == 1:\n",
    "            population = start\n",
    "            writer.writerow({'Day': 1, 'Population': population})\n",
    "        else:\n",
    "            population *= (1 + increase / 100)\n",
    "            writer.writerow({'Day': day, 'Population': population})\n",
    "        "
   ]
  },
  {
   "cell_type": "markdown",
   "metadata": {},
   "source": [
    "## Q5"
   ]
  },
  {
   "cell_type": "code",
   "execution_count": 7,
   "metadata": {},
   "outputs": [],
   "source": [
    "import random\n",
    "\n",
    "def generate():\n",
    "    return list(random.sample(range(-510, 276), 200))\n",
    "\n",
    "with open(\"Q5.txt\", \"w\") as file_solution:\n",
    "    for i in range(4):\n",
    "        file_solution.write(str(generate()))\n",
    "        file_solution.write(\"\\n\")"
   ]
  },
  {
   "cell_type": "code",
   "execution_count": null,
   "metadata": {},
   "outputs": [],
   "source": [
    "with open(\"Q5.txt\", \"r\") as file_solution:\n",
    "    content = file_solution.read()"
   ]
  },
  {
   "cell_type": "code",
   "execution_count": null,
   "metadata": {},
   "outputs": [],
   "source": [
    "sub_content = content.split('\\n')"
   ]
  },
  {
   "cell_type": "code",
   "execution_count": null,
   "metadata": {},
   "outputs": [],
   "source": [
    "for line in sub_content:\n",
    "    for integer in line.replace('[', ''):\n",
    "        print(int(integer))\n",
    "        "
   ]
  },
  {
   "cell_type": "code",
   "execution_count": null,
   "metadata": {},
   "outputs": [],
   "source": [
    "    "
   ]
  },
  {
   "cell_type": "markdown",
   "metadata": {},
   "source": [
    "## Q6"
   ]
  },
  {
   "cell_type": "code",
   "execution_count": 12,
   "metadata": {},
   "outputs": [],
   "source": [
    "lst = [10, 'most', 2.5, 7, 'aly', 9, 4.5, 2, 'ziad', -4, 1.1, [1, 5], 5, [0, 7, 8]]\n",
    "\n",
    "def sort_different_types(lst):\n",
    "    strings = list((filter(lambda x: type(x) == str, lst)))\n",
    "    lists = list((filter(lambda x: type(x) == list, lst)))\n",
    "    integers = list((filter(lambda x: type(x) == int, lst)))\n",
    "    floats = list((filter(lambda x: type(x) == float, lst)))\n",
    "    \n",
    "    return sorted(strings) + sorted(integers) + sorted(floats) + sorted([lst for lst in lists])"
   ]
  },
  {
   "cell_type": "code",
   "execution_count": 13,
   "metadata": {},
   "outputs": [
    {
     "data": {
      "text/plain": [
       "['aly', 'most', 'ziad', -4, 2, 5, 7, 9, 10, 1.1, 2.5, 4.5, [0, 7, 8], [1, 5]]"
      ]
     },
     "execution_count": 13,
     "metadata": {},
     "output_type": "execute_result"
    }
   ],
   "source": [
    "sort_different_types(lst)"
   ]
  },
  {
   "cell_type": "code",
   "execution_count": null,
   "metadata": {},
   "outputs": [],
   "source": []
  },
  {
   "cell_type": "code",
   "execution_count": null,
   "metadata": {},
   "outputs": [],
   "source": []
  }
 ],
 "metadata": {
  "kernelspec": {
   "display_name": "Python 3",
   "language": "python",
   "name": "python3"
  },
  "language_info": {
   "codemirror_mode": {
    "name": "ipython",
    "version": 3
   },
   "file_extension": ".py",
   "mimetype": "text/x-python",
   "name": "python",
   "nbconvert_exporter": "python",
   "pygments_lexer": "ipython3",
   "version": "3.8.3"
  }
 },
 "nbformat": 4,
 "nbformat_minor": 5
}
