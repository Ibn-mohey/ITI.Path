{
 "cells": [
  {
   "cell_type": "markdown",
   "metadata": {
    "papermill": {
     "duration": 0.054345,
     "end_time": "2021-08-27T20:27:04.616806",
     "exception": false,
     "start_time": "2021-08-27T20:27:04.562461",
     "status": "completed"
    },
    "tags": []
   },
   "source": [
    "---\n",
    "\n",
    "<center> <h1> House Prices - Advanced Regression Techniques </h1> </center>\n",
    "<br>\n",
    "\n",
    "---\n"
   ]
  },
  {
   "cell_type": "code",
   "execution_count": 90,
   "metadata": {
    "execution": {
     "iopub.execute_input": "2021-08-27T20:27:04.730934Z",
     "iopub.status.busy": "2021-08-27T20:27:04.729740Z",
     "iopub.status.idle": "2021-08-27T20:27:06.067852Z",
     "shell.execute_reply": "2021-08-27T20:27:06.067174Z",
     "shell.execute_reply.started": "2021-08-27T20:25:47.901446Z"
    },
    "papermill": {
     "duration": 1.395716,
     "end_time": "2021-08-27T20:27:06.068131",
     "exception": false,
     "start_time": "2021-08-27T20:27:04.672415",
     "status": "completed"
    },
    "tags": []
   },
   "outputs": [],
   "source": [
    "import pandas as pd\n",
    "import matplotlib.pyplot as plt\n",
    "import seaborn as sns\n",
    "import numpy as np\n",
    "from scipy.stats import norm\n",
    "from sklearn.preprocessing import StandardScaler\n",
    "from scipy import stats\n",
    "import warnings\n",
    "warnings.filterwarnings('ignore')\n",
    "%matplotlib inline\n",
    "from sklearn.preprocessing import LabelEncoder\n",
    "from scipy.stats import norm, skew\n",
    "from scipy.special import boxcox1p\n",
    "from sklearn.linear_model import LinearRegression\n",
    "from sklearn.linear_model import Ridge\n",
    "from sklearn.linear_model import Lasso\n",
    "from sklearn.model_selection import GridSearchCV\n",
    "from sklearn.pipeline import make_pipeline\n",
    "from sklearn.preprocessing import RobustScaler\n",
    "from sklearn.base import BaseEstimator, TransformerMixin, RegressorMixin, clone\n",
    "from sklearn.model_selection import KFold, cross_val_score, train_test_split\n",
    "from sklearn.metrics import mean_squared_error, r2_score"
   ]
  },
  {
   "cell_type": "markdown",
   "metadata": {
    "papermill": {
     "duration": 0.052317,
     "end_time": "2021-08-27T20:27:06.173678",
     "exception": false,
     "start_time": "2021-08-27T20:27:06.121361",
     "status": "completed"
    },
    "tags": []
   },
   "source": [
    "---\n",
    "##### Data Wrangling, Exploration and EDA"
   ]
  },
  {
   "cell_type": "code",
   "execution_count": 91,
   "metadata": {
    "execution": {
     "iopub.execute_input": "2021-08-27T20:27:06.284636Z",
     "iopub.status.busy": "2021-08-27T20:27:06.283880Z",
     "iopub.status.idle": "2021-08-27T20:27:06.383003Z",
     "shell.execute_reply": "2021-08-27T20:27:06.383699Z",
     "shell.execute_reply.started": "2021-08-27T20:26:17.720968Z"
    },
    "papermill": {
     "duration": 0.156963,
     "end_time": "2021-08-27T20:27:06.383888",
     "exception": false,
     "start_time": "2021-08-27T20:27:06.226925",
     "status": "completed"
    },
    "tags": []
   },
   "outputs": [],
   "source": [
    "df_train = pd.read_csv('data/train.csv')\n",
    "df_test = pd.read_csv('data/test.csv')"
   ]
  },
  {
   "cell_type": "code",
   "execution_count": 92,
   "metadata": {
    "execution": {
     "iopub.execute_input": "2021-08-27T20:27:07.712412Z",
     "iopub.status.busy": "2021-08-27T20:27:07.711599Z",
     "iopub.status.idle": "2021-08-27T20:27:07.715507Z",
     "shell.execute_reply": "2021-08-27T20:27:07.714810Z",
     "shell.execute_reply.started": "2021-08-27T20:26:19.435108Z"
    },
    "papermill": {
     "duration": 0.064505,
     "end_time": "2021-08-27T20:27:07.715642",
     "exception": false,
     "start_time": "2021-08-27T20:27:07.651137",
     "status": "completed"
    },
    "tags": []
   },
   "outputs": [],
   "source": [
    "df_train[\"SalePrice\"] = np.log1p(df_train[\"SalePrice\"])"
   ]
  },
  {
   "cell_type": "code",
   "execution_count": 95,
   "metadata": {},
   "outputs": [
    {
     "data": {
      "text/plain": [
       "0       12.247699\n",
       "1       12.109016\n",
       "2       12.317171\n",
       "3       11.849405\n",
       "4       12.429220\n",
       "          ...    \n",
       "1455    12.072547\n",
       "1456    12.254868\n",
       "1457    12.493133\n",
       "1458    11.864469\n",
       "1459    11.901590\n",
       "Name: SalePrice, Length: 1456, dtype: float64"
      ]
     },
     "execution_count": 95,
     "metadata": {},
     "output_type": "execute_result"
    }
   ],
   "source": [
    "df_train[\"SalePrice\"]"
   ]
  },
  {
   "cell_type": "code",
   "execution_count": 93,
   "metadata": {
    "execution": {
     "iopub.execute_input": "2021-08-27T20:27:19.966070Z",
     "iopub.status.busy": "2021-08-27T20:27:19.965089Z",
     "iopub.status.idle": "2021-08-27T20:27:19.969202Z",
     "shell.execute_reply": "2021-08-27T20:27:19.969657Z",
     "shell.execute_reply.started": "2021-08-27T20:26:30.742078Z"
    },
    "papermill": {
     "duration": 0.080971,
     "end_time": "2021-08-27T20:27:19.969858",
     "exception": false,
     "start_time": "2021-08-27T20:27:19.888887",
     "status": "completed"
    },
    "tags": []
   },
   "outputs": [],
   "source": [
    "df_train.drop(df_train[(df_train['GrLivArea']>4000) & (df_train['SalePrice']<300000)].index, inplace=True)"
   ]
  },
  {
   "cell_type": "code",
   "execution_count": 85,
   "metadata": {
    "execution": {
     "iopub.execute_input": "2021-08-27T20:27:21.199593Z",
     "iopub.status.busy": "2021-08-27T20:27:21.198529Z",
     "iopub.status.idle": "2021-08-27T20:27:21.200861Z",
     "shell.execute_reply": "2021-08-27T20:27:21.201391Z",
     "shell.execute_reply.started": "2021-08-27T20:26:31.506682Z"
    },
    "papermill": {
     "duration": 0.08137,
     "end_time": "2021-08-27T20:27:21.201558",
     "exception": false,
     "start_time": "2021-08-27T20:27:21.120188",
     "status": "completed"
    },
    "tags": []
   },
   "outputs": [],
   "source": [
    "target = df_train.SalePrice.copy()"
   ]
  },
  {
   "cell_type": "code",
   "execution_count": 14,
   "metadata": {
    "execution": {
     "iopub.execute_input": "2021-08-27T20:27:21.499196Z",
     "iopub.status.busy": "2021-08-27T20:27:21.495718Z",
     "iopub.status.idle": "2021-08-27T20:27:21.529619Z",
     "shell.execute_reply": "2021-08-27T20:27:21.528821Z",
     "shell.execute_reply.started": "2021-08-27T20:26:31.514031Z"
    },
    "papermill": {
     "duration": 0.109497,
     "end_time": "2021-08-27T20:27:21.529836",
     "exception": false,
     "start_time": "2021-08-27T20:27:21.420339",
     "status": "completed"
    },
    "tags": []
   },
   "outputs": [
    {
     "name": "stdout",
     "output_type": "stream",
     "text": [
      "all_data size is : (2915, 80)\n"
     ]
    }
   ],
   "source": [
    "df = pd.concat((df_train, df_test)).reset_index(drop=True)\n",
    "df.drop(['SalePrice'], axis=1, inplace=True)"
   ]
  },
  {
   "cell_type": "code",
   "execution_count": 16,
   "metadata": {
    "execution": {
     "iopub.execute_input": "2021-08-27T20:27:22.191384Z",
     "iopub.status.busy": "2021-08-27T20:27:22.190703Z",
     "iopub.status.idle": "2021-08-27T20:27:22.199608Z",
     "shell.execute_reply": "2021-08-27T20:27:22.198929Z",
     "shell.execute_reply.started": "2021-08-27T20:26:31.618458Z"
    },
    "papermill": {
     "duration": 0.085336,
     "end_time": "2021-08-27T20:27:22.199748",
     "exception": false,
     "start_time": "2021-08-27T20:27:22.114412",
     "status": "completed"
    },
    "tags": []
   },
   "outputs": [],
   "source": [
    "for col in [\"PoolQC\", \"MiscFeature\", \"Alley\", \"Fence\", \"FireplaceQu\"] :\n",
    "    df[col] = df[col].fillna(\"No\")"
   ]
  },
  {
   "cell_type": "code",
   "execution_count": 17,
   "metadata": {
    "execution": {
     "iopub.execute_input": "2021-08-27T20:27:22.349409Z",
     "iopub.status.busy": "2021-08-27T20:27:22.348637Z",
     "iopub.status.idle": "2021-08-27T20:27:22.356222Z",
     "shell.execute_reply": "2021-08-27T20:27:22.355689Z",
     "shell.execute_reply.started": "2021-08-27T20:26:31.627321Z"
    },
    "papermill": {
     "duration": 0.083486,
     "end_time": "2021-08-27T20:27:22.356380",
     "exception": false,
     "start_time": "2021-08-27T20:27:22.272894",
     "status": "completed"
    },
    "tags": []
   },
   "outputs": [],
   "source": [
    "for col in ['GarageType', 'GarageFinish', 'GarageQual', 'GarageCond']:\n",
    "    df[col] = df[col].fillna('No')"
   ]
  },
  {
   "cell_type": "code",
   "execution_count": 18,
   "metadata": {
    "execution": {
     "iopub.execute_input": "2021-08-27T20:27:22.508651Z",
     "iopub.status.busy": "2021-08-27T20:27:22.507938Z",
     "iopub.status.idle": "2021-08-27T20:27:22.510868Z",
     "shell.execute_reply": "2021-08-27T20:27:22.510361Z",
     "shell.execute_reply.started": "2021-08-27T20:26:31.642430Z"
    },
    "papermill": {
     "duration": 0.081699,
     "end_time": "2021-08-27T20:27:22.511008",
     "exception": false,
     "start_time": "2021-08-27T20:27:22.429309",
     "status": "completed"
    },
    "tags": []
   },
   "outputs": [],
   "source": [
    "for col in ['GarageYrBlt', 'GarageArea', 'GarageCars']:\n",
    "    df[col] = df[col].fillna(0)"
   ]
  },
  {
   "cell_type": "code",
   "execution_count": 19,
   "metadata": {
    "execution": {
     "iopub.execute_input": "2021-08-27T20:27:22.665121Z",
     "iopub.status.busy": "2021-08-27T20:27:22.664390Z",
     "iopub.status.idle": "2021-08-27T20:27:22.667283Z",
     "shell.execute_reply": "2021-08-27T20:27:22.666752Z",
     "shell.execute_reply.started": "2021-08-27T20:26:31.652752Z"
    },
    "papermill": {
     "duration": 0.082796,
     "end_time": "2021-08-27T20:27:22.667424",
     "exception": false,
     "start_time": "2021-08-27T20:27:22.584628",
     "status": "completed"
    },
    "tags": []
   },
   "outputs": [],
   "source": [
    "for col in ['BsmtFinSF1', 'BsmtFinSF2', 'BsmtUnfSF','TotalBsmtSF', 'BsmtFullBath', 'BsmtHalfBath']:\n",
    "    df[col] = df[col].fillna(0)"
   ]
  },
  {
   "cell_type": "code",
   "execution_count": 20,
   "metadata": {
    "execution": {
     "iopub.execute_input": "2021-08-27T20:27:22.823866Z",
     "iopub.status.busy": "2021-08-27T20:27:22.823159Z",
     "iopub.status.idle": "2021-08-27T20:27:22.825323Z",
     "shell.execute_reply": "2021-08-27T20:27:22.825804Z",
     "shell.execute_reply.started": "2021-08-27T20:26:31.664306Z"
    },
    "papermill": {
     "duration": 0.085409,
     "end_time": "2021-08-27T20:27:22.825984",
     "exception": false,
     "start_time": "2021-08-27T20:27:22.740575",
     "status": "completed"
    },
    "tags": []
   },
   "outputs": [],
   "source": [
    "for col in ['BsmtQual', 'BsmtCond', 'BsmtExposure', 'BsmtFinType1', 'BsmtFinType2']:\n",
    "    df[col] = df[col].fillna('No')"
   ]
  },
  {
   "cell_type": "code",
   "execution_count": 21,
   "metadata": {
    "execution": {
     "iopub.execute_input": "2021-08-27T20:27:22.977436Z",
     "iopub.status.busy": "2021-08-27T20:27:22.976742Z",
     "iopub.status.idle": "2021-08-27T20:27:22.982088Z",
     "shell.execute_reply": "2021-08-27T20:27:22.982579Z",
     "shell.execute_reply.started": "2021-08-27T20:26:31.676744Z"
    },
    "papermill": {
     "duration": 0.082302,
     "end_time": "2021-08-27T20:27:22.982745",
     "exception": false,
     "start_time": "2021-08-27T20:27:22.900443",
     "status": "completed"
    },
    "tags": []
   },
   "outputs": [],
   "source": [
    "df[\"MasVnrType\"] = df[\"MasVnrType\"].fillna(\"None\")\n",
    "df[\"MasVnrArea\"] = df[\"MasVnrArea\"].fillna(0)"
   ]
  },
  {
   "cell_type": "code",
   "execution_count": 23,
   "metadata": {
    "execution": {
     "iopub.execute_input": "2021-08-27T20:27:23.619135Z",
     "iopub.status.busy": "2021-08-27T20:27:23.618504Z",
     "iopub.status.idle": "2021-08-27T20:27:23.626654Z",
     "shell.execute_reply": "2021-08-27T20:27:23.626150Z",
     "shell.execute_reply.started": "2021-08-27T20:26:31.877332Z"
    },
    "papermill": {
     "duration": 0.084497,
     "end_time": "2021-08-27T20:27:23.626792",
     "exception": false,
     "start_time": "2021-08-27T20:27:23.542295",
     "status": "completed"
    },
    "tags": []
   },
   "outputs": [],
   "source": [
    "df['MSZoning'] = df['MSZoning'].fillna(df['MSZoning'].mode()[0])"
   ]
  },
  {
   "cell_type": "code",
   "execution_count": 24,
   "metadata": {
    "execution": {
     "iopub.execute_input": "2021-08-27T20:27:23.929671Z",
     "iopub.status.busy": "2021-08-27T20:27:23.928939Z",
     "iopub.status.idle": "2021-08-27T20:27:23.931677Z",
     "shell.execute_reply": "2021-08-27T20:27:23.932128Z",
     "shell.execute_reply.started": "2021-08-27T20:26:31.887431Z"
    },
    "papermill": {
     "duration": 0.083954,
     "end_time": "2021-08-27T20:27:23.932295",
     "exception": false,
     "start_time": "2021-08-27T20:27:23.848341",
     "status": "completed"
    },
    "tags": []
   },
   "outputs": [],
   "source": [
    "df[\"Functional\"] = df[\"Functional\"].fillna(\"Typ\")"
   ]
  },
  {
   "cell_type": "code",
   "execution_count": 25,
   "metadata": {
    "execution": {
     "iopub.execute_input": "2021-08-27T20:27:24.236362Z",
     "iopub.status.busy": "2021-08-27T20:27:24.234815Z",
     "iopub.status.idle": "2021-08-27T20:27:24.248751Z",
     "shell.execute_reply": "2021-08-27T20:27:24.248235Z",
     "shell.execute_reply.started": "2021-08-27T20:26:31.904186Z"
    },
    "papermill": {
     "duration": 0.094781,
     "end_time": "2021-08-27T20:27:24.248903",
     "exception": false,
     "start_time": "2021-08-27T20:27:24.154122",
     "status": "completed"
    },
    "tags": []
   },
   "outputs": [],
   "source": [
    "df[\"LotFrontage\"] = df.groupby(\"Neighborhood\")[\"LotFrontage\"].transform(lambda x: x.fillna(x.median()))"
   ]
  },
  {
   "cell_type": "code",
   "execution_count": 27,
   "metadata": {
    "execution": {
     "iopub.execute_input": "2021-08-27T20:27:24.766673Z",
     "iopub.status.busy": "2021-08-27T20:27:24.766010Z",
     "iopub.status.idle": "2021-08-27T20:27:24.767790Z",
     "shell.execute_reply": "2021-08-27T20:27:24.768370Z",
     "shell.execute_reply.started": "2021-08-27T20:26:31.987634Z"
    },
    "papermill": {
     "duration": 0.082956,
     "end_time": "2021-08-27T20:27:24.768541",
     "exception": false,
     "start_time": "2021-08-27T20:27:24.685585",
     "status": "completed"
    },
    "tags": []
   },
   "outputs": [],
   "source": [
    "df['KitchenQual'] = df['KitchenQual'].fillna(df['KitchenQual'].mode()[0])"
   ]
  },
  {
   "cell_type": "code",
   "execution_count": 28,
   "metadata": {
    "execution": {
     "iopub.execute_input": "2021-08-27T20:27:24.922667Z",
     "iopub.status.busy": "2021-08-27T20:27:24.922059Z",
     "iopub.status.idle": "2021-08-27T20:27:24.932232Z",
     "shell.execute_reply": "2021-08-27T20:27:24.932739Z",
     "shell.execute_reply.started": "2021-08-27T20:26:31.995088Z"
    },
    "papermill": {
     "duration": 0.089655,
     "end_time": "2021-08-27T20:27:24.932916",
     "exception": false,
     "start_time": "2021-08-27T20:27:24.843261",
     "status": "completed"
    },
    "tags": []
   },
   "outputs": [],
   "source": [
    "df['MSSubClass'] = df['MSSubClass'].fillna(\"No\")\n",
    "df['Exterior1st'] = df['Exterior1st'].fillna(df['Exterior1st'].mode()[0])\n",
    "df['Exterior2nd'] = df['Exterior2nd'].fillna(df['Exterior2nd'].mode()[0])\n",
    "df['Electrical'] = df['Electrical'].fillna(df['Electrical'].mode()[0])"
   ]
  },
  {
   "cell_type": "code",
   "execution_count": 29,
   "metadata": {
    "execution": {
     "iopub.execute_input": "2021-08-27T20:27:25.087157Z",
     "iopub.status.busy": "2021-08-27T20:27:25.086478Z",
     "iopub.status.idle": "2021-08-27T20:27:25.093454Z",
     "shell.execute_reply": "2021-08-27T20:27:25.092880Z",
     "shell.execute_reply.started": "2021-08-27T20:26:32.011515Z"
    },
    "papermill": {
     "duration": 0.085204,
     "end_time": "2021-08-27T20:27:25.093592",
     "exception": false,
     "start_time": "2021-08-27T20:27:25.008388",
     "status": "completed"
    },
    "tags": []
   },
   "outputs": [],
   "source": [
    "df.drop([\"Utilities\"], axis=1, inplace=True)"
   ]
  },
  {
   "cell_type": "code",
   "execution_count": 30,
   "metadata": {
    "execution": {
     "iopub.execute_input": "2021-08-27T20:27:25.400916Z",
     "iopub.status.busy": "2021-08-27T20:27:25.399257Z",
     "iopub.status.idle": "2021-08-27T20:27:25.407917Z",
     "shell.execute_reply": "2021-08-27T20:27:25.407373Z",
     "shell.execute_reply.started": "2021-08-27T20:26:32.023150Z"
    },
    "papermill": {
     "duration": 0.089752,
     "end_time": "2021-08-27T20:27:25.408070",
     "exception": false,
     "start_time": "2021-08-27T20:27:25.318318",
     "status": "completed"
    },
    "tags": []
   },
   "outputs": [],
   "source": [
    "for col in [\"MSSubClass\", \"OverallCond\", \"YrSold\", \"MoSold\"]:\n",
    "    df[col] = df[col].apply(str)"
   ]
  },
  {
   "cell_type": "code",
   "execution_count": 31,
   "metadata": {
    "execution": {
     "iopub.execute_input": "2021-08-27T20:27:25.712739Z",
     "iopub.status.busy": "2021-08-27T20:27:25.711997Z",
     "iopub.status.idle": "2021-08-27T20:27:25.786170Z",
     "shell.execute_reply": "2021-08-27T20:27:25.786728Z",
     "shell.execute_reply.started": "2021-08-27T20:26:32.038954Z"
    },
    "papermill": {
     "duration": 0.156061,
     "end_time": "2021-08-27T20:27:25.786920",
     "exception": false,
     "start_time": "2021-08-27T20:27:25.630859",
     "status": "completed"
    },
    "tags": []
   },
   "outputs": [],
   "source": [
    "cols = ('FireplaceQu', 'BsmtQual', 'BsmtCond', 'GarageQual', 'GarageCond', \n",
    "        'ExterQual', 'ExterCond','HeatingQC', 'PoolQC', 'KitchenQual', 'BsmtFinType1', \n",
    "        'BsmtFinType2', 'Functional', 'Fence', 'BsmtExposure', 'GarageFinish', 'LandSlope',\n",
    "        'LotShape', 'PavedDrive', 'Street', 'Alley', 'CentralAir', 'MSSubClass', 'OverallCond', \n",
    "        'YrSold', 'MoSold')\n",
    "\n",
    "for c in cols:\n",
    "    lbl = LabelEncoder() \n",
    "    lbl.fit(list(df[c].values)) \n",
    "    df[c] = lbl.transform(list(df[c].values))"
   ]
  },
  {
   "cell_type": "code",
   "execution_count": 32,
   "metadata": {
    "execution": {
     "iopub.execute_input": "2021-08-27T20:27:26.088582Z",
     "iopub.status.busy": "2021-08-27T20:27:26.087859Z",
     "iopub.status.idle": "2021-08-27T20:27:26.128186Z",
     "shell.execute_reply": "2021-08-27T20:27:26.127654Z",
     "shell.execute_reply.started": "2021-08-27T20:26:32.120349Z"
    },
    "papermill": {
     "duration": 0.117052,
     "end_time": "2021-08-27T20:27:26.128363",
     "exception": false,
     "start_time": "2021-08-27T20:27:26.011311",
     "status": "completed"
    },
    "tags": []
   },
   "outputs": [
    {
     "data": {
      "text/html": [
       "<div>\n",
       "<style scoped>\n",
       "    .dataframe tbody tr th:only-of-type {\n",
       "        vertical-align: middle;\n",
       "    }\n",
       "\n",
       "    .dataframe tbody tr th {\n",
       "        vertical-align: top;\n",
       "    }\n",
       "\n",
       "    .dataframe thead th {\n",
       "        text-align: right;\n",
       "    }\n",
       "</style>\n",
       "<table border=\"1\" class=\"dataframe\">\n",
       "  <thead>\n",
       "    <tr style=\"text-align: right;\">\n",
       "      <th></th>\n",
       "      <th>Skew</th>\n",
       "    </tr>\n",
       "  </thead>\n",
       "  <tbody>\n",
       "    <tr>\n",
       "      <th>MiscVal</th>\n",
       "      <td>21.932147</td>\n",
       "    </tr>\n",
       "    <tr>\n",
       "      <th>PoolArea</th>\n",
       "      <td>18.701829</td>\n",
       "    </tr>\n",
       "    <tr>\n",
       "      <th>LotArea</th>\n",
       "      <td>13.123758</td>\n",
       "    </tr>\n",
       "    <tr>\n",
       "      <th>LowQualFinSF</th>\n",
       "      <td>12.080315</td>\n",
       "    </tr>\n",
       "    <tr>\n",
       "      <th>3SsnPorch</th>\n",
       "      <td>11.368094</td>\n",
       "    </tr>\n",
       "    <tr>\n",
       "      <th>LandSlope</th>\n",
       "      <td>4.971350</td>\n",
       "    </tr>\n",
       "    <tr>\n",
       "      <th>KitchenAbvGr</th>\n",
       "      <td>4.298845</td>\n",
       "    </tr>\n",
       "    <tr>\n",
       "      <th>BsmtFinSF2</th>\n",
       "      <td>4.142863</td>\n",
       "    </tr>\n",
       "    <tr>\n",
       "      <th>EnclosedPorch</th>\n",
       "      <td>4.000796</td>\n",
       "    </tr>\n",
       "    <tr>\n",
       "      <th>ScreenPorch</th>\n",
       "      <td>3.943508</td>\n",
       "    </tr>\n",
       "  </tbody>\n",
       "</table>\n",
       "</div>"
      ],
      "text/plain": [
       "                    Skew\n",
       "MiscVal        21.932147\n",
       "PoolArea       18.701829\n",
       "LotArea        13.123758\n",
       "LowQualFinSF   12.080315\n",
       "3SsnPorch      11.368094\n",
       "LandSlope       4.971350\n",
       "KitchenAbvGr    4.298845\n",
       "BsmtFinSF2      4.142863\n",
       "EnclosedPorch   4.000796\n",
       "ScreenPorch     3.943508"
      ]
     },
     "execution_count": 32,
     "metadata": {},
     "output_type": "execute_result"
    }
   ],
   "source": [
    "numeric_feats = df.dtypes[df.dtypes != \"object\"].index\n",
    "skewed_feats = df[numeric_feats].apply(lambda x: skew(x)).sort_values(ascending=False)\n",
    "skewed_features = skewness.index\n",
    "lam = 0.15\n",
    "for col in skewed_features:\n",
    "    df[col] = boxcox1p(df[col], lam)"
   ]
  },
  {
   "cell_type": "code",
   "execution_count": 34,
   "metadata": {
    "execution": {
     "iopub.execute_input": "2021-08-27T20:27:26.771981Z",
     "iopub.status.busy": "2021-08-27T20:27:26.770993Z",
     "iopub.status.idle": "2021-08-27T20:27:26.778546Z",
     "shell.execute_reply": "2021-08-27T20:27:26.778992Z",
     "shell.execute_reply.started": "2021-08-27T20:26:32.204890Z"
    },
    "papermill": {
     "duration": 0.085494,
     "end_time": "2021-08-27T20:27:26.779204",
     "exception": false,
     "start_time": "2021-08-27T20:27:26.693710",
     "status": "completed"
    },
    "tags": []
   },
   "outputs": [],
   "source": [
    "df.drop([\"Id\"], axis=1, inplace=True)"
   ]
  },
  {
   "cell_type": "code",
   "execution_count": 35,
   "metadata": {
    "execution": {
     "iopub.execute_input": "2021-08-27T20:27:26.934680Z",
     "iopub.status.busy": "2021-08-27T20:27:26.933589Z",
     "iopub.status.idle": "2021-08-27T20:27:26.964708Z",
     "shell.execute_reply": "2021-08-27T20:27:26.965202Z",
     "shell.execute_reply.started": "2021-08-27T20:26:32.213661Z"
    },
    "papermill": {
     "duration": 0.110829,
     "end_time": "2021-08-27T20:27:26.965380",
     "exception": false,
     "start_time": "2021-08-27T20:27:26.854551",
     "status": "completed"
    },
    "tags": []
   },
   "outputs": [],
   "source": [
    "df = pd.get_dummies(df)"
   ]
  },
  {
   "cell_type": "code",
   "execution_count": 36,
   "metadata": {
    "execution": {
     "iopub.execute_input": "2021-08-27T20:27:27.118223Z",
     "iopub.status.busy": "2021-08-27T20:27:27.117230Z",
     "iopub.status.idle": "2021-08-27T20:27:27.122972Z",
     "shell.execute_reply": "2021-08-27T20:27:27.122367Z",
     "shell.execute_reply.started": "2021-08-27T20:26:32.252333Z"
    },
    "papermill": {
     "duration": 0.083194,
     "end_time": "2021-08-27T20:27:27.123131",
     "exception": false,
     "start_time": "2021-08-27T20:27:27.039937",
     "status": "completed"
    },
    "tags": []
   },
   "outputs": [],
   "source": [
    "train = df[:df_train.shape[0]]\n",
    "test = df[df_train.shape[0]:]"
   ]
  },
  {
   "cell_type": "code",
   "execution_count": 37,
   "metadata": {
    "execution": {
     "iopub.execute_input": "2021-08-27T20:27:27.278384Z",
     "iopub.status.busy": "2021-08-27T20:27:27.277365Z",
     "iopub.status.idle": "2021-08-27T20:27:27.284377Z",
     "shell.execute_reply": "2021-08-27T20:27:27.284835Z",
     "shell.execute_reply.started": "2021-08-27T20:26:32.258005Z"
    },
    "papermill": {
     "duration": 0.086506,
     "end_time": "2021-08-27T20:27:27.285005",
     "exception": false,
     "start_time": "2021-08-27T20:27:27.198499",
     "status": "completed"
    },
    "tags": []
   },
   "outputs": [],
   "source": [
    "num_vars = train.select_dtypes(include=['int64','float64']).columns"
   ]
  },
  {
   "cell_type": "code",
   "execution_count": 38,
   "metadata": {
    "execution": {
     "iopub.execute_input": "2021-08-27T20:27:27.439943Z",
     "iopub.status.busy": "2021-08-27T20:27:27.438968Z",
     "iopub.status.idle": "2021-08-27T20:27:27.515815Z",
     "shell.execute_reply": "2021-08-27T20:27:27.516321Z",
     "shell.execute_reply.started": "2021-08-27T20:26:32.273405Z"
    },
    "papermill": {
     "duration": 0.15513,
     "end_time": "2021-08-27T20:27:27.516507",
     "exception": false,
     "start_time": "2021-08-27T20:27:27.361377",
     "status": "completed"
    },
    "tags": []
   },
   "outputs": [],
   "source": [
    "scaler = StandardScaler()\n",
    "train[num_vars] = scaler.fit_transform(train[num_vars])\n",
    "test[num_vars] = scaler.transform(test[num_vars])"
   ]
  },
  {
   "cell_type": "markdown",
   "metadata": {
    "papermill": {
     "duration": 0.074033,
     "end_time": "2021-08-27T20:27:27.665252",
     "exception": false,
     "start_time": "2021-08-27T20:27:27.591219",
     "status": "completed"
    },
    "tags": []
   },
   "source": [
    "---\n",
    "\n",
    "### Training Models:"
   ]
  },
  {
   "cell_type": "code",
   "execution_count": 96,
   "metadata": {},
   "outputs": [
    {
     "data": {
      "text/plain": [
       "0       12.247699\n",
       "1       12.109016\n",
       "2       12.317171\n",
       "3       11.849405\n",
       "4       12.429220\n",
       "          ...    \n",
       "1455    12.072547\n",
       "1456    12.254868\n",
       "1457    12.493133\n",
       "1458    11.864469\n",
       "1459    11.901590\n",
       "Name: SalePrice, Length: 1456, dtype: float64"
      ]
     },
     "execution_count": 96,
     "metadata": {},
     "output_type": "execute_result"
    }
   ],
   "source": [
    "target"
   ]
  },
  {
   "cell_type": "code",
   "execution_count": 39,
   "metadata": {
    "execution": {
     "iopub.execute_input": "2021-08-27T20:27:27.817701Z",
     "iopub.status.busy": "2021-08-27T20:27:27.816714Z",
     "iopub.status.idle": "2021-08-27T20:27:27.825897Z",
     "shell.execute_reply": "2021-08-27T20:27:27.825325Z",
     "shell.execute_reply.started": "2021-08-27T20:26:32.356318Z"
    },
    "papermill": {
     "duration": 0.086243,
     "end_time": "2021-08-27T20:27:27.826045",
     "exception": false,
     "start_time": "2021-08-27T20:27:27.739802",
     "status": "completed"
    },
    "tags": []
   },
   "outputs": [],
   "source": [
    "X_train, X_test, y_train, y_test = train_test_split(train, target, test_size=0.2, random_state=42)"
   ]
  },
  {
   "cell_type": "markdown",
   "metadata": {
    "papermill": {
     "duration": 0.076022,
     "end_time": "2021-08-27T20:27:27.976547",
     "exception": false,
     "start_time": "2021-08-27T20:27:27.900525",
     "status": "completed"
    },
    "tags": []
   },
   "source": [
    "---\n",
    "### Trying  Ridge Regression:"
   ]
  },
  {
   "cell_type": "code",
   "execution_count": 40,
   "metadata": {
    "execution": {
     "iopub.execute_input": "2021-08-27T20:27:28.131971Z",
     "iopub.status.busy": "2021-08-27T20:27:28.131025Z",
     "iopub.status.idle": "2021-08-27T20:27:32.798928Z",
     "shell.execute_reply": "2021-08-27T20:27:32.799888Z",
     "shell.execute_reply.started": "2021-08-27T20:26:32.366414Z"
    },
    "papermill": {
     "duration": 4.747743,
     "end_time": "2021-08-27T20:27:32.800187",
     "exception": false,
     "start_time": "2021-08-27T20:27:28.052444",
     "status": "completed"
    },
    "tags": []
   },
   "outputs": [
    {
     "name": "stdout",
     "output_type": "stream",
     "text": [
      "Fitting 5 folds for each of 26 candidates, totalling 130 fits\n"
     ]
    },
    {
     "name": "stderr",
     "output_type": "stream",
     "text": [
      "[Parallel(n_jobs=1)]: Using backend SequentialBackend with 1 concurrent workers.\n",
      "[Parallel(n_jobs=1)]: Done 130 out of 130 | elapsed:    2.0s finished\n"
     ]
    },
    {
     "data": {
      "text/plain": [
       "GridSearchCV(cv=5, estimator=Ridge(),\n",
       "             param_grid={'alpha': [0.0001, 0.001, 0.01, 0.05, 0.1, 0.2, 0.3,\n",
       "                                   0.4, 0.5, 0.6, 0.7, 0.8, 0.9, 1.0, 2.0, 3.0,\n",
       "                                   4.0, 5.0, 6.0, 7.0, 8.0, 9.0, 10.0, 20, 50,\n",
       "                                   100]},\n",
       "             return_train_score=True, scoring='neg_mean_squared_error',\n",
       "             verbose=1)"
      ]
     },
     "execution_count": 40,
     "metadata": {},
     "output_type": "execute_result"
    }
   ],
   "source": [
    "params = {'alpha': [0.0001, 0.001, 0.01, 0.05, 0.1, \n",
    "                 0.2, 0.3, 0.4, 0.5, 0.6, 0.7, 0.8, 0.9, 1.0, 2.0, 3.0, \n",
    "                 4.0, 5.0, 6.0, 7.0, 8.0, 9.0, 10.0, 20, 50, 100]\n",
    "         }\n",
    "\n",
    "\n",
    "ridge = Ridge()\n",
    "\n",
    "folds = 5\n",
    "model_cv = GridSearchCV(estimator = ridge, \n",
    "                        param_grid = params, \n",
    "                        scoring= 'neg_mean_squared_error', \n",
    "                        cv = folds, \n",
    "                        return_train_score=True,\n",
    "                        verbose = 1)    \n",
    "\n",
    "model_cv.fit(X_train, y_train) "
   ]
  },
  {
   "cell_type": "code",
   "execution_count": 41,
   "metadata": {
    "execution": {
     "iopub.execute_input": "2021-08-27T20:27:33.007465Z",
     "iopub.status.busy": "2021-08-27T20:27:33.006461Z",
     "iopub.status.idle": "2021-08-27T20:27:33.009608Z",
     "shell.execute_reply": "2021-08-27T20:27:33.009091Z",
     "shell.execute_reply.started": "2021-08-27T20:26:36.945899Z"
    },
    "papermill": {
     "duration": 0.08366,
     "end_time": "2021-08-27T20:27:33.009752",
     "exception": false,
     "start_time": "2021-08-27T20:27:32.926092",
     "status": "completed"
    },
    "tags": []
   },
   "outputs": [],
   "source": [
    "ridge = model_cv.best_estimator_"
   ]
  },
  {
   "cell_type": "code",
   "execution_count": 42,
   "metadata": {
    "execution": {
     "iopub.execute_input": "2021-08-27T20:27:33.171938Z",
     "iopub.status.busy": "2021-08-27T20:27:33.170866Z",
     "iopub.status.idle": "2021-08-27T20:27:33.177597Z",
     "shell.execute_reply": "2021-08-27T20:27:33.178449Z",
     "shell.execute_reply.started": "2021-08-27T20:26:36.955108Z"
    },
    "papermill": {
     "duration": 0.092962,
     "end_time": "2021-08-27T20:27:33.178708",
     "exception": false,
     "start_time": "2021-08-27T20:27:33.085746",
     "status": "completed"
    },
    "tags": []
   },
   "outputs": [
    {
     "name": "stdout",
     "output_type": "stream",
     "text": [
      "0.9373187358598052\n"
     ]
    }
   ],
   "source": [
    "y_train_pred_ridge = ridge.predict(X_train)\n",
    "print(r2_score(y_true=y_train, y_pred=y_train_pred_ridge))"
   ]
  },
  {
   "cell_type": "code",
   "execution_count": 43,
   "metadata": {
    "execution": {
     "iopub.execute_input": "2021-08-27T20:27:33.392319Z",
     "iopub.status.busy": "2021-08-27T20:27:33.391259Z",
     "iopub.status.idle": "2021-08-27T20:27:33.397608Z",
     "shell.execute_reply": "2021-08-27T20:27:33.398577Z",
     "shell.execute_reply.started": "2021-08-27T20:26:36.976251Z"
    },
    "papermill": {
     "duration": 0.092672,
     "end_time": "2021-08-27T20:27:33.398836",
     "exception": false,
     "start_time": "2021-08-27T20:27:33.306164",
     "status": "completed"
    },
    "tags": []
   },
   "outputs": [
    {
     "name": "stdout",
     "output_type": "stream",
     "text": [
      "0.9071329515522366\n"
     ]
    }
   ],
   "source": [
    "y_test_pred_ridge = ridge.predict(X_test)\n",
    "print(r2_score(y_true=y_test, y_pred=y_test_pred_ridge))"
   ]
  },
  {
   "cell_type": "code",
   "execution_count": 44,
   "metadata": {
    "execution": {
     "iopub.execute_input": "2021-08-27T20:27:33.609755Z",
     "iopub.status.busy": "2021-08-27T20:27:33.609082Z",
     "iopub.status.idle": "2021-08-27T20:27:33.612738Z",
     "shell.execute_reply": "2021-08-27T20:27:33.612247Z",
     "shell.execute_reply.started": "2021-08-27T20:26:36.993641Z"
    },
    "papermill": {
     "duration": 0.086346,
     "end_time": "2021-08-27T20:27:33.612876",
     "exception": false,
     "start_time": "2021-08-27T20:27:33.526530",
     "status": "completed"
    },
    "tags": []
   },
   "outputs": [
    {
     "name": "stdout",
     "output_type": "stream",
     "text": [
      "RMSE Validation is: \n",
      " 0.014667279857542213\n"
     ]
    }
   ],
   "source": [
    "print ('RMSE Validation is: \\n', mean_squared_error(y_test, y_test_pred_ridge))"
   ]
  },
  {
   "cell_type": "markdown",
   "metadata": {
    "papermill": {
     "duration": 0.07677,
     "end_time": "2021-08-27T20:27:33.767021",
     "exception": false,
     "start_time": "2021-08-27T20:27:33.690251",
     "status": "completed"
    },
    "tags": []
   },
   "source": [
    "---"
   ]
  },
  {
   "cell_type": "markdown",
   "metadata": {
    "papermill": {
     "duration": 0.077663,
     "end_time": "2021-08-27T20:27:33.922471",
     "exception": false,
     "start_time": "2021-08-27T20:27:33.844808",
     "status": "completed"
    },
    "tags": []
   },
   "source": [
    "### Trying Lasso Regression"
   ]
  },
  {
   "cell_type": "code",
   "execution_count": 45,
   "metadata": {
    "execution": {
     "iopub.execute_input": "2021-08-27T20:27:34.082955Z",
     "iopub.status.busy": "2021-08-27T20:27:34.082296Z",
     "iopub.status.idle": "2021-08-27T20:27:35.985747Z",
     "shell.execute_reply": "2021-08-27T20:27:35.986663Z",
     "shell.execute_reply.started": "2021-08-27T20:26:37.002736Z"
    },
    "papermill": {
     "duration": 1.987904,
     "end_time": "2021-08-27T20:27:35.986958",
     "exception": false,
     "start_time": "2021-08-27T20:27:33.999054",
     "status": "completed"
    },
    "tags": []
   },
   "outputs": [
    {
     "name": "stderr",
     "output_type": "stream",
     "text": [
      "[Parallel(n_jobs=1)]: Using backend SequentialBackend with 1 concurrent workers.\n"
     ]
    },
    {
     "name": "stdout",
     "output_type": "stream",
     "text": [
      "Fitting 5 folds for each of 5 candidates, totalling 25 fits\n"
     ]
    },
    {
     "name": "stderr",
     "output_type": "stream",
     "text": [
      "[Parallel(n_jobs=1)]: Done  25 out of  25 | elapsed:    0.8s finished\n"
     ]
    },
    {
     "data": {
      "text/plain": [
       "GridSearchCV(cv=5, estimator=Lasso(),\n",
       "             param_grid={'alpha': [5e-05, 0.0001, 0.001, 0.008, 0.01]},\n",
       "             return_train_score=True, scoring='neg_mean_squared_error',\n",
       "             verbose=1)"
      ]
     },
     "execution_count": 45,
     "metadata": {},
     "output_type": "execute_result"
    }
   ],
   "source": [
    "params = {'alpha': [0.00005, 0.0001, 0.001, 0.008, 0.01]}\n",
    "lasso = Lasso()\n",
    "\n",
    "model_cv_l = GridSearchCV(estimator = lasso, \n",
    "                        param_grid = params, \n",
    "                        scoring= 'neg_mean_squared_error', \n",
    "                        cv = folds, \n",
    "                        return_train_score=True,\n",
    "                        verbose = 1)            \n",
    "\n",
    "model_cv_l.fit(X_train, y_train)"
   ]
  },
  {
   "cell_type": "code",
   "execution_count": 46,
   "metadata": {
    "execution": {
     "iopub.execute_input": "2021-08-27T20:27:36.178451Z",
     "iopub.status.busy": "2021-08-27T20:27:36.177403Z",
     "iopub.status.idle": "2021-08-27T20:27:36.180064Z",
     "shell.execute_reply": "2021-08-27T20:27:36.179453Z",
     "shell.execute_reply.started": "2021-08-27T20:26:38.694998Z"
    },
    "papermill": {
     "duration": 0.086037,
     "end_time": "2021-08-27T20:27:36.180209",
     "exception": false,
     "start_time": "2021-08-27T20:27:36.094172",
     "status": "completed"
    },
    "tags": []
   },
   "outputs": [],
   "source": [
    "lasso = model_cv_l.best_estimator_"
   ]
  },
  {
   "cell_type": "code",
   "execution_count": 47,
   "metadata": {
    "execution": {
     "iopub.execute_input": "2021-08-27T20:27:36.341549Z",
     "iopub.status.busy": "2021-08-27T20:27:36.340544Z",
     "iopub.status.idle": "2021-08-27T20:27:36.354561Z",
     "shell.execute_reply": "2021-08-27T20:27:36.355380Z",
     "shell.execute_reply.started": "2021-08-27T20:26:38.709302Z"
    },
    "papermill": {
     "duration": 0.096319,
     "end_time": "2021-08-27T20:27:36.355634",
     "exception": false,
     "start_time": "2021-08-27T20:27:36.259315",
     "status": "completed"
    },
    "tags": []
   },
   "outputs": [
    {
     "name": "stdout",
     "output_type": "stream",
     "text": [
      "0.9314932638688753\n"
     ]
    }
   ],
   "source": [
    "y_train_pred_lasso = lasso.predict(X_train)\n",
    "print(r2_score(y_true=y_train, y_pred=y_train_pred_lasso))"
   ]
  },
  {
   "cell_type": "code",
   "execution_count": 48,
   "metadata": {
    "execution": {
     "iopub.execute_input": "2021-08-27T20:27:36.573253Z",
     "iopub.status.busy": "2021-08-27T20:27:36.572167Z",
     "iopub.status.idle": "2021-08-27T20:27:36.576856Z",
     "shell.execute_reply": "2021-08-27T20:27:36.577802Z",
     "shell.execute_reply.started": "2021-08-27T20:26:38.737918Z"
    },
    "papermill": {
     "duration": 0.093235,
     "end_time": "2021-08-27T20:27:36.578065",
     "exception": false,
     "start_time": "2021-08-27T20:27:36.484830",
     "status": "completed"
    },
    "tags": []
   },
   "outputs": [
    {
     "name": "stdout",
     "output_type": "stream",
     "text": [
      "0.9053962604610747\n"
     ]
    }
   ],
   "source": [
    "y_test_pred_lasso = lasso.predict(X_test)\n",
    "print(r2_score(y_true=y_test, y_pred=y_test_pred_lasso))"
   ]
  },
  {
   "cell_type": "code",
   "execution_count": 49,
   "metadata": {
    "execution": {
     "iopub.execute_input": "2021-08-27T20:27:36.796253Z",
     "iopub.status.busy": "2021-08-27T20:27:36.795265Z",
     "iopub.status.idle": "2021-08-27T20:27:36.799426Z",
     "shell.execute_reply": "2021-08-27T20:27:36.798860Z",
     "shell.execute_reply.started": "2021-08-27T20:26:38.764724Z"
    },
    "papermill": {
     "duration": 0.08956,
     "end_time": "2021-08-27T20:27:36.799575",
     "exception": false,
     "start_time": "2021-08-27T20:27:36.710015",
     "status": "completed"
    },
    "tags": []
   },
   "outputs": [
    {
     "name": "stdout",
     "output_type": "stream",
     "text": [
      "RMSE Validation is: \n",
      " 0.014941570197182978\n"
     ]
    }
   ],
   "source": [
    "print ('RMSE Validation is: \\n', mean_squared_error(y_test, y_test_pred_lasso))"
   ]
  },
  {
   "cell_type": "markdown",
   "metadata": {
    "papermill": {
     "duration": 0.079668,
     "end_time": "2021-08-27T20:27:36.959304",
     "exception": false,
     "start_time": "2021-08-27T20:27:36.879636",
     "status": "completed"
    },
    "tags": []
   },
   "source": [
    "----"
   ]
  },
  {
   "cell_type": "markdown",
   "metadata": {
    "papermill": {
     "duration": 0.07898,
     "end_time": "2021-08-27T20:27:37.118801",
     "exception": false,
     "start_time": "2021-08-27T20:27:37.039821",
     "status": "completed"
    },
    "tags": []
   },
   "source": [
    "### Preparing submission:"
   ]
  },
  {
   "cell_type": "code",
   "execution_count": 101,
   "metadata": {},
   "outputs": [
    {
     "data": {
      "text/plain": [
       "Index(['GarageYrBlt', 'GarageFinish', 'GarageCars', 'GarageArea', 'GarageQual',\n",
       "       'GarageCond', 'PavedDrive', 'WoodDeckSF', 'OpenPorchSF',\n",
       "       'EnclosedPorch', '3SsnPorch', 'ScreenPorch', 'PoolArea', 'PoolQC',\n",
       "       'Fence', 'MiscVal', 'MoSold', 'YrSold', 'MSZoning_C (all)',\n",
       "       'MSZoning_FV'],\n",
       "      dtype='object')"
      ]
     },
     "execution_count": 101,
     "metadata": {},
     "output_type": "execute_result"
    }
   ],
   "source": [
    "test.columns[40:60]"
   ]
  },
  {
   "cell_type": "code",
   "execution_count": 50,
   "metadata": {
    "execution": {
     "iopub.execute_input": "2021-08-27T20:27:37.282646Z",
     "iopub.status.busy": "2021-08-27T20:27:37.281676Z",
     "iopub.status.idle": "2021-08-27T20:27:37.292377Z",
     "shell.execute_reply": "2021-08-27T20:27:37.293176Z",
     "shell.execute_reply.started": "2021-08-27T20:26:38.783772Z"
    },
    "papermill": {
     "duration": 0.094583,
     "end_time": "2021-08-27T20:27:37.293455",
     "exception": false,
     "start_time": "2021-08-27T20:27:37.198872",
     "status": "completed"
    },
    "tags": []
   },
   "outputs": [],
   "source": [
    "preds = np.exp(ridge.predict(test))"
   ]
  },
  {
   "cell_type": "code",
   "execution_count": 51,
   "metadata": {
    "execution": {
     "iopub.execute_input": "2021-08-27T20:27:37.510606Z",
     "iopub.status.busy": "2021-08-27T20:27:37.509917Z",
     "iopub.status.idle": "2021-08-27T20:27:37.512922Z",
     "shell.execute_reply": "2021-08-27T20:27:37.512435Z",
     "shell.execute_reply.started": "2021-08-27T20:26:38.807174Z"
    },
    "papermill": {
     "duration": 0.087593,
     "end_time": "2021-08-27T20:27:37.513095",
     "exception": false,
     "start_time": "2021-08-27T20:27:37.425502",
     "status": "completed"
    },
    "tags": []
   },
   "outputs": [],
   "source": [
    "predictions = pd.DataFrame({'Id': df_test['Id'] ,'SalePrice': preds })"
   ]
  },
  {
   "cell_type": "code",
   "execution_count": 52,
   "metadata": {
    "execution": {
     "iopub.execute_input": "2021-08-27T20:27:37.676051Z",
     "iopub.status.busy": "2021-08-27T20:27:37.675373Z",
     "iopub.status.idle": "2021-08-27T20:27:37.686770Z",
     "shell.execute_reply": "2021-08-27T20:27:37.686106Z",
     "shell.execute_reply.started": "2021-08-27T20:26:38.825165Z"
    },
    "papermill": {
     "duration": 0.094656,
     "end_time": "2021-08-27T20:27:37.686908",
     "exception": false,
     "start_time": "2021-08-27T20:27:37.592252",
     "status": "completed"
    },
    "tags": []
   },
   "outputs": [],
   "source": [
    "predictions.to_csv(\"preds.csv\",index=False)"
   ]
  },
  {
   "cell_type": "code",
   "execution_count": 53,
   "metadata": {
    "execution": {
     "iopub.execute_input": "2021-08-27T20:27:37.855145Z",
     "iopub.status.busy": "2021-08-27T20:27:37.854151Z",
     "iopub.status.idle": "2021-08-27T20:27:37.858537Z",
     "shell.execute_reply": "2021-08-27T20:27:37.857998Z",
     "shell.execute_reply.started": "2021-08-27T20:26:38.859377Z"
    },
    "papermill": {
     "duration": 0.091536,
     "end_time": "2021-08-27T20:27:37.858669",
     "exception": false,
     "start_time": "2021-08-27T20:27:37.767133",
     "status": "completed"
    },
    "tags": []
   },
   "outputs": [
    {
     "data": {
      "text/plain": [
       "0       116228.506408\n",
       "1       155733.849045\n",
       "2       181324.042705\n",
       "3       192517.325108\n",
       "4       190389.584537\n",
       "            ...      \n",
       "1454     85492.716876\n",
       "1455     81710.933270\n",
       "1456    169910.576369\n",
       "1457    121431.552289\n",
       "1458    223529.422606\n",
       "Name: SalePrice, Length: 1459, dtype: float64"
      ]
     },
     "execution_count": 53,
     "metadata": {},
     "output_type": "execute_result"
    }
   ],
   "source": [
    "predictions.SalePrice"
   ]
  }
 ],
 "metadata": {
  "kernelspec": {
   "display_name": "Python 3",
   "language": "python",
   "name": "python3"
  },
  "language_info": {
   "codemirror_mode": {
    "name": "ipython",
    "version": 3
   },
   "file_extension": ".py",
   "mimetype": "text/x-python",
   "name": "python",
   "nbconvert_exporter": "python",
   "pygments_lexer": "ipython3",
   "version": "3.8.3"
  },
  "papermill": {
   "default_parameters": {},
   "duration": 42.518234,
   "end_time": "2021-08-27T20:27:38.850382",
   "environment_variables": {},
   "exception": null,
   "input_path": "__notebook__.ipynb",
   "output_path": "__notebook__.ipynb",
   "parameters": {},
   "start_time": "2021-08-27T20:26:56.332148",
   "version": "2.3.3"
  }
 },
 "nbformat": 4,
 "nbformat_minor": 5
}
