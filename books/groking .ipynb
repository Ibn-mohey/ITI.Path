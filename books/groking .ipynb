{
 "cells": [
  {
   "cell_type": "markdown",
   "metadata": {},
   "source": [
    "### CH4\n"
   ]
  },
  {
   "cell_type": "code",
   "execution_count": 3,
   "metadata": {},
   "outputs": [
    {
     "name": "stdout",
     "output_type": "stream",
     "text": [
      "hello, mohey !\n",
      "how are you mohey\n",
      "getting ready to say bye\n",
      "ok bey\n"
     ]
    }
   ],
   "source": [
    "def greet(name):\n",
    "    print(f'hello, {name} !')\n",
    "    greet2(name)\n",
    "    print(f'getting ready to say bye')\n",
    "    bey()\n",
    "def greet2(name):\n",
    "    print(f'how are you {name}')\n",
    "def bey():\n",
    "    print(f\"ok bey\")\n",
    "greet('mohey')"
   ]
  },
  {
   "cell_type": "markdown",
   "metadata": {},
   "source": [
    "### CH5\n"
   ]
  },
  {
   "cell_type": "code",
   "execution_count": 34,
   "metadata": {},
   "outputs": [],
   "source": [
    "def sum_array(array):\n",
    "    if len(array) == 1:\n",
    "        return array[0]\n",
    "    else:\n",
    "        return array[0] + sum_array(array[1:])"
   ]
  },
  {
   "cell_type": "code",
   "execution_count": 35,
   "metadata": {},
   "outputs": [
    {
     "data": {
      "text/plain": [
       "15"
      ]
     },
     "execution_count": 35,
     "metadata": {},
     "output_type": "execute_result"
    }
   ],
   "source": [
    "test = [1, 2, 3, 4, 5]\n",
    "sum_array(test)"
   ]
  },
  {
   "cell_type": "code",
   "execution_count": 41,
   "metadata": {},
   "outputs": [
    {
     "data": {
      "text/plain": [
       "5"
      ]
     },
     "execution_count": 41,
     "metadata": {},
     "output_type": "execute_result"
    }
   ],
   "source": [
    "def count_ithems(array):\n",
    "    if len(array) == 1:\n",
    "        return 1\n",
    "    else:\n",
    "        return (1 + count_ithems(array[1:]))\n",
    "test = [1, 2, 3, 4, 5]\n",
    "count_ithems(test)"
   ]
  },
  {
   "cell_type": "code",
   "execution_count": null,
   "metadata": {},
   "outputs": [],
   "source": [
    "def max_number(array):\n",
    "    if len(array) == 1:\n",
    "        return array[0]\n",
    "    else:\n",
    "        if  \n",
    "test = [1, 2, 3, 4, 5]\n",
    "count_ithems(test)"
   ]
  },
  {
   "cell_type": "code",
   "execution_count": 211,
   "metadata": {},
   "outputs": [],
   "source": [
    "def binarySearch(arr, value, l = None , r = None):\n",
    "    if l == None:\n",
    "         l = 0 \n",
    "    if r == None:\n",
    "        r = len(arr)-1\n",
    "    \n",
    "    ordered_array = sorted(arr)\n",
    "    \n",
    "\n",
    "    # Check base case\n",
    "    \n",
    "    if r >= l: \n",
    "        mid = l + (r - l) // 2\n",
    "\n",
    "        if ordered_array[mid] == value:\n",
    "            print(f\"{value} is found at {mid} index\")\n",
    "        \n",
    "        elif ordered_array[mid] > value:\n",
    "            return binarySearch(ordered_array, value, l, (mid-1))\n",
    " \n",
    "        # Else the element can only be present\n",
    "        # in right subarray\n",
    "        else:\n",
    "            return binarySearch(ordered_array, value, (mid + 1), r)\n",
    " \n",
    "    else:\n",
    "        # Element is not present in the array\n",
    "        print(f\"{value} not found\")"
   ]
  },
  {
   "cell_type": "code",
   "execution_count": 212,
   "metadata": {},
   "outputs": [
    {
     "name": "stdout",
     "output_type": "stream",
     "text": [
      "10 is found at 6 index\n",
      "5 is found at 4 index\n",
      "100 not found\n"
     ]
    }
   ],
   "source": [
    "test = [1, 2, 3, 4, 5,6,10,52]\n",
    "binarySearch(test,10)\n",
    "binarySearch(test,5)\n",
    "binarySearch(test,100)"
   ]
  },
  {
   "cell_type": "code",
   "execution_count": 213,
   "metadata": {},
   "outputs": [],
   "source": [
    "def QuiqSort(array):\n",
    "    if len(array) < 2:\n",
    "        return array\n",
    "    else:\n",
    "        p = array[0]\n",
    "        less  = [i for i in array[1:] if i <= p]\n",
    "        greater = [i for i in array[1:] if i>p]\n",
    "        return QuiqSort(less) + [p] + QuiqSort(greater)"
   ]
  },
  {
   "cell_type": "code",
   "execution_count": 214,
   "metadata": {},
   "outputs": [
    {
     "data": {
      "text/plain": [
       "[1, 2, 3, 4, 5, 6, 10, 52]"
      ]
     },
     "execution_count": 214,
     "metadata": {},
     "output_type": "execute_result"
    }
   ],
   "source": [
    "test = [1, 2, 3, 4, 5,6,10,52]\n",
    "QuiqSort(test)"
   ]
  },
  {
   "cell_type": "code",
   "execution_count": null,
   "metadata": {},
   "outputs": [],
   "source": []
  }
 ],
 "metadata": {
  "kernelspec": {
   "display_name": "Python 3",
   "language": "python",
   "name": "python3"
  },
  "language_info": {
   "codemirror_mode": {
    "name": "ipython",
    "version": 3
   },
   "file_extension": ".py",
   "mimetype": "text/x-python",
   "name": "python",
   "nbconvert_exporter": "python",
   "pygments_lexer": "ipython3",
   "version": "3.8.3"
  }
 },
 "nbformat": 4,
 "nbformat_minor": 4
}
