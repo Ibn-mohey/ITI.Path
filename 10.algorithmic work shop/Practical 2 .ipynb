{
 "cells": [
  {
   "cell_type": "markdown",
   "metadata": {},
   "source": [
    "Using Linear search algorithm write a function to detect the position (index) of a user defined number from a list of given numbers . <br>"
   ]
  },
  {
   "cell_type": "code",
   "execution_count": 12,
   "metadata": {},
   "outputs": [],
   "source": [
    "def linearSearch(list, item):\n",
    "    for i in range(0, len(list)):\n",
    "        if (list[i] == item):\n",
    "            return i\n",
    "    return -1"
   ]
  },
  {
   "cell_type": "code",
   "execution_count": 13,
   "metadata": {
    "scrolled": true
   },
   "outputs": [
    {
     "name": "stdout",
     "output_type": "stream",
     "text": [
      "4\n",
      "-1\n"
     ]
    }
   ],
   "source": [
    "test = [1,2,3,4,5,6]\n",
    "print(linearSearch(test,5))\n",
    "print(linearSearch(test,7))"
   ]
  },
  {
   "cell_type": "markdown",
   "metadata": {},
   "source": [
    "Try the above example using Binary search algorithm. <br>"
   ]
  },
  {
   "cell_type": "code",
   "execution_count": 57,
   "metadata": {},
   "outputs": [],
   "source": [
    "def binarySearch(mylist, item, l = 0, r =-1):\n",
    "\n",
    "    if r == -1:\n",
    "        r = len(mylist)-1\n",
    "        sortedList = sorted(mylist)\n",
    "    \n",
    "    # Check base case\n",
    "    if r >= l:\n",
    "        \n",
    "        mid = l + (r - l) // 2\n",
    "        # check middle\n",
    "        if sortedList[mid] == item:\n",
    "            return mid\n",
    "        \n",
    "        # If element is smaller than mid >> left array\n",
    "        elif sortedList[mid] > item:\n",
    "            return binarySearch(sortedList, item,l,(mid-1))\n",
    "\n",
    "        # If element is smaller than mid >> Right array\n",
    "        else:\n",
    "            return binarySearch(sortedList, item,(mid + 1),r)\n",
    "\n",
    "    else:\n",
    "        # Element is not present in the array\n",
    "        return -1"
   ]
  },
  {
   "cell_type": "code",
   "execution_count": 72,
   "metadata": {},
   "outputs": [
    {
     "data": {
      "text/plain": [
       "[1, 3, 5, 50]"
      ]
     },
     "execution_count": 72,
     "metadata": {},
     "output_type": "execute_result"
    }
   ],
   "source": [
    "test = [1,5,3,50]\n",
    "test.sort()\n",
    "test"
   ]
  },
  {
   "cell_type": "code",
   "execution_count": 76,
   "metadata": {},
   "outputs": [],
   "source": [
    "def binary_search(lst,x):\n",
    "    lst.sort()\n",
    "    start = 0\n",
    "    end = len(lst)-1\n",
    "    while (end>=start):\n",
    "        mid = ((end+start)//2)\n",
    "        if (x> lst[mid]):\n",
    "            start = mid+1\n",
    "        elif(x < lst[mid]):\n",
    "            end = mid-1\n",
    "        elif (x == lst[mid]):\n",
    "            return mid\n",
    "    return -1\n"
   ]
  },
  {
   "cell_type": "code",
   "execution_count": 78,
   "metadata": {},
   "outputs": [
    {
     "name": "stdout",
     "output_type": "stream",
     "text": [
      "4\n",
      "-1\n"
     ]
    }
   ],
   "source": [
    "test = [1,2,3,4,9,20]\n",
    "print(binary_search(test, 9))\n",
    "print(binary_search(test, 21))"
   ]
  },
  {
   "cell_type": "code",
   "execution_count": 58,
   "metadata": {},
   "outputs": [
    {
     "name": "stdout",
     "output_type": "stream",
     "text": [
      "8\n",
      "-1\n"
     ]
    }
   ],
   "source": [
    "test = range(1,20)\n",
    "print(binarySearch(test, 9))\n",
    "print(binarySearch(test, 21))"
   ]
  },
  {
   "cell_type": "markdown",
   "metadata": {},
   "source": [
    "Using (GCD) algorithm to sort a list of defined numbers <br>\n",
    "AKA merge sort ?"
   ]
  },
  {
   "cell_type": "code",
   "execution_count": 68,
   "metadata": {},
   "outputs": [],
   "source": [
    "def mergeSort(list):\n",
    "    \n",
    "    if len(list) > 1:\n",
    "        mid = len(list)//2\n",
    "        lArray = list[:mid]\n",
    "        rArray = list[mid:]\n",
    "        mergeSort(lArray)\n",
    "        mergeSort(rArray)\n",
    "        \n",
    "        i = j = k = 0\n",
    "\n",
    "        while i < len(lArray) and j < len(rArray):\n",
    "            if lArray[i] < rArray[j]:\n",
    "                list[k] = lArray[i]\n",
    "                i += 1\n",
    "            else:\n",
    "                list[k] = rArray[j]\n",
    "                j += 1\n",
    "            k += 1\n",
    "\n",
    "        # get extra items\n",
    "        while i < len(lArray):\n",
    "            list[k] = lArray[i]\n",
    "            i += 1\n",
    "            k += 1\n",
    "\n",
    "        while j < len(rArray):\n",
    "            list[k] = rArray[j]\n",
    "            j += 1\n",
    "            k += 1\n",
    "        return list"
   ]
  },
  {
   "cell_type": "code",
   "execution_count": 70,
   "metadata": {},
   "outputs": [
    {
     "name": "stdout",
     "output_type": "stream",
     "text": [
      "[12, 11, 13, 5, 6, 7]\n",
      "[5, 6, 7, 11, 12, 13]\n"
     ]
    }
   ],
   "source": [
    "test = [12, 11, 13, 5, 6, 7]\n",
    "print(test)\n",
    "mergeSort(test)\n",
    "print(test)\n"
   ]
  },
  {
   "cell_type": "code",
   "execution_count": null,
   "metadata": {},
   "outputs": [],
   "source": []
  }
 ],
 "metadata": {
  "kernelspec": {
   "display_name": "Python 3",
   "language": "python",
   "name": "python3"
  },
  "language_info": {
   "codemirror_mode": {
    "name": "ipython",
    "version": 3
   },
   "file_extension": ".py",
   "mimetype": "text/x-python",
   "name": "python",
   "nbconvert_exporter": "python",
   "pygments_lexer": "ipython3",
   "version": "3.8.5"
  }
 },
 "nbformat": 4,
 "nbformat_minor": 4
}
