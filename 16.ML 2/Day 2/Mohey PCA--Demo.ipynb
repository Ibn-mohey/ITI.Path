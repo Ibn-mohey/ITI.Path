{
 "cells": [
  {
   "cell_type": "code",
   "execution_count": 1,
   "metadata": {},
   "outputs": [],
   "source": [
    "from plotnine import *\n",
    "from sklearn.decomposition import PCA\n",
    "import pandas as pd\n",
    "import pandas as pd\n",
    "from sklearn.preprocessing import StandardScaler\n",
    "from sklearn.linear_model import LogisticRegression\n",
    "import numpy as np\n"
   ]
  },
  {
   "cell_type": "code",
   "execution_count": 2,
   "metadata": {},
   "outputs": [],
   "source": [
    "from sklearn.datasets import load_breast_cancer\n",
    "data = load_breast_cancer()\n",
    "df = pd.DataFrame(data.data, columns=data.feature_names)\n",
    "df['target'] = pd.Series(data.target)\n"
   ]
  },
  {
   "cell_type": "code",
   "execution_count": 3,
   "metadata": {},
   "outputs": [
    {
     "data": {
      "text/plain": [
       "['clear_data_home',\n",
       " 'dump_svmlight_file',\n",
       " 'fetch_20newsgroups',\n",
       " 'fetch_20newsgroups_vectorized',\n",
       " 'fetch_lfw_pairs',\n",
       " 'fetch_lfw_people',\n",
       " 'fetch_olivetti_faces',\n",
       " 'fetch_species_distributions',\n",
       " 'fetch_california_housing',\n",
       " 'fetch_covtype',\n",
       " 'fetch_rcv1',\n",
       " 'fetch_kddcup99',\n",
       " 'fetch_openml',\n",
       " 'get_data_home',\n",
       " 'load_boston',\n",
       " 'load_diabetes',\n",
       " 'load_digits',\n",
       " 'load_files',\n",
       " 'load_iris',\n",
       " 'load_breast_cancer',\n",
       " 'load_linnerud',\n",
       " 'load_sample_image',\n",
       " 'load_sample_images',\n",
       " 'load_svmlight_file',\n",
       " 'load_svmlight_files',\n",
       " 'load_wine',\n",
       " 'make_biclusters',\n",
       " 'make_blobs',\n",
       " 'make_circles',\n",
       " 'make_classification',\n",
       " 'make_checkerboard',\n",
       " 'make_friedman1',\n",
       " 'make_friedman2',\n",
       " 'make_friedman3',\n",
       " 'make_gaussian_quantiles',\n",
       " 'make_hastie_10_2',\n",
       " 'make_low_rank_matrix',\n",
       " 'make_moons',\n",
       " 'make_multilabel_classification',\n",
       " 'make_regression',\n",
       " 'make_s_curve',\n",
       " 'make_sparse_coded_signal',\n",
       " 'make_sparse_spd_matrix',\n",
       " 'make_sparse_uncorrelated',\n",
       " 'make_spd_matrix',\n",
       " 'make_swiss_roll']"
      ]
     },
     "execution_count": 3,
     "metadata": {},
     "output_type": "execute_result"
    }
   ],
   "source": [
    "import inspect\n",
    "import sklearn.datasets\n",
    "inspect.getmembers(sklearn.datasets)[0][1]"
   ]
  },
  {
   "cell_type": "code",
   "execution_count": 4,
   "metadata": {
    "scrolled": true
   },
   "outputs": [
    {
     "name": "stdout",
     "output_type": "stream",
     "text": [
      "load_boston\n",
      "(506, 14)\n",
      "229\n",
      "load_diabetes\n",
      "(442, 11)\n",
      "214\n",
      "load_digits\n",
      "(1797, 65)\n",
      "10\n",
      "load_iris\n",
      "(150, 5)\n",
      "3\n",
      "load_breast_cancer\n",
      "(569, 31)\n",
      "2\n",
      "load_wine\n",
      "(178, 14)\n",
      "3\n"
     ]
    }
   ],
   "source": [
    "for i in['load_boston', 'load_diabetes', 'load_digits', 'load_iris', 'load_breast_cancer', 'load_wine']:\n",
    "    print(i)\n",
    "    exec(f'from sklearn.datasets import {i}')\n",
    "    exec(f'data = {i}()')\n",
    "    df = pd.DataFrame(data.data, columns=data.feature_names)\n",
    "    df['target'] = pd.Series(data.target)\n",
    "    print(df.shape)\n",
    "    print(df.target.nunique())"
   ]
  },
  {
   "cell_type": "code",
   "execution_count": 5,
   "metadata": {},
   "outputs": [],
   "source": [
    " i =  'load_digits'\n",
    "exec(f'from sklearn.datasets import {i}')\n",
    "exec(f'data = {i}()')\n",
    "df = pd.DataFrame(data.data, columns=data.feature_names)\n",
    "df['target'] = pd.Series(data.target)"
   ]
  },
  {
   "cell_type": "code",
   "execution_count": 6,
   "metadata": {
    "scrolled": true
   },
   "outputs": [
    {
     "name": "stdout",
     "output_type": "stream",
     "text": [
      "Index(['pixel_0_0', 'pixel_0_1', 'pixel_0_2', 'pixel_0_3', 'pixel_0_4',\n",
      "       'pixel_0_5', 'pixel_0_6', 'pixel_0_7', 'pixel_1_0', 'pixel_1_1',\n",
      "       'pixel_1_2', 'pixel_1_3', 'pixel_1_4', 'pixel_1_5', 'pixel_1_6',\n",
      "       'pixel_1_7', 'pixel_2_0', 'pixel_2_1', 'pixel_2_2', 'pixel_2_3',\n",
      "       'pixel_2_4', 'pixel_2_5', 'pixel_2_6', 'pixel_2_7', 'pixel_3_0',\n",
      "       'pixel_3_1', 'pixel_3_2', 'pixel_3_3', 'pixel_3_4', 'pixel_3_5',\n",
      "       'pixel_3_6', 'pixel_3_7', 'pixel_4_0', 'pixel_4_1', 'pixel_4_2',\n",
      "       'pixel_4_3', 'pixel_4_4', 'pixel_4_5', 'pixel_4_6', 'pixel_4_7',\n",
      "       'pixel_5_0', 'pixel_5_1', 'pixel_5_2', 'pixel_5_3', 'pixel_5_4',\n",
      "       'pixel_5_5', 'pixel_5_6', 'pixel_5_7', 'pixel_6_0', 'pixel_6_1',\n",
      "       'pixel_6_2', 'pixel_6_3', 'pixel_6_4', 'pixel_6_5', 'pixel_6_6',\n",
      "       'pixel_6_7', 'pixel_7_0', 'pixel_7_1', 'pixel_7_2', 'pixel_7_3',\n",
      "       'pixel_7_4', 'pixel_7_5', 'pixel_7_6', 'pixel_7_7', 'target'],\n",
      "      dtype='object')\n"
     ]
    },
    {
     "data": {
      "text/plain": [
       "(1797, 65)"
      ]
     },
     "execution_count": 6,
     "metadata": {},
     "output_type": "execute_result"
    }
   ],
   "source": [
    "print(df.columns)\n",
    "df.head()\n",
    "df.shape"
   ]
  },
  {
   "cell_type": "code",
   "execution_count": 7,
   "metadata": {},
   "outputs": [],
   "source": [
    "features = df.columns.to_list()\n",
    "features.pop(-1)\n",
    "#grab all numeric columns of interest\n",
    "z = StandardScaler()\n",
    "df[features] = z.fit_transform(df[features])"
   ]
  },
  {
   "cell_type": "code",
   "execution_count": 8,
   "metadata": {
    "scrolled": true
   },
   "outputs": [],
   "source": [
    "# ggplot(df, aes(x = \"mean radius\", y = \"mean texture\")) + geom_point()"
   ]
  },
  {
   "cell_type": "code",
   "execution_count": 9,
   "metadata": {},
   "outputs": [
    {
     "data": {
      "text/plain": [
       "array([1.20339161e-01, 9.56105440e-02, 8.44441489e-02, 6.49840791e-02,\n",
       "       4.86015488e-02, 4.21411987e-02, 3.94208280e-02, 3.38938092e-02,\n",
       "       2.99822101e-02, 2.93200255e-02, 2.78180546e-02, 2.57705509e-02,\n",
       "       2.27530332e-02, 2.22717974e-02, 2.16522943e-02, 1.91416661e-02,\n",
       "       1.77554709e-02, 1.63806927e-02, 1.59646017e-02, 1.48919119e-02,\n",
       "       1.34796957e-02, 1.27193137e-02, 1.16583735e-02, 1.05764660e-02,\n",
       "       9.75315947e-03, 9.44558990e-03, 8.63013827e-03, 8.36642854e-03,\n",
       "       7.97693248e-03, 7.46471371e-03, 7.25582151e-03, 6.91911245e-03,\n",
       "       6.53908536e-03, 6.40792574e-03, 5.91384112e-03, 5.71162405e-03,\n",
       "       5.23636803e-03, 4.81807586e-03, 4.53719260e-03, 4.23162753e-03,\n",
       "       4.06053070e-03, 3.97084808e-03, 3.56493303e-03, 3.40787181e-03,\n",
       "       3.27835335e-03, 3.11032007e-03, 2.88575294e-03, 2.76489264e-03,\n",
       "       2.59174941e-03, 2.34483006e-03, 2.18256858e-03, 2.03597635e-03,\n",
       "       1.95512426e-03, 1.83318499e-03, 1.67946387e-03, 1.61236062e-03,\n",
       "       1.47762694e-03, 1.35118411e-03, 1.25100742e-03, 1.03695730e-03,\n",
       "       8.25350945e-04, 3.23475858e-33, 6.39352227e-34, 6.29595280e-34])"
      ]
     },
     "execution_count": 9,
     "metadata": {},
     "output_type": "execute_result"
    }
   ],
   "source": [
    "pca = PCA()\n",
    "pca.fit(df[features])\n",
    "pca.explained_variance_ratio_"
   ]
  },
  {
   "cell_type": "code",
   "execution_count": 10,
   "metadata": {
    "scrolled": true
   },
   "outputs": [
    {
     "data": {
      "text/html": [
       "<div>\n",
       "<style scoped>\n",
       "    .dataframe tbody tr th:only-of-type {\n",
       "        vertical-align: middle;\n",
       "    }\n",
       "\n",
       "    .dataframe tbody tr th {\n",
       "        vertical-align: top;\n",
       "    }\n",
       "\n",
       "    .dataframe thead th {\n",
       "        text-align: right;\n",
       "    }\n",
       "</style>\n",
       "<table border=\"1\" class=\"dataframe\">\n",
       "  <thead>\n",
       "    <tr style=\"text-align: right;\">\n",
       "      <th></th>\n",
       "      <th>pc</th>\n",
       "      <th>expl_var</th>\n",
       "      <th>cum_var</th>\n",
       "    </tr>\n",
       "  </thead>\n",
       "  <tbody>\n",
       "    <tr>\n",
       "      <th>0</th>\n",
       "      <td>1</td>\n",
       "      <td>1.203392e-01</td>\n",
       "      <td>0.120339</td>\n",
       "    </tr>\n",
       "    <tr>\n",
       "      <th>1</th>\n",
       "      <td>2</td>\n",
       "      <td>9.561054e-02</td>\n",
       "      <td>0.215950</td>\n",
       "    </tr>\n",
       "    <tr>\n",
       "      <th>2</th>\n",
       "      <td>3</td>\n",
       "      <td>8.444415e-02</td>\n",
       "      <td>0.300394</td>\n",
       "    </tr>\n",
       "    <tr>\n",
       "      <th>3</th>\n",
       "      <td>4</td>\n",
       "      <td>6.498408e-02</td>\n",
       "      <td>0.365378</td>\n",
       "    </tr>\n",
       "    <tr>\n",
       "      <th>4</th>\n",
       "      <td>5</td>\n",
       "      <td>4.860155e-02</td>\n",
       "      <td>0.413979</td>\n",
       "    </tr>\n",
       "    <tr>\n",
       "      <th>...</th>\n",
       "      <td>...</td>\n",
       "      <td>...</td>\n",
       "      <td>...</td>\n",
       "    </tr>\n",
       "    <tr>\n",
       "      <th>59</th>\n",
       "      <td>60</td>\n",
       "      <td>1.036957e-03</td>\n",
       "      <td>0.999175</td>\n",
       "    </tr>\n",
       "    <tr>\n",
       "      <th>60</th>\n",
       "      <td>61</td>\n",
       "      <td>8.253509e-04</td>\n",
       "      <td>1.000000</td>\n",
       "    </tr>\n",
       "    <tr>\n",
       "      <th>61</th>\n",
       "      <td>62</td>\n",
       "      <td>3.234759e-33</td>\n",
       "      <td>1.000000</td>\n",
       "    </tr>\n",
       "    <tr>\n",
       "      <th>62</th>\n",
       "      <td>63</td>\n",
       "      <td>6.393522e-34</td>\n",
       "      <td>1.000000</td>\n",
       "    </tr>\n",
       "    <tr>\n",
       "      <th>63</th>\n",
       "      <td>64</td>\n",
       "      <td>6.295953e-34</td>\n",
       "      <td>1.000000</td>\n",
       "    </tr>\n",
       "  </tbody>\n",
       "</table>\n",
       "<p>64 rows × 3 columns</p>\n",
       "</div>"
      ],
      "text/plain": [
       "    pc      expl_var   cum_var\n",
       "0    1  1.203392e-01  0.120339\n",
       "1    2  9.561054e-02  0.215950\n",
       "2    3  8.444415e-02  0.300394\n",
       "3    4  6.498408e-02  0.365378\n",
       "4    5  4.860155e-02  0.413979\n",
       "..  ..           ...       ...\n",
       "59  60  1.036957e-03  0.999175\n",
       "60  61  8.253509e-04  1.000000\n",
       "61  62  3.234759e-33  1.000000\n",
       "62  63  6.393522e-34  1.000000\n",
       "63  64  6.295953e-34  1.000000\n",
       "\n",
       "[64 rows x 3 columns]"
      ]
     },
     "execution_count": 10,
     "metadata": {},
     "output_type": "execute_result"
    }
   ],
   "source": [
    "pcaDF = pd.DataFrame({\"pc\": range(1,df.shape[1]),\"expl_var\" : pca.explained_variance_ratio_,  \"cum_var\": pca.explained_variance_ratio_.cumsum()})\n",
    "pcaDF"
   ]
  },
  {
   "cell_type": "code",
   "execution_count": 11,
   "metadata": {},
   "outputs": [
    {
     "data": {
      "image/png": "[encoded data removed]",
      "text/plain": [
       "<Figure size 640x480 with 1 Axes>"
      ]
     },
     "metadata": {},
     "output_type": "display_data"
    },
    {
     "data": {
      "text/plain": [
       "<ggplot: (105068353717)>"
      ]
     },
     "execution_count": 11,
     "metadata": {},
     "output_type": "execute_result"
    }
   ],
   "source": [
    "(ggplot(pcaDF, aes(x = \"pc\", y = \"expl_var\")) + geom_line() + geom_point())"
   ]
  },
  {
   "cell_type": "code",
   "execution_count": 12,
   "metadata": {},
   "outputs": [
    {
     "data": {
      "image/png": "[encoded data removed]",
      "text/plain": [
       "<Figure size 640x480 with 1 Axes>"
      ]
     },
     "metadata": {},
     "output_type": "display_data"
    },
    {
     "data": {
      "text/plain": [
       "<ggplot: (105068335794)>"
      ]
     },
     "execution_count": 12,
     "metadata": {},
     "output_type": "execute_result"
    }
   ],
   "source": [
    "(ggplot(pcaDF, aes(x = \"pc\", y = \"cum_var\")) + geom_line(color = \"pink\") +\n",
    " geom_point(color = \"pink\") + geom_hline(yintercept = 0.95))"
   ]
  },
  {
   "cell_type": "code",
   "execution_count": 13,
   "metadata": {},
   "outputs": [],
   "source": [
    "data = pca.transform(df[features])"
   ]
  },
  {
   "cell_type": "code",
   "execution_count": 22,
   "metadata": {},
   "outputs": [],
   "source": [
    "import time"
   ]
  },
  {
   "cell_type": "code",
   "execution_count": 28,
   "metadata": {
    "scrolled": false
   },
   "outputs": [
    {
     "name": "stdout",
     "output_type": "stream",
     "text": [
      "all data:  0.9988870339454646\n",
      "This Took 0.16203641891479492\n",
      "10 PCs:    0.899276572064552\n",
      "This Took 0.1780407428741455\n",
      "20 PCs:     0.9710628825820813\n",
      "This Took 0.18004107475280762\n",
      "30 PCs:     0.9872008903728436\n",
      "This Took 0.17304039001464844\n",
      "40 PCs:     0.993322203672788\n",
      "This Took 0.1600344181060791\n",
      "50 PCs:     0.998330550918197\n",
      "This Took 0.15703558921813965\n",
      "60 PCs:     0.998330550918197\n",
      "This Took 0.17504024505615234\n"
     ]
    }
   ],
   "source": [
    "#modeMod1\n",
    "start = time.time()\n",
    "lr1 = LogisticRegression(max_iter=1000)\n",
    "lr1.fit(df[features], df[\"target\"])\n",
    "print(\"all data: \", lr1.score(df[features], df[\"target\"]))\n",
    "print(f'This Took {time.time() - start}')\n",
    "\n",
    "start = time.time()\n",
    "df10 = pd.DataFrame(data[:, 0:10])\n",
    "lr2 = LogisticRegression(max_iter=1000)\n",
    "lr2.fit(df10, df[\"target\"])\n",
    "print(\"10 PCs:   \", lr2.score(df10, df[\"target\"]))\n",
    "print(f'This Took {time.time() - start}')\n",
    "\n",
    "start = time.time()\n",
    "df20 = pd.DataFrame(data[:,0:20])\n",
    "lr3 = LogisticRegression(max_iter=1000)\n",
    "lr3.fit(df20, df[\"target\"])\n",
    "print(\"20 PCs:    \", lr3.score(df20, df[\"target\"]))\n",
    "print(f'This Took {time.time() - start}')\n",
    "\n",
    "\n",
    "start = time.time()\n",
    "df30 = pd.DataFrame(data[:,0:30])\n",
    "lr4 = LogisticRegression(max_iter=1000)\n",
    "lr4.fit(df30, df[\"target\"])\n",
    "print(\"30 PCs:    \", lr4.score(df30, df[\"target\"]))\n",
    "print(f'This Took {time.time() - start}')\n",
    "\n",
    "start = time.time()\n",
    "df40 = pd.DataFrame(data[:,0:40])\n",
    "lr5 = LogisticRegression(max_iter=1000)\n",
    "lr5.fit(df40, df[\"target\"])\n",
    "print(\"40 PCs:    \", lr5.score(df40, df[\"target\"]))\n",
    "print(f'This Took {time.time() - start}')\n",
    "\n",
    "start = time.time()\n",
    "df50 = pd.DataFrame(data[:,0:50])\n",
    "lr5 = LogisticRegression(max_iter=1000)\n",
    "lr5.fit(df50, df[\"target\"])\n",
    "print(\"50 PCs:    \", lr5.score(df50, df[\"target\"]))\n",
    "print(f'This Took {time.time() - start}')\n",
    "\n",
    "start = time.time()\n",
    "df60 = pd.DataFrame(data[:,0:60])\n",
    "lr5 = LogisticRegression(max_iter=1000)\n",
    "lr5.fit(df60, df[\"target\"])\n",
    "print(\"60 PCs:    \", lr5.score(df60, df[\"target\"]))\n",
    "print(f'This Took {time.time() - start}')"
   ]
  },
  {
   "cell_type": "markdown",
   "metadata": {},
   "source": [
    "we can see that it gives some good answers withing some better time "
   ]
  },
  {
   "cell_type": "code",
   "execution_count": 30,
   "metadata": {},
   "outputs": [
    {
     "name": "stdout",
     "output_type": "stream",
     "text": [
      "165 ms ± 12.6 ms per loop (mean ± std. dev. of 7 runs, 10 loops each)\n"
     ]
    }
   ],
   "source": [
    "%%timeit\n",
    "start = time.time()\n",
    "df50 = pd.DataFrame(data[:,0:50])\n",
    "lr5 = LogisticRegression(max_iter=1000)\n",
    "lr5.fit(df50, df[\"target\"])"
   ]
  },
  {
   "cell_type": "code",
   "execution_count": 32,
   "metadata": {},
   "outputs": [
    {
     "name": "stdout",
     "output_type": "stream",
     "text": [
      "170 ms ± 793 µs per loop (mean ± std. dev. of 7 runs, 10 loops each)\n"
     ]
    }
   ],
   "source": [
    "%%timeit\n",
    "lr1 = LogisticRegression(max_iter=1000)\n",
    "lr1.fit(df[features], df[\"target\"])"
   ]
  },
  {
   "cell_type": "code",
   "execution_count": 33,
   "metadata": {},
   "outputs": [
    {
     "name": "stdout",
     "output_type": "stream",
     "text": [
      "50 PCs:     0.998330550918197\n"
     ]
    }
   ],
   "source": [
    "print(\"50 PCs:    \", lr5.score(df50, df[\"target\"]))"
   ]
  },
  {
   "cell_type": "code",
   "execution_count": 34,
   "metadata": {},
   "outputs": [
    {
     "name": "stdout",
     "output_type": "stream",
     "text": [
      "20 PCs:     0.9710628825820813\n"
     ]
    }
   ],
   "source": [
    "print(\"20 PCs:    \", lr3.score(df20, df[\"target\"]))"
   ]
  },
  {
   "cell_type": "markdown",
   "metadata": {},
   "source": [
    "the time differ some with nearly same accuracy "
   ]
  },
  {
   "cell_type": "code",
   "execution_count": 41,
   "metadata": {},
   "outputs": [
    {
     "name": "stdout",
     "output_type": "stream",
     "text": [
      "all data:  1.0\n",
      "This Took 0.01700425148010254\n",
      "2 PCs:    0.9662921348314607\n",
      "This Took 0.009001970291137695\n",
      "10 PCs:     1.0\n",
      "This Took 0.013002872467041016\n"
     ]
    }
   ],
   "source": [
    " i =  'load_wine'\n",
    "exec(f'from sklearn.datasets import {i}')\n",
    "exec(f'data = {i}()')\n",
    "df = pd.DataFrame(data.data, columns=data.feature_names)\n",
    "df['target'] = pd.Series(data.target)\n",
    "features = df.columns.to_list()\n",
    "features.pop(-1)\n",
    "#grab all numeric columns of interest\n",
    "z = StandardScaler()\n",
    "df[features] = z.fit_transform(df[features])\n",
    "pca = PCA()\n",
    "pca.fit(df[features])\n",
    "pca.explained_variance_ratio_\n",
    "data = pca.transform(df[features])\n",
    "#modeMod1\n",
    "start = time.time()\n",
    "lr1 = LogisticRegression(max_iter=1000)\n",
    "lr1.fit(df[features], df[\"target\"])\n",
    "print(\"all data: \", lr1.score(df[features], df[\"target\"]))\n",
    "print(f'This Took {time.time() - start}')\n",
    "\n",
    "start = time.time()\n",
    "df2 = pd.DataFrame(data[:, 0:2])\n",
    "lr2 = LogisticRegression(max_iter=1000)\n",
    "lr2.fit(df2, df[\"target\"])\n",
    "print(\"2 PCs:   \", lr2.score(df2, df[\"target\"]))\n",
    "print(f'This Took {time.time() - start}')\n",
    "\n",
    "start = time.time()\n",
    "df3 = pd.DataFrame(data[:,0:10])\n",
    "lr3 = LogisticRegression(max_iter=1000)\n",
    "lr3.fit(df3, df[\"target\"])\n",
    "print(\"10 PCs:    \", lr3.score(df3, df[\"target\"]))\n",
    "print(f'This Took {time.time() - start}')"
   ]
  }
 ],
 "metadata": {
  "hide_input": false,
  "kernelspec": {
   "display_name": "Python 3",
   "language": "python",
   "name": "python3"
  },
  "language_info": {
   "codemirror_mode": {
    "name": "ipython",
    "version": 3
   },
   "file_extension": ".py",
   "mimetype": "text/x-python",
   "name": "python",
   "nbconvert_exporter": "python",
   "pygments_lexer": "ipython3",
   "version": "3.8.3"
  },
  "toc": {
   "base_numbering": 1,
   "nav_menu": {},
   "number_sections": true,
   "sideBar": true,
   "skip_h1_title": false,
   "title_cell": "Table of Contents",
   "title_sidebar": "Contents",
   "toc_cell": false,
   "toc_position": {},
   "toc_section_display": true,
   "toc_window_display": false
  }
 },
 "nbformat": 4,
 "nbformat_minor": 4
}
