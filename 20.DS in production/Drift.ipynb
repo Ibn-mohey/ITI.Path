{
 "cells": [
  {
   "cell_type": "code",
   "execution_count": 1,
   "id": "098b503e",
   "metadata": {},
   "outputs": [
    {
     "name": "stdout",
     "output_type": "stream",
     "text": [
      "[1 0 1 ... 0 0 0]\n",
      "[1 0 1 ... 6 7 6]\n",
      "Change detected in value 6, at index 1023\n",
      "Current variance: 12.472109374999999. Previous variance 1.2988440836326562\n",
      "Change detected in value 7, at index 1055\n",
      "Current variance: 12.387265624999994. Previous variance 13.612752110218322\n",
      "Change detected in value 9, at index 1087\n",
      "Current variance: 6.924370659722226. Previous variance 10.199210189919652\n"
     ]
    }
   ],
   "source": [
    "import numpy as np\n",
    "from skmultiflow.drift_detection.adwin import ADWIN\n",
    " \n",
    "adwin = ADWIN()\n",
    " \n",
    "# Simulating a data stream as a normal distribution of 1's and 0's\n",
    "data_stream = np.random.randint(2, size=2000)\n",
    "\n",
    "print(data_stream)\n",
    "\n",
    "# Artificially shift the data from index 999 to 2000\n",
    "# by replacing the i value with a greater one\n",
    "for i in range(999, 2000):\n",
    "    data_stream[i] = np.random.randint(5, high=10)\n",
    "\n",
    "print(data_stream)\n",
    "\n",
    "previous_variance = 0\n",
    "# Add the stream elements to ADWIN and check if drift has been detected\n",
    "for i in range(2000):\n",
    "    adwin.add_element(data_stream[i])\n",
    "    if adwin.detected_change():\n",
    "        print(\"Change detected in value {}, at index {}\".format(data_stream[i], i))\n",
    "        print(\"Current variance: {}. Previous variance {}\".format(adwin.variance, previous_variance))\n",
    "    previous_variance = adwin.variance\n",
    "\n"
   ]
  },
  {
   "cell_type": "code",
   "execution_count": null,
   "id": "c4280185",
   "metadata": {},
   "outputs": [],
   "source": []
  }
 ],
 "metadata": {
  "kernelspec": {
   "display_name": "Python 3",
   "language": "python",
   "name": "python3"
  },
  "language_info": {
   "codemirror_mode": {
    "name": "ipython",
    "version": 3
   },
   "file_extension": ".py",
   "mimetype": "text/x-python",
   "name": "python",
   "nbconvert_exporter": "python",
   "pygments_lexer": "ipython3",
   "version": "3.8.8"
  }
 },
 "nbformat": 4,
 "nbformat_minor": 5
}
