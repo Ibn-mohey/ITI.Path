{
  "nbformat": 4,
  "nbformat_minor": 0,
  "metadata": {
    "colab": {
      "name": "ourWepp app",
      "provenance": [],
      "collapsed_sections": [],
      "authorship_tag": "ABX9TyO99AUTb1MSY2S4V4kOdkfI",
      "include_colab_link": true
    },
    "kernelspec": {
      "name": "python3",
      "display_name": "Python 3"
    },
    "language_info": {
      "name": "python"
    }
  },
  "cells": [
    {
      "cell_type": "markdown",
      "metadata": {
        "id": "view-in-github",
        "colab_type": "text"
      },
      "source": [
        "<a href=\"https://colab.research.google.com/github/Ibn-mohey/ITI.Path/blob/main/ZZ.Project/ourWepp_app.ipynb\" target=\"_parent\"><img src=\"https://colab.research.google.com/assets/colab-badge.svg\" alt=\"Open In Colab\"/></a>"
      ]
    },
    {
      "cell_type": "code",
      "source": [
        "!gdown --id 1D2HCvOqIPktRnTQ_kwCo3e5cxcaS2-q8\n",
        "!pip install -q git+https://github.com/AhmedAdelDraz/sumy.git  tashaphyne pyarabic transformers sentencepiece streamlit pyngrok\n",
        "!wget -q https://bin.equinox.io/c/4VmDzA7iaHb/ngrok-stable-linux-amd64.zip\n",
        "!wget -q https://raw.githubusercontent.com/Ibn-mohey/ITI.Path/main/ZZ.Project/Final%20app/utiles.py\n",
        "!wget -q https://raw.githubusercontent.com/Ibn-mohey/ITI.Path/main/ZZ.Project/Final%20app/webapp.py\n",
        "!unzip ngrok-stable-linux-amd64.zip\n",
        "!./ngrok authtoken 23fgmor9CS8ZeywC2JfQ2lzWeOx_6stA7fqsjBSAdrjCbMwko\n",
        "get_ipython().system_raw('./ngrok http 8501 &')\n"
      ],
      "metadata": {
        "colab": {
          "base_uri": "https://localhost:8080/"
        },
        "id": "1Pb7gUB-TAEy",
        "outputId": "48ab62dc-7fe7-4b06-c167-54972057b84e"
      },
      "execution_count": 2,
      "outputs": [
        {
          "output_type": "stream",
          "name": "stdout",
          "text": [
            "Archive:  ngrok-stable-linux-amd64.zip\n",
            "replace ngrok? [y]es, [n]o, [A]ll, [N]one, [r]ename: Authtoken saved to configuration file: /root/.ngrok2/ngrok.yml\n"
          ]
        }
      ]
    },
    {
      "cell_type": "code",
      "source": [
        "!curl -s http://localhost:4040/api/tunnels | python3 -c \\\n",
        "    'import sys, json; print(\"Execute the next cell and the go to the following URL: \" +json.load(sys.stdin)[\"tunnels\"][0][\"public_url\"])'\n",
        "\n",
        "!streamlit run webapp.py --server.enableWebsocketCompression=false"
      ],
      "metadata": {
        "colab": {
          "base_uri": "https://localhost:8080/"
        },
        "id": "lqFYi_m4u82d",
        "outputId": "489d84d6-55c9-4053-c04f-978e74218a2d"
      },
      "execution_count": 5,
      "outputs": [
        {
          "output_type": "stream",
          "name": "stdout",
          "text": [
            "Execute the next cell and the go to the following URL: https://6f10-34-73-134-16.ngrok.io\n",
            "\u001b[0m\n",
            "\u001b[34m\u001b[1m  You can now view your Streamlit app in your browser.\u001b[0m\n",
            "\u001b[0m\n",
            "\u001b[34m  Network URL: \u001b[0m\u001b[1mhttp://172.28.0.2:8501\u001b[0m\n",
            "\u001b[34m  External URL: \u001b[0m\u001b[1mhttp://34.73.134.16:8501\u001b[0m\n",
            "\u001b[0m\n",
            "\u001b[34m  Stopping...\u001b[0m\n",
            "\u001b[34m  Stopping...\u001b[0m\n"
          ]
        }
      ]
    }
  ]
}