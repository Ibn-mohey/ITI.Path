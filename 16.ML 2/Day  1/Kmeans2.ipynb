{
 "cells": [
  {
   "cell_type": "code",
   "execution_count": 1,
   "metadata": {},
   "outputs": [],
   "source": [
    "# K-Means Clustering\n",
    "\n",
    "# Importing the libraries\n",
    "\n",
    "import numpy as np\n",
    "import matplotlib.pyplot as plt\n",
    "import pandas as pd\n",
    "\n"
   ]
  },
  {
   "cell_type": "code",
   "execution_count": 2,
   "metadata": {},
   "outputs": [],
   "source": [
    "#load any dataset\n",
    "from sklearn.datasets import load_iris\n",
    "iris  = load_iris()\n",
    "data = np.c_[iris.data, iris.target]\n",
    "columns = np.append(iris.feature_names, [\"target\"])\n",
    "data=pd.DataFrame(data, columns=columns)\n"
   ]
  },
  {
   "cell_type": "code",
   "execution_count": 3,
   "metadata": {},
   "outputs": [
    {
     "data": {
      "text/html": [
       "<div>\n",
       "<style scoped>\n",
       "    .dataframe tbody tr th:only-of-type {\n",
       "        vertical-align: middle;\n",
       "    }\n",
       "\n",
       "    .dataframe tbody tr th {\n",
       "        vertical-align: top;\n",
       "    }\n",
       "\n",
       "    .dataframe thead th {\n",
       "        text-align: right;\n",
       "    }\n",
       "</style>\n",
       "<table border=\"1\" class=\"dataframe\">\n",
       "  <thead>\n",
       "    <tr style=\"text-align: right;\">\n",
       "      <th></th>\n",
       "      <th>sepal length (cm)</th>\n",
       "      <th>sepal width (cm)</th>\n",
       "      <th>petal length (cm)</th>\n",
       "      <th>petal width (cm)</th>\n",
       "      <th>target</th>\n",
       "    </tr>\n",
       "  </thead>\n",
       "  <tbody>\n",
       "    <tr>\n",
       "      <th>0</th>\n",
       "      <td>5.1</td>\n",
       "      <td>3.5</td>\n",
       "      <td>1.4</td>\n",
       "      <td>0.2</td>\n",
       "      <td>0.0</td>\n",
       "    </tr>\n",
       "    <tr>\n",
       "      <th>1</th>\n",
       "      <td>4.9</td>\n",
       "      <td>3.0</td>\n",
       "      <td>1.4</td>\n",
       "      <td>0.2</td>\n",
       "      <td>0.0</td>\n",
       "    </tr>\n",
       "    <tr>\n",
       "      <th>2</th>\n",
       "      <td>4.7</td>\n",
       "      <td>3.2</td>\n",
       "      <td>1.3</td>\n",
       "      <td>0.2</td>\n",
       "      <td>0.0</td>\n",
       "    </tr>\n",
       "    <tr>\n",
       "      <th>3</th>\n",
       "      <td>4.6</td>\n",
       "      <td>3.1</td>\n",
       "      <td>1.5</td>\n",
       "      <td>0.2</td>\n",
       "      <td>0.0</td>\n",
       "    </tr>\n",
       "    <tr>\n",
       "      <th>4</th>\n",
       "      <td>5.0</td>\n",
       "      <td>3.6</td>\n",
       "      <td>1.4</td>\n",
       "      <td>0.2</td>\n",
       "      <td>0.0</td>\n",
       "    </tr>\n",
       "  </tbody>\n",
       "</table>\n",
       "</div>"
      ],
      "text/plain": [
       "   sepal length (cm)  sepal width (cm)  petal length (cm)  petal width (cm)  \\\n",
       "0                5.1               3.5                1.4               0.2   \n",
       "1                4.9               3.0                1.4               0.2   \n",
       "2                4.7               3.2                1.3               0.2   \n",
       "3                4.6               3.1                1.5               0.2   \n",
       "4                5.0               3.6                1.4               0.2   \n",
       "\n",
       "   target  \n",
       "0     0.0  \n",
       "1     0.0  \n",
       "2     0.0  \n",
       "3     0.0  \n",
       "4     0.0  "
      ]
     },
     "execution_count": 3,
     "metadata": {},
     "output_type": "execute_result"
    }
   ],
   "source": [
    "data.head()"
   ]
  },
  {
   "cell_type": "code",
   "execution_count": 4,
   "metadata": {},
   "outputs": [
    {
     "data": {
      "text/plain": [
       "3"
      ]
     },
     "execution_count": 4,
     "metadata": {},
     "output_type": "execute_result"
    }
   ],
   "source": [
    "data.target.nunique()"
   ]
  },
  {
   "cell_type": "code",
   "execution_count": 5,
   "metadata": {},
   "outputs": [
    {
     "data": {
      "text/plain": [
       "array([0., 1., 2.])"
      ]
     },
     "execution_count": 5,
     "metadata": {},
     "output_type": "execute_result"
    }
   ],
   "source": [
    "data.target.unique()"
   ]
  },
  {
   "cell_type": "code",
   "execution_count": 6,
   "metadata": {},
   "outputs": [
    {
     "data": {
      "text/html": [
       "<div>\n",
       "<style scoped>\n",
       "    .dataframe tbody tr th:only-of-type {\n",
       "        vertical-align: middle;\n",
       "    }\n",
       "\n",
       "    .dataframe tbody tr th {\n",
       "        vertical-align: top;\n",
       "    }\n",
       "\n",
       "    .dataframe thead th {\n",
       "        text-align: right;\n",
       "    }\n",
       "</style>\n",
       "<table border=\"1\" class=\"dataframe\">\n",
       "  <thead>\n",
       "    <tr style=\"text-align: right;\">\n",
       "      <th></th>\n",
       "      <th>sepal length (cm)</th>\n",
       "      <th>sepal width (cm)</th>\n",
       "      <th>petal length (cm)</th>\n",
       "      <th>petal width (cm)</th>\n",
       "    </tr>\n",
       "  </thead>\n",
       "  <tbody>\n",
       "    <tr>\n",
       "      <th>0</th>\n",
       "      <td>5.1</td>\n",
       "      <td>3.5</td>\n",
       "      <td>1.4</td>\n",
       "      <td>0.2</td>\n",
       "    </tr>\n",
       "    <tr>\n",
       "      <th>1</th>\n",
       "      <td>4.9</td>\n",
       "      <td>3.0</td>\n",
       "      <td>1.4</td>\n",
       "      <td>0.2</td>\n",
       "    </tr>\n",
       "    <tr>\n",
       "      <th>2</th>\n",
       "      <td>4.7</td>\n",
       "      <td>3.2</td>\n",
       "      <td>1.3</td>\n",
       "      <td>0.2</td>\n",
       "    </tr>\n",
       "    <tr>\n",
       "      <th>3</th>\n",
       "      <td>4.6</td>\n",
       "      <td>3.1</td>\n",
       "      <td>1.5</td>\n",
       "      <td>0.2</td>\n",
       "    </tr>\n",
       "    <tr>\n",
       "      <th>4</th>\n",
       "      <td>5.0</td>\n",
       "      <td>3.6</td>\n",
       "      <td>1.4</td>\n",
       "      <td>0.2</td>\n",
       "    </tr>\n",
       "    <tr>\n",
       "      <th>...</th>\n",
       "      <td>...</td>\n",
       "      <td>...</td>\n",
       "      <td>...</td>\n",
       "      <td>...</td>\n",
       "    </tr>\n",
       "    <tr>\n",
       "      <th>145</th>\n",
       "      <td>6.7</td>\n",
       "      <td>3.0</td>\n",
       "      <td>5.2</td>\n",
       "      <td>2.3</td>\n",
       "    </tr>\n",
       "    <tr>\n",
       "      <th>146</th>\n",
       "      <td>6.3</td>\n",
       "      <td>2.5</td>\n",
       "      <td>5.0</td>\n",
       "      <td>1.9</td>\n",
       "    </tr>\n",
       "    <tr>\n",
       "      <th>147</th>\n",
       "      <td>6.5</td>\n",
       "      <td>3.0</td>\n",
       "      <td>5.2</td>\n",
       "      <td>2.0</td>\n",
       "    </tr>\n",
       "    <tr>\n",
       "      <th>148</th>\n",
       "      <td>6.2</td>\n",
       "      <td>3.4</td>\n",
       "      <td>5.4</td>\n",
       "      <td>2.3</td>\n",
       "    </tr>\n",
       "    <tr>\n",
       "      <th>149</th>\n",
       "      <td>5.9</td>\n",
       "      <td>3.0</td>\n",
       "      <td>5.1</td>\n",
       "      <td>1.8</td>\n",
       "    </tr>\n",
       "  </tbody>\n",
       "</table>\n",
       "<p>150 rows × 4 columns</p>\n",
       "</div>"
      ],
      "text/plain": [
       "     sepal length (cm)  sepal width (cm)  petal length (cm)  petal width (cm)\n",
       "0                  5.1               3.5                1.4               0.2\n",
       "1                  4.9               3.0                1.4               0.2\n",
       "2                  4.7               3.2                1.3               0.2\n",
       "3                  4.6               3.1                1.5               0.2\n",
       "4                  5.0               3.6                1.4               0.2\n",
       "..                 ...               ...                ...               ...\n",
       "145                6.7               3.0                5.2               2.3\n",
       "146                6.3               2.5                5.0               1.9\n",
       "147                6.5               3.0                5.2               2.0\n",
       "148                6.2               3.4                5.4               2.3\n",
       "149                5.9               3.0                5.1               1.8\n",
       "\n",
       "[150 rows x 4 columns]"
      ]
     },
     "execution_count": 6,
     "metadata": {},
     "output_type": "execute_result"
    }
   ],
   "source": [
    "#Question1\n",
    "##Slice data remove label\n",
    "No_target  = data.drop(['target'],axis = 1)\n",
    "No_target"
   ]
  },
  {
   "cell_type": "code",
   "execution_count": 7,
   "metadata": {},
   "outputs": [
    {
     "data": {
      "text/plain": [
       "KMeans(n_clusters=3, random_state=9110)"
      ]
     },
     "execution_count": 7,
     "metadata": {},
     "output_type": "execute_result"
    }
   ],
   "source": [
    "# Question2 \n",
    "##Apply Kmeans\n",
    "from sklearn.cluster import KMeans\n",
    "Kmeans = KMeans(n_clusters  = 3,random_state=9110)\n",
    "Kmeans.fit(No_target)"
   ]
  },
  {
   "cell_type": "code",
   "execution_count": 8,
   "metadata": {},
   "outputs": [
    {
     "data": {
      "image/png": "[encoded data removed]",
      "text/plain": [
       "<Figure size 432x288 with 1 Axes>"
      ]
     },
     "metadata": {
      "needs_background": "light"
     },
     "output_type": "display_data"
    }
   ],
   "source": [
    "# Question3 \n",
    "##Apply Elbow\n",
    "\n",
    "All_intria = [ ]\n",
    "for i in range(1,10):\n",
    "    Kmeans = KMeans(n_clusters  = i,random_state=9110)\n",
    "    Kmeans.fit(No_target)\n",
    "    \n",
    "    All_intria.append(Kmeans.inertia_)\n",
    "\n",
    "plt.plot(range(1,10),All_intria)\n",
    "plt.show()"
   ]
  },
  {
   "cell_type": "markdown",
   "metadata": {},
   "source": [
    "looks like Best At 3 "
   ]
  },
  {
   "cell_type": "code",
   "execution_count": 9,
   "metadata": {},
   "outputs": [
    {
     "data": {
      "text/plain": [
       "2.0    50\n",
       "1.0    50\n",
       "0.0    50\n",
       "Name: target, dtype: int64"
      ]
     },
     "execution_count": 9,
     "metadata": {},
     "output_type": "execute_result"
    }
   ],
   "source": [
    "data['target'].value_counts()"
   ]
  },
  {
   "cell_type": "code",
   "execution_count": 10,
   "metadata": {},
   "outputs": [
    {
     "name": "stdout",
     "output_type": "stream",
     "text": [
      "True Target Value Count\n",
      "2.0    50\n",
      "1.0    50\n",
      "0.0    50\n",
      "Name: target, dtype: int64\n",
      "___________test__________\n",
      "max iter = 1\n",
      "2    60\n",
      "1    50\n",
      "0    40\n",
      "Name: kmean, dtype: int64\n",
      "2    60\n",
      "1    50\n",
      "0    40\n",
      "Name: kmean, dtype: int64\n",
      "____________ ____________\n",
      "max iter = 10\n",
      "0    62\n",
      "1    50\n",
      "2    38\n",
      "Name: kmean, dtype: int64\n",
      "0    62\n",
      "1    50\n",
      "2    38\n",
      "Name: kmean, dtype: int64\n",
      "____________ ____________\n",
      "max iter = 100\n",
      "0    62\n",
      "1    50\n",
      "2    38\n",
      "Name: kmean, dtype: int64\n",
      "0    62\n",
      "1    50\n",
      "2    38\n",
      "Name: kmean, dtype: int64\n",
      "____________ ____________\n",
      "max iter = 1000\n",
      "0    62\n",
      "1    50\n",
      "2    38\n",
      "Name: kmean, dtype: int64\n",
      "0    62\n",
      "1    50\n",
      "2    38\n",
      "Name: kmean, dtype: int64\n",
      "____________ ____________\n"
     ]
    }
   ],
   "source": [
    "# Question2 \n",
    "##Apply Kmeans\n",
    "print('True Target Value Count')\n",
    "print(data['target'].value_counts())\n",
    "print('___________test__________')\n",
    "from sklearn.cluster import KMeans\n",
    "for i in (1,10,100,1000):\n",
    "    Kmeans = KMeans(n_clusters  = 3,random_state=9110 , max_iter = i)\n",
    "    Kmeans.fit(No_target)\n",
    "    data['kmean'] = Kmeans.labels_\n",
    "    print(f'max iter = {i}')\n",
    "    print(data['kmean'].value_counts())\n",
    "\n",
    "    print(data['kmean'].value_counts())\n",
    "    print('____________ ____________')"
   ]
  },
  {
   "cell_type": "markdown",
   "metadata": {},
   "source": [
    "10 iterration is enough here "
   ]
  },
  {
   "cell_type": "markdown",
   "metadata": {},
   "source": [
    "### play with others data sets"
   ]
  },
  {
   "cell_type": "code",
   "execution_count": 11,
   "metadata": {},
   "outputs": [
    {
     "name": "stdout",
     "output_type": "stream",
     "text": [
      "using  data set \n",
      "the n unique 3\n"
     ]
    },
    {
     "data": {
      "image/png": "[encoded data removed]",
      "text/plain": [
       "<Figure size 432x288 with 1 Axes>"
      ]
     },
     "metadata": {
      "needs_background": "light"
     },
     "output_type": "display_data"
    },
    {
     "name": "stdout",
     "output_type": "stream",
     "text": [
      "True Target Value Count\n",
      "1.0    71\n",
      "0.0    59\n",
      "2.0    48\n",
      "Name: target, dtype: int64\n",
      "___________test__________\n",
      "max iter = 1\n",
      "2    68\n",
      "0    63\n",
      "1    47\n",
      "Name: kmean, dtype: int64\n",
      "____________ ____________\n",
      "max iter = 10\n",
      "0    69\n",
      "2    62\n",
      "1    47\n",
      "Name: kmean, dtype: int64\n",
      "____________ ____________\n",
      "max iter = 100\n",
      "0    69\n",
      "1    62\n",
      "2    47\n",
      "Name: kmean, dtype: int64\n",
      "____________ ____________\n",
      "max iter = 1000\n",
      "0    69\n",
      "1    62\n",
      "2    47\n",
      "Name: kmean, dtype: int64\n",
      "____________ ____________\n"
     ]
    }
   ],
   "source": [
    "#load any dataset\n",
    "from sklearn.datasets import load_wine\n",
    "\n",
    "data_sk  = load_wine()\n",
    "data = np.c_[data_sk.data, data_sk.target]\n",
    "print(f'using  data set ')\n",
    "columns = np.append(data_sk.feature_names, [\"target\"])\n",
    "data=pd.DataFrame(data, columns=columns)\n",
    "print(f'the n unique {data.target.nunique()}')\n",
    "No_target  = data.drop(['target'],axis = 1)\n",
    "All_intria = [ ]\n",
    "for i in range(1,10):\n",
    "    Kmeans = KMeans(n_clusters  = i,random_state=9110)\n",
    "    Kmeans.fit(No_target)\n",
    "    \n",
    "    All_intria.append(Kmeans.inertia_)\n",
    "\n",
    "plt.plot(range(1,10),All_intria)\n",
    "plt.show()\n",
    "print('True Target Value Count')\n",
    "print(data['target'].value_counts())\n",
    "print('___________test__________')\n",
    "from sklearn.cluster import KMeans\n",
    "for i in (1,10,100,1000):\n",
    "    Kmeans = KMeans(n_clusters  = data.target.nunique(),random_state=9110 , max_iter = i)\n",
    "    Kmeans.fit(No_target)\n",
    "    data['kmean'] = Kmeans.labels_\n",
    "    print(f'max iter = {i}')\n",
    "    print(data['kmean'].value_counts())\n",
    "    print('____________ ____________')"
   ]
  }
 ],
 "metadata": {
  "kernelspec": {
   "display_name": "Python 3",
   "language": "python",
   "name": "python3"
  },
  "language_info": {
   "codemirror_mode": {
    "name": "ipython",
    "version": 3
   },
   "file_extension": ".py",
   "mimetype": "text/x-python",
   "name": "python",
   "nbconvert_exporter": "python",
   "pygments_lexer": "ipython3",
   "version": "3.8.3"
  },
  "toc": {
   "base_numbering": 1,
   "nav_menu": {},
   "number_sections": true,
   "sideBar": true,
   "skip_h1_title": false,
   "title_cell": "Table of Contents",
   "title_sidebar": "Contents",
   "toc_cell": false,
   "toc_position": {},
   "toc_section_display": true,
   "toc_window_display": false
  }
 },
 "nbformat": 4,
 "nbformat_minor": 4
}
